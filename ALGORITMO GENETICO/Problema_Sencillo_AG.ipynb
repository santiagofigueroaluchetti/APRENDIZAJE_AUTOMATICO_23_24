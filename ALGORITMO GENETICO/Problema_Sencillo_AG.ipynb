{
  "cells": [
    {
      "cell_type": "markdown",
      "metadata": {
        "id": "view-in-github",
        "colab_type": "text"
      },
      "source": [
        "<a href=\"https://colab.research.google.com/github/carlosemiliorabazo/APRENDIZAJE_AUTOMATICO_23_24/blob/main/ALGORITMO%20GENETICO/Problema_Sencillo_AG.ipynb\" target=\"_parent\"><img src=\"https://colab.research.google.com/assets/colab-badge.svg\" alt=\"Open In Colab\"/></a>"
      ]
    },
    {
      "cell_type": "markdown",
      "id": "19392a57-ec33-4623-ba0f-1ff5a0a771ef",
      "metadata": {
        "tags": [],
        "id": "19392a57-ec33-4623-ba0f-1ff5a0a771ef"
      },
      "source": [
        "## Algoritmos Genéticos ----------------------------------"
      ]
    },
    {
      "cell_type": "markdown",
      "id": "61524831-6b85-4ce3-9118-90c12c8e909b",
      "metadata": {
        "id": "61524831-6b85-4ce3-9118-90c12c8e909b"
      },
      "source": [
        "* Técnicas de **optimización metaherísticas**, **estocásticas** o **probabilísticas** (Holland-1962-1965-1992 y Goldberg-2006)\n",
        "* **Computacionalmente intensivos** de ahí el tiempo que pasó desde su propuesta en 1962 hasta su aplicación en problemas de ingeniería reales (1992)\n",
        "* Realiza una **búsqueda guiada** a partir de un conjunto inicial de posibles soluciones (**Población Inicial**) y va **evolucionando** a mejor en cada iteración del algoritmo (**generaciones**)\n",
        "* Normalmente, las últimas generaciones contienen la mejor o las mejores soluciones al problema de optimización\n",
        "* Cada **posible solución** se conoce como **individuo** y cada individuo **codifica** las variables independientes del problema de optimización. Estas variables representan los **genes** de la cadena **cromosomática** que representa a cada individuo\n",
        "* Las **modificaciones genéticas** que hacen que los individuos se **adapten** mejor al medio, tienen **mayor probabilidad de perdurar en el tiempo**\n",
        "* La **adaptación al medio** se realiza mediante la **función que queremos optimizar** (**función objetivo**, **función de evaluación** o **fitness function**). Llamaremos **fitness** a la **calidad** o **desempeño** de un individuo\n",
        "* Pasar de un problema de **maximización** a uno de **minimización** es tan sencillo como **multiplicar** por **-1** el **resultado de la función objetivo**\n",
        "* En cada iteración, **nuevos individuos** (**descendientes** u **offsprings**) son creados mediante **operaciones genéticas** dando lugar a nuevas poblaciones\n",
        "* Operaciones genéticas: **Selección**, **Cruce** y **Mutación**\n"
      ]
    },
    {
      "cell_type": "markdown",
      "id": "94b00b50-5120-44a9-baf7-95e5e36a7b7a",
      "metadata": {
        "id": "94b00b50-5120-44a9-baf7-95e5e36a7b7a"
      },
      "source": [
        "### ¿Porqué decidimos usar una **optimización metaheurística** (**no** garantizan la obtención de una solución óptima) en lugar de un **método exacto** (garantizan la obtención de una solución óptima)?"
      ]
    },
    {
      "cell_type": "markdown",
      "id": "a886c8c2-1e8d-473b-aa59-e5d6131927ec",
      "metadata": {
        "id": "a886c8c2-1e8d-473b-aa59-e5d6131927ec"
      },
      "source": [
        "No es una pregunta fácil de responder. Se usa para problemas de **gran complejidad**:\n",
        "* Gran **cantidad** de **variables**\n",
        "* Gran **complejidad** de las **ecuaciones**\n",
        "* Nos llegamos a preguntar si el problema tendrá solución\n",
        "\n",
        "No siempre podemos encontrar un método exacto que permita resolver nuestro problema, y si lo hay, es posible que su **aplicación** **no** sea **viable** para un problema de cierta complejidad por el **tiempo** de **resolución** o **consumo** de **recursos**. (Una búsqueda extensiva para un problema combinatorio de algunos cientos de variables, puede tardar meses o años)\n",
        "\n",
        "Además, las estratégias de **resolución analíticas**, como los **métodos basados en el gradiente** , pueden **converger a óptimos locales** y no alcanzar el óptimo global del problema"
      ]
    },
    {
      "cell_type": "markdown",
      "id": "5badb8c5-939d-4ecb-acca-84766a0509aa",
      "metadata": {
        "id": "5badb8c5-939d-4ecb-acca-84766a0509aa"
      },
      "source": [
        "### Cómo decidir la estrategia para abordar un problema\n",
        "1. **Cómo de grande es mi problema**: Estimar tiempo de una búsqueda **extensiva** a partir del tiempo necesario para evaluar una única solución\n",
        "2. **Que rapidez necesito para obtener una solución**: A veces horas es aceptable, pero no meses...\n",
        "3. **Cuantas restricciones hay**: A más restricciones, menos probable es que nos interese un método analítico exacto\n",
        "4. **Precisión que necesito en los resultados**: A veces es preferible rapidez y aproximación antes que lentitud y total precisión."
      ]
    },
    {
      "cell_type": "markdown",
      "id": "55604cc6-e060-49d9-805e-3cf30c371e11",
      "metadata": {
        "id": "55604cc6-e060-49d9-805e-3cf30c371e11"
      },
      "source": [
        "### Qué necesitamos para resolver Algoritmos Genéticos con Python"
      ]
    },
    {
      "cell_type": "markdown",
      "id": "ffea0fe5-9042-4088-8367-ce9f62bdd68c",
      "metadata": {
        "id": "ffea0fe5-9042-4088-8367-ce9f62bdd68c"
      },
      "source": [
        "Utilizaremos la librería de Python **`deap`** [Documentación de deap](https://deap.readthedocs.io/en/master/)"
      ]
    },
    {
      "cell_type": "code",
      "execution_count": 1,
      "id": "3b372009-8c31-4e2a-9a4b-839c77a9a18a",
      "metadata": {
        "colab": {
          "base_uri": "https://localhost:8080/"
        },
        "id": "3b372009-8c31-4e2a-9a4b-839c77a9a18a",
        "outputId": "2f76cb15-d947-4e8e-9b67-6093fe2b3340"
      },
      "outputs": [
        {
          "output_type": "stream",
          "name": "stdout",
          "text": [
            "Collecting deap\n",
            "  Downloading deap-1.4.1-cp310-cp310-manylinux_2_5_x86_64.manylinux1_x86_64.manylinux_2_17_x86_64.manylinux2014_x86_64.whl (135 kB)\n",
            "\u001b[2K     \u001b[90m━━━━━━━━━━━━━━━━━━━━━━━━━━━━━━━━━━━━━━━━\u001b[0m \u001b[32m135.4/135.4 kB\u001b[0m \u001b[31m1.5 MB/s\u001b[0m eta \u001b[36m0:00:00\u001b[0m\n",
            "\u001b[?25hRequirement already satisfied: numpy in /usr/local/lib/python3.10/dist-packages (from deap) (1.23.5)\n",
            "Installing collected packages: deap\n",
            "Successfully installed deap-1.4.1\n"
          ]
        }
      ],
      "source": [
        "!pip install deap"
      ]
    },
    {
      "cell_type": "code",
      "execution_count": 2,
      "id": "cd641dfe-a15b-4d0e-8bcc-be9861fe3334",
      "metadata": {
        "colab": {
          "base_uri": "https://localhost:8080/"
        },
        "id": "cd641dfe-a15b-4d0e-8bcc-be9861fe3334",
        "outputId": "98ab89b2-da6a-447b-e43b-8073a47635ea"
      },
      "outputs": [
        {
          "output_type": "stream",
          "name": "stdout",
          "text": [
            "Requirement already satisfied: matplotlib in /usr/local/lib/python3.10/dist-packages (3.7.1)\n",
            "Requirement already satisfied: contourpy>=1.0.1 in /usr/local/lib/python3.10/dist-packages (from matplotlib) (1.2.0)\n",
            "Requirement already satisfied: cycler>=0.10 in /usr/local/lib/python3.10/dist-packages (from matplotlib) (0.12.1)\n",
            "Requirement already satisfied: fonttools>=4.22.0 in /usr/local/lib/python3.10/dist-packages (from matplotlib) (4.45.1)\n",
            "Requirement already satisfied: kiwisolver>=1.0.1 in /usr/local/lib/python3.10/dist-packages (from matplotlib) (1.4.5)\n",
            "Requirement already satisfied: numpy>=1.20 in /usr/local/lib/python3.10/dist-packages (from matplotlib) (1.23.5)\n",
            "Requirement already satisfied: packaging>=20.0 in /usr/local/lib/python3.10/dist-packages (from matplotlib) (23.2)\n",
            "Requirement already satisfied: pillow>=6.2.0 in /usr/local/lib/python3.10/dist-packages (from matplotlib) (9.4.0)\n",
            "Requirement already satisfied: pyparsing>=2.3.1 in /usr/local/lib/python3.10/dist-packages (from matplotlib) (3.1.1)\n",
            "Requirement already satisfied: python-dateutil>=2.7 in /usr/local/lib/python3.10/dist-packages (from matplotlib) (2.8.2)\n",
            "Requirement already satisfied: six>=1.5 in /usr/local/lib/python3.10/dist-packages (from python-dateutil>=2.7->matplotlib) (1.16.0)\n"
          ]
        }
      ],
      "source": [
        "!pip install matplotlib"
      ]
    },
    {
      "cell_type": "code",
      "execution_count": 3,
      "id": "e718fa60-b2e8-432e-afb8-3cb3b259fb5e",
      "metadata": {
        "colab": {
          "base_uri": "https://localhost:8080/"
        },
        "id": "e718fa60-b2e8-432e-afb8-3cb3b259fb5e",
        "outputId": "ec42d9ba-0d2e-481b-85b7-a213184491f1"
      },
      "outputs": [
        {
          "output_type": "stream",
          "name": "stdout",
          "text": [
            "Requirement already satisfied: numpy in /usr/local/lib/python3.10/dist-packages (1.23.5)\n"
          ]
        }
      ],
      "source": [
        "!pip install numpy"
      ]
    },
    {
      "cell_type": "code",
      "execution_count": 4,
      "id": "d1636feb-f488-4df1-b81f-0863b811fd57",
      "metadata": {
        "colab": {
          "base_uri": "https://localhost:8080/"
        },
        "id": "d1636feb-f488-4df1-b81f-0863b811fd57",
        "outputId": "856c7e02-1b2a-4e02-ed96-f3d1d29d4aff"
      },
      "outputs": [
        {
          "output_type": "stream",
          "name": "stdout",
          "text": [
            "Requirement already satisfied: scipy in /usr/local/lib/python3.10/dist-packages (1.11.4)\n",
            "Requirement already satisfied: numpy<1.28.0,>=1.21.6 in /usr/local/lib/python3.10/dist-packages (from scipy) (1.23.5)\n"
          ]
        }
      ],
      "source": [
        "!pip install scipy"
      ]
    },
    {
      "cell_type": "markdown",
      "id": "a28845db-dd62-404c-9025-0066adefc3f1",
      "metadata": {
        "id": "a28845db-dd62-404c-9025-0066adefc3f1"
      },
      "source": [
        "Necesitamos también la librería de Python de **multiprocesamiento** (mecanismo de **paralelización**) **`SCOOP`** [Enlace al GitHub de SCOOP](https://github.com/soravux/scoop)"
      ]
    },
    {
      "cell_type": "code",
      "execution_count": 5,
      "id": "1baccdcd-950d-4bb4-90d3-fac358d8278b",
      "metadata": {
        "colab": {
          "base_uri": "https://localhost:8080/"
        },
        "id": "1baccdcd-950d-4bb4-90d3-fac358d8278b",
        "outputId": "c0ad2a37-2eea-4007-c225-38352d820d1f"
      },
      "outputs": [
        {
          "output_type": "stream",
          "name": "stdout",
          "text": [
            "Collecting scoop\n",
            "  Downloading scoop-0.7.2.0.tar.gz (615 kB)\n",
            "\u001b[2K     \u001b[90m━━━━━━━━━━━━━━━━━━━━━━━━━━━━━━━━━━━━━━━━\u001b[0m \u001b[32m615.4/615.4 kB\u001b[0m \u001b[31m4.7 MB/s\u001b[0m eta \u001b[36m0:00:00\u001b[0m\n",
            "\u001b[?25h  Preparing metadata (setup.py) ... \u001b[?25l\u001b[?25hdone\n",
            "Requirement already satisfied: greenlet>=0.3.4 in /usr/local/lib/python3.10/dist-packages (from scoop) (3.0.1)\n",
            "Requirement already satisfied: pyzmq>=13.1.0 in /usr/local/lib/python3.10/dist-packages (from scoop) (23.2.1)\n",
            "Building wheels for collected packages: scoop\n",
            "  Building wheel for scoop (setup.py) ... \u001b[?25l\u001b[?25hdone\n",
            "  Created wheel for scoop: filename=scoop-0.7.2.0-py3-none-any.whl size=78113 sha256=00fd964608833c6468a3e11ac3ba43602633c221ded9e40a35ee081e012fc618\n",
            "  Stored in directory: /root/.cache/pip/wheels/26/c6/da/088e4bffcfbc33fa40644ca636267bc801c8fd9eef973483db\n",
            "Successfully built scoop\n",
            "Installing collected packages: scoop\n",
            "Successfully installed scoop-0.7.2.0\n"
          ]
        }
      ],
      "source": [
        "!pip install scoop"
      ]
    },
    {
      "cell_type": "markdown",
      "id": "f28a1414-ac27-4930-bb1b-1871c559bcc4",
      "metadata": {
        "id": "f28a1414-ac27-4930-bb1b-1871c559bcc4"
      },
      "source": [
        "### RESOLUCIÓN DE UN PROBLEMA SENCILLO ---------------------------------------"
      ]
    },
    {
      "cell_type": "markdown",
      "id": "93d8c81f-5427-40b1-a765-dc5c7cbc4f30",
      "metadata": {
        "id": "93d8c81f-5427-40b1-a765-dc5c7cbc4f30"
      },
      "source": [
        "Se desea encontrar el **máximo** de la función:\n",
        "$$f(x,y) = \\sqrt{x^2 + y^2}$$\n",
        "En el dominio $$\\{x,y\\} \\in [-100,100]$$"
      ]
    },
    {
      "cell_type": "markdown",
      "id": "7334aa93-ac24-4da9-8a78-d51745ce5273",
      "metadata": {
        "id": "7334aa93-ac24-4da9-8a78-d51745ce5273"
      },
      "source": [
        "En este problema, la cadena cromosomática estaría formada por dos genes (cromosomas), que, al confinarse en forma de lista, quedaría como $$[x_i, y_i]$$ con $$i = 1, 2, ... , n$$"
      ]
    },
    {
      "cell_type": "markdown",
      "id": "1d38c5de-d457-4930-bd05-ddb55c31933c",
      "metadata": {
        "id": "1d38c5de-d457-4930-bd05-ddb55c31933c"
      },
      "source": [
        "La **población** del algoritmo **no cambia de tamaño** a lo largo de las generaciones, con lo que **n** será **constante**"
      ]
    },
    {
      "cell_type": "markdown",
      "id": "1e2e5ece-293e-48e2-8659-31c62637b3ee",
      "metadata": {
        "id": "1e2e5ece-293e-48e2-8659-31c62637b3ee"
      },
      "source": [
        "La población inicial se **elige de forma aleatoria** porque queremos **diversidad genética**"
      ]
    },
    {
      "cell_type": "code",
      "execution_count": 6,
      "id": "d42f87a4-ab4c-4ad3-9b1c-6b326da09c82",
      "metadata": {
        "id": "d42f87a4-ab4c-4ad3-9b1c-6b326da09c82"
      },
      "outputs": [],
      "source": [
        "import random\n",
        "import math\n",
        "import numpy as np\n",
        "from deap import base\n",
        "from deap import creator\n",
        "from deap import tools\n",
        "from deap import algorithms\n",
        "import matplotlib.pyplot as plt"
      ]
    },
    {
      "cell_type": "markdown",
      "id": "54949f15-4532-41b5-830d-0590fb3f40d9",
      "metadata": {
        "tags": [],
        "id": "54949f15-4532-41b5-830d-0590fb3f40d9"
      },
      "source": [
        "#### NOTA SOBRE NÚMEROS ALEATORIOS --------------------------"
      ]
    },
    {
      "cell_type": "markdown",
      "id": "dbd08d4b-2bc2-4392-b62c-f1ac9a8cd315",
      "metadata": {
        "id": "dbd08d4b-2bc2-4392-b62c-f1ac9a8cd315"
      },
      "source": [
        "Queremos generar números aleatorios entre -100 y 100 (sin incluir a estos). Podemos usar el módulo nativo random de generación de números pseudoaleatorios [Documentación librería random](https://docs.python.org/3/library/random.html) y `numpy.random`(para generación de vectores psudoaleatorios) [Documentación numpy.random](https://docs.scipy.org/doc/numpy-1.16.1/reference/routines.random.html). Recordad que los números totalmente aleatorios no existen en programación.\n",
        "\n",
        "Utilizamos, además, el método `uniform`: [Documentación método uniform](https://docs.python.org/3.6/library/random.html)"
      ]
    },
    {
      "cell_type": "code",
      "execution_count": 7,
      "id": "7ce06dee-d95a-47f0-a211-4cca260eace0",
      "metadata": {
        "colab": {
          "base_uri": "https://localhost:8080/"
        },
        "id": "7ce06dee-d95a-47f0-a211-4cca260eace0",
        "outputId": "20229b4a-6306-4889-b067-77c84c10442f"
      },
      "outputs": [
        {
          "output_type": "stream",
          "name": "stdout",
          "text": [
            "x=  [68.88437030500961, 51.590880588060486, -15.885683833830996, -48.21664994140733, 2.254944273721705, -19.01317250991714, 56.75971780695451, -39.33745478421451, -4.680609169528836, 16.676407891006235]\n",
            "y=  [81.62257703906704, 0.9373711634780477, -43.63243112005924, 51.16084083144477, 23.67379933506632, -49.898731727511894, 81.94925119364802, 96.55709520753061, 62.04344719931791, 80.43319008791653]\n"
          ]
        }
      ],
      "source": [
        "# Importamos la librería\n",
        "import random\n",
        "# Fijamos la semilla. Si no cambiamos la semilla,\n",
        "# la función generará los mismos número aleatorios\n",
        "random.seed(0)\n",
        "# Generamos los números pseudo-aleatorios en 2 list comprenhension\n",
        "# para encapsular todos los datos en las listas x e y\n",
        "x = [random.uniform(-100, 100) for i in range(10)]\n",
        "y = [random.uniform(-100, 100) for i in range(10)]\n",
        "print('x= ', x)\n",
        "print('y= ', y)"
      ]
    },
    {
      "cell_type": "markdown",
      "id": "18eb1cd6-52ed-4e71-bd00-d2062c2b4a73",
      "metadata": {
        "id": "18eb1cd6-52ed-4e71-bd00-d2062c2b4a73"
      },
      "source": [
        "Otra posibilidad es generar dos vectores de diez valores comprendidos entre -100 y 100, con una forma (1,10) (1 fila y 10 columnas). Serían dos vectores de tipo fila con diez valores"
      ]
    },
    {
      "cell_type": "code",
      "execution_count": 8,
      "id": "44c25d1e-ba6e-43cc-bfd6-a732e5df2a59",
      "metadata": {
        "tags": [],
        "colab": {
          "base_uri": "https://localhost:8080/"
        },
        "id": "44c25d1e-ba6e-43cc-bfd6-a732e5df2a59",
        "outputId": "7952f2fa-a841-4ecd-e281-7c4b3d56fd5a"
      },
      "outputs": [
        {
          "output_type": "stream",
          "name": "stdout",
          "text": [
            "z=  [[  9.76270079  43.03787327  20.55267521   8.9766366  -15.26904013\n",
            "   29.17882261 -12.48255775  78.35460016  92.7325521  -23.31169623]]\n",
            "t=  [[ 58.34500762   5.77898395  13.60891222  85.11932766 -85.79278836\n",
            "  -82.57414006 -95.95632051  66.52396911  55.63135019  74.00242965]]\n"
          ]
        }
      ],
      "source": [
        "import numpy as np\n",
        "# Fijamos la semilla\n",
        "np.random.seed(0)\n",
        "# Generamos los números pseudo-aleatorios\n",
        "# Son los mismos mientras no cambiemos la semilla\n",
        "# Numpy genera directamente los vectores\n",
        "z = np.random.uniform(-100, 100, 10).reshape(1, 10)\n",
        "t = np.random.uniform(-100, 100, 10).reshape(1, 10)\n",
        "print('z= ', z)\n",
        "print('t= ', t)"
      ]
    },
    {
      "cell_type": "markdown",
      "id": "57459d16-b5d1-404a-a09f-471333c37891",
      "metadata": {
        "id": "57459d16-b5d1-404a-a09f-471333c37891"
      },
      "source": [
        "Hay que tener en cuenta que las soluciones deben ser válidas y una solución sería **no válida** si alguna de las variables independientes se saliera de los **rangos establecidos**. Es común en los problemas de optimización tener restricciones en las variables, por lo que siempre tendremos que **comprobar la validez de nuestras soluciones**"
      ]
    },
    {
      "cell_type": "markdown",
      "id": "a935fd89-89df-425c-99ea-1a5bd668b878",
      "metadata": {
        "id": "a935fd89-89df-425c-99ea-1a5bd668b878"
      },
      "source": [
        "#### ------------------------------------------------------------------"
      ]
    },
    {
      "cell_type": "markdown",
      "id": "7f967799-f819-4d3d-9288-47c62d81704d",
      "metadata": {
        "id": "7f967799-f819-4d3d-9288-47c62d81704d"
      },
      "source": [
        "#### NOTA 2: ESPACIO DE BÚSQUEDA O DOMINIO DE LA SOLUCIÓN -"
      ]
    },
    {
      "cell_type": "markdown",
      "id": "f00b93b5-1058-421e-8086-3bf23adf44db",
      "metadata": {
        "id": "f00b93b5-1058-421e-8086-3bf23adf44db"
      },
      "source": [
        "Sabemos que las 4 soluciones óptimas para nuestro problema de ejemplo son:"
      ]
    },
    {
      "cell_type": "markdown",
      "id": "e0307957-bd11-4526-8450-d7db65c5f416",
      "metadata": {
        "id": "e0307957-bd11-4526-8450-d7db65c5f416"
      },
      "source": [
        "|Individuo|x|y|\n",
        "|-|-|-|\n",
        "|1|100|100|\n",
        "|2|-100|100|\n",
        "|3|100|-100|\n",
        "|4|-100|-100|"
      ]
    },
    {
      "cell_type": "markdown",
      "id": "8cd15e61-99d4-4fa7-82cc-ab5386ce2a14",
      "metadata": {
        "id": "8cd15e61-99d4-4fa7-82cc-ab5386ce2a14"
      },
      "source": [
        "Vamos a resolverlo con Algoritmo Genético como ejercício, aunque cualquier algoritmo de optimización basado en gradiente de los que vienen incluidos en el módulo `optimize` de `scipy`([módulo optimize en scipy](https://docs.scipy.org/doc/scipy/reference/generated/scipy.optimize.minimize.html#scipy.optimize.minimize)) nos valdría para obtener una solución a nuestro problema de manera sencilla, ya que nuestra función es **convexa**\n",
        "\n",
        "Recordar que: Los AGs se deben emplear en **problemas de optimización** en los que la solución óptima **no se conozca** y ni siquiera tengamos una **aproximación** a la misma o incluso **ni siquiera se tenga la certeza** de que podamos obtenerla.\n",
        "\n",
        "Aunque el **uso de AGs no nos da certeza de obtener la solución óptima**, si obtendremos una solución **bastante buena** y en un **tiempo razonable**. Siempre vamos a terminar con una solución al problema que **será mejor que realizar una búsqueda totalmente aleatoria**"
      ]
    },
    {
      "cell_type": "markdown",
      "id": "735db5ba-fb4f-4da2-8a33-6876950a8b97",
      "metadata": {
        "id": "735db5ba-fb4f-4da2-8a33-6876950a8b97"
      },
      "source": [
        "##### Visualicemos nuestra función"
      ]
    },
    {
      "cell_type": "code",
      "execution_count": 9,
      "id": "ef168180-ea01-46a2-b51a-1419f5fa326f",
      "metadata": {
        "id": "ef168180-ea01-46a2-b51a-1419f5fa326f"
      },
      "outputs": [],
      "source": [
        "# Importamos las librerías necesarias\n",
        "import numpy as np\n",
        "import matplotlib.pyplot as plt\n",
        "from mpl_toolkits.mplot3d import Axes3D\n",
        "from matplotlib import cm"
      ]
    },
    {
      "cell_type": "code",
      "execution_count": 10,
      "id": "f0c2efe5-e609-493e-8575-75b67d37000b",
      "metadata": {
        "id": "f0c2efe5-e609-493e-8575-75b67d37000b"
      },
      "outputs": [],
      "source": [
        "# Definimos la función objetivo\n",
        "def funcion_prueba(x):\n",
        "    # x es x[0] e y es x[1]\n",
        "    res = np.sqrt(x[0]**2 + x[1]**2)\n",
        "    return res"
      ]
    },
    {
      "cell_type": "markdown",
      "id": "33d62592-99ea-41ae-a85a-ac7f76696737",
      "metadata": {
        "id": "33d62592-99ea-41ae-a85a-ac7f76696737"
      },
      "source": [
        "[numpy.linspace](https://numpy.org/doc/stable/reference/generated/numpy.linspace.html)"
      ]
    },
    {
      "cell_type": "code",
      "execution_count": 11,
      "id": "e8429f3c-5960-4b35-88fe-0d57c590fa71",
      "metadata": {
        "colab": {
          "base_uri": "https://localhost:8080/"
        },
        "id": "e8429f3c-5960-4b35-88fe-0d57c590fa71",
        "outputId": "1fa9878e-8a11-4303-ef51-3c13c4a1ddbc"
      },
      "outputs": [
        {
          "output_type": "stream",
          "name": "stdout",
          "text": [
            "x=  [-100.          -99.7997998   -99.5995996   -99.3993994   -99.1991992\n",
            "  -98.998999    -98.7987988   -98.5985986   -98.3983984   -98.1981982\n",
            "  -97.997998    -97.7977978   -97.5975976   -97.3973974   -97.1971972\n",
            "  -96.996997    -96.7967968   -96.5965966   -96.3963964   -96.1961962\n",
            "  -95.995996    -95.7957958   -95.5955956   -95.3953954   -95.1951952\n",
            "  -94.99499499  -94.79479479  -94.59459459  -94.39439439  -94.19419419\n",
            "  -93.99399399  -93.79379379  -93.59359359  -93.39339339  -93.19319319\n",
            "  -92.99299299  -92.79279279  -92.59259259  -92.39239239  -92.19219219\n",
            "  -91.99199199  -91.79179179  -91.59159159  -91.39139139  -91.19119119\n",
            "  -90.99099099  -90.79079079  -90.59059059  -90.39039039  -90.19019019\n",
            "  -89.98998999  -89.78978979  -89.58958959  -89.38938939  -89.18918919\n",
            "  -88.98898899  -88.78878879  -88.58858859  -88.38838839  -88.18818819\n",
            "  -87.98798799  -87.78778779  -87.58758759  -87.38738739  -87.18718719\n",
            "  -86.98698699  -86.78678679  -86.58658659  -86.38638639  -86.18618619\n",
            "  -85.98598599  -85.78578579  -85.58558559  -85.38538539  -85.18518519\n",
            "  -84.98498498  -84.78478478  -84.58458458  -84.38438438  -84.18418418\n",
            "  -83.98398398  -83.78378378  -83.58358358  -83.38338338  -83.18318318\n",
            "  -82.98298298  -82.78278278  -82.58258258  -82.38238238  -82.18218218\n",
            "  -81.98198198  -81.78178178  -81.58158158  -81.38138138  -81.18118118\n",
            "  -80.98098098  -80.78078078  -80.58058058  -80.38038038  -80.18018018\n",
            "  -79.97997998  -79.77977978  -79.57957958  -79.37937938  -79.17917918\n",
            "  -78.97897898  -78.77877878  -78.57857858  -78.37837838  -78.17817818\n",
            "  -77.97797798  -77.77777778  -77.57757758  -77.37737738  -77.17717718\n",
            "  -76.97697698  -76.77677678  -76.57657658  -76.37637638  -76.17617618\n",
            "  -75.97597598  -75.77577578  -75.57557558  -75.37537538  -75.17517518\n",
            "  -74.97497497  -74.77477477  -74.57457457  -74.37437437  -74.17417417\n",
            "  -73.97397397  -73.77377377  -73.57357357  -73.37337337  -73.17317317\n",
            "  -72.97297297  -72.77277277  -72.57257257  -72.37237237  -72.17217217\n",
            "  -71.97197197  -71.77177177  -71.57157157  -71.37137137  -71.17117117\n",
            "  -70.97097097  -70.77077077  -70.57057057  -70.37037037  -70.17017017\n",
            "  -69.96996997  -69.76976977  -69.56956957  -69.36936937  -69.16916917\n",
            "  -68.96896897  -68.76876877  -68.56856857  -68.36836837  -68.16816817\n",
            "  -67.96796797  -67.76776777  -67.56756757  -67.36736737  -67.16716717\n",
            "  -66.96696697  -66.76676677  -66.56656657  -66.36636637  -66.16616617\n",
            "  -65.96596597  -65.76576577  -65.56556557  -65.36536537  -65.16516517\n",
            "  -64.96496496  -64.76476476  -64.56456456  -64.36436436  -64.16416416\n",
            "  -63.96396396  -63.76376376  -63.56356356  -63.36336336  -63.16316316\n",
            "  -62.96296296  -62.76276276  -62.56256256  -62.36236236  -62.16216216\n",
            "  -61.96196196  -61.76176176  -61.56156156  -61.36136136  -61.16116116\n",
            "  -60.96096096  -60.76076076  -60.56056056  -60.36036036  -60.16016016\n",
            "  -59.95995996  -59.75975976  -59.55955956  -59.35935936  -59.15915916\n",
            "  -58.95895896  -58.75875876  -58.55855856  -58.35835836  -58.15815816\n",
            "  -57.95795796  -57.75775776  -57.55755756  -57.35735736  -57.15715716\n",
            "  -56.95695696  -56.75675676  -56.55655656  -56.35635636  -56.15615616\n",
            "  -55.95595596  -55.75575576  -55.55555556  -55.35535536  -55.15515516\n",
            "  -54.95495495  -54.75475475  -54.55455455  -54.35435435  -54.15415415\n",
            "  -53.95395395  -53.75375375  -53.55355355  -53.35335335  -53.15315315\n",
            "  -52.95295295  -52.75275275  -52.55255255  -52.35235235  -52.15215215\n",
            "  -51.95195195  -51.75175175  -51.55155155  -51.35135135  -51.15115115\n",
            "  -50.95095095  -50.75075075  -50.55055055  -50.35035035  -50.15015015\n",
            "  -49.94994995  -49.74974975  -49.54954955  -49.34934935  -49.14914915\n",
            "  -48.94894895  -48.74874875  -48.54854855  -48.34834835  -48.14814815\n",
            "  -47.94794795  -47.74774775  -47.54754755  -47.34734735  -47.14714715\n",
            "  -46.94694695  -46.74674675  -46.54654655  -46.34634635  -46.14614615\n",
            "  -45.94594595  -45.74574575  -45.54554555  -45.34534535  -45.14514515\n",
            "  -44.94494494  -44.74474474  -44.54454454  -44.34434434  -44.14414414\n",
            "  -43.94394394  -43.74374374  -43.54354354  -43.34334334  -43.14314314\n",
            "  -42.94294294  -42.74274274  -42.54254254  -42.34234234  -42.14214214\n",
            "  -41.94194194  -41.74174174  -41.54154154  -41.34134134  -41.14114114\n",
            "  -40.94094094  -40.74074074  -40.54054054  -40.34034034  -40.14014014\n",
            "  -39.93993994  -39.73973974  -39.53953954  -39.33933934  -39.13913914\n",
            "  -38.93893894  -38.73873874  -38.53853854  -38.33833834  -38.13813814\n",
            "  -37.93793794  -37.73773774  -37.53753754  -37.33733734  -37.13713714\n",
            "  -36.93693694  -36.73673674  -36.53653654  -36.33633634  -36.13613614\n",
            "  -35.93593594  -35.73573574  -35.53553554  -35.33533534  -35.13513514\n",
            "  -34.93493493  -34.73473473  -34.53453453  -34.33433433  -34.13413413\n",
            "  -33.93393393  -33.73373373  -33.53353353  -33.33333333  -33.13313313\n",
            "  -32.93293293  -32.73273273  -32.53253253  -32.33233233  -32.13213213\n",
            "  -31.93193193  -31.73173173  -31.53153153  -31.33133133  -31.13113113\n",
            "  -30.93093093  -30.73073073  -30.53053053  -30.33033033  -30.13013013\n",
            "  -29.92992993  -29.72972973  -29.52952953  -29.32932933  -29.12912913\n",
            "  -28.92892893  -28.72872873  -28.52852853  -28.32832833  -28.12812813\n",
            "  -27.92792793  -27.72772773  -27.52752753  -27.32732733  -27.12712713\n",
            "  -26.92692693  -26.72672673  -26.52652653  -26.32632633  -26.12612613\n",
            "  -25.92592593  -25.72572573  -25.52552553  -25.32532533  -25.12512513\n",
            "  -24.92492492  -24.72472472  -24.52452452  -24.32432432  -24.12412412\n",
            "  -23.92392392  -23.72372372  -23.52352352  -23.32332332  -23.12312312\n",
            "  -22.92292292  -22.72272272  -22.52252252  -22.32232232  -22.12212212\n",
            "  -21.92192192  -21.72172172  -21.52152152  -21.32132132  -21.12112112\n",
            "  -20.92092092  -20.72072072  -20.52052052  -20.32032032  -20.12012012\n",
            "  -19.91991992  -19.71971972  -19.51951952  -19.31931932  -19.11911912\n",
            "  -18.91891892  -18.71871872  -18.51851852  -18.31831832  -18.11811812\n",
            "  -17.91791792  -17.71771772  -17.51751752  -17.31731732  -17.11711712\n",
            "  -16.91691692  -16.71671672  -16.51651652  -16.31631632  -16.11611612\n",
            "  -15.91591592  -15.71571572  -15.51551552  -15.31531532  -15.11511512\n",
            "  -14.91491491  -14.71471471  -14.51451451  -14.31431431  -14.11411411\n",
            "  -13.91391391  -13.71371371  -13.51351351  -13.31331331  -13.11311311\n",
            "  -12.91291291  -12.71271271  -12.51251251  -12.31231231  -12.11211211\n",
            "  -11.91191191  -11.71171171  -11.51151151  -11.31131131  -11.11111111\n",
            "  -10.91091091  -10.71071071  -10.51051051  -10.31031031  -10.11011011\n",
            "   -9.90990991   -9.70970971   -9.50950951   -9.30930931   -9.10910911\n",
            "   -8.90890891   -8.70870871   -8.50850851   -8.30830831   -8.10810811\n",
            "   -7.90790791   -7.70770771   -7.50750751   -7.30730731   -7.10710711\n",
            "   -6.90690691   -6.70670671   -6.50650651   -6.30630631   -6.10610611\n",
            "   -5.90590591   -5.70570571   -5.50550551   -5.30530531   -5.10510511\n",
            "   -4.9049049    -4.7047047    -4.5045045    -4.3043043    -4.1041041\n",
            "   -3.9039039    -3.7037037    -3.5035035    -3.3033033    -3.1031031\n",
            "   -2.9029029    -2.7027027    -2.5025025    -2.3023023    -2.1021021\n",
            "   -1.9019019    -1.7017017    -1.5015015    -1.3013013    -1.1011011\n",
            "   -0.9009009    -0.7007007    -0.5005005    -0.3003003    -0.1001001\n",
            "    0.1001001     0.3003003     0.5005005     0.7007007     0.9009009\n",
            "    1.1011011     1.3013013     1.5015015     1.7017017     1.9019019\n",
            "    2.1021021     2.3023023     2.5025025     2.7027027     2.9029029\n",
            "    3.1031031     3.3033033     3.5035035     3.7037037     3.9039039\n",
            "    4.1041041     4.3043043     4.5045045     4.7047047     4.9049049\n",
            "    5.10510511    5.30530531    5.50550551    5.70570571    5.90590591\n",
            "    6.10610611    6.30630631    6.50650651    6.70670671    6.90690691\n",
            "    7.10710711    7.30730731    7.50750751    7.70770771    7.90790791\n",
            "    8.10810811    8.30830831    8.50850851    8.70870871    8.90890891\n",
            "    9.10910911    9.30930931    9.50950951    9.70970971    9.90990991\n",
            "   10.11011011   10.31031031   10.51051051   10.71071071   10.91091091\n",
            "   11.11111111   11.31131131   11.51151151   11.71171171   11.91191191\n",
            "   12.11211211   12.31231231   12.51251251   12.71271271   12.91291291\n",
            "   13.11311311   13.31331331   13.51351351   13.71371371   13.91391391\n",
            "   14.11411411   14.31431431   14.51451451   14.71471471   14.91491491\n",
            "   15.11511512   15.31531532   15.51551552   15.71571572   15.91591592\n",
            "   16.11611612   16.31631632   16.51651652   16.71671672   16.91691692\n",
            "   17.11711712   17.31731732   17.51751752   17.71771772   17.91791792\n",
            "   18.11811812   18.31831832   18.51851852   18.71871872   18.91891892\n",
            "   19.11911912   19.31931932   19.51951952   19.71971972   19.91991992\n",
            "   20.12012012   20.32032032   20.52052052   20.72072072   20.92092092\n",
            "   21.12112112   21.32132132   21.52152152   21.72172172   21.92192192\n",
            "   22.12212212   22.32232232   22.52252252   22.72272272   22.92292292\n",
            "   23.12312312   23.32332332   23.52352352   23.72372372   23.92392392\n",
            "   24.12412412   24.32432432   24.52452452   24.72472472   24.92492492\n",
            "   25.12512513   25.32532533   25.52552553   25.72572573   25.92592593\n",
            "   26.12612613   26.32632633   26.52652653   26.72672673   26.92692693\n",
            "   27.12712713   27.32732733   27.52752753   27.72772773   27.92792793\n",
            "   28.12812813   28.32832833   28.52852853   28.72872873   28.92892893\n",
            "   29.12912913   29.32932933   29.52952953   29.72972973   29.92992993\n",
            "   30.13013013   30.33033033   30.53053053   30.73073073   30.93093093\n",
            "   31.13113113   31.33133133   31.53153153   31.73173173   31.93193193\n",
            "   32.13213213   32.33233233   32.53253253   32.73273273   32.93293293\n",
            "   33.13313313   33.33333333   33.53353353   33.73373373   33.93393393\n",
            "   34.13413413   34.33433433   34.53453453   34.73473473   34.93493493\n",
            "   35.13513514   35.33533534   35.53553554   35.73573574   35.93593594\n",
            "   36.13613614   36.33633634   36.53653654   36.73673674   36.93693694\n",
            "   37.13713714   37.33733734   37.53753754   37.73773774   37.93793794\n",
            "   38.13813814   38.33833834   38.53853854   38.73873874   38.93893894\n",
            "   39.13913914   39.33933934   39.53953954   39.73973974   39.93993994\n",
            "   40.14014014   40.34034034   40.54054054   40.74074074   40.94094094\n",
            "   41.14114114   41.34134134   41.54154154   41.74174174   41.94194194\n",
            "   42.14214214   42.34234234   42.54254254   42.74274274   42.94294294\n",
            "   43.14314314   43.34334334   43.54354354   43.74374374   43.94394394\n",
            "   44.14414414   44.34434434   44.54454454   44.74474474   44.94494494\n",
            "   45.14514515   45.34534535   45.54554555   45.74574575   45.94594595\n",
            "   46.14614615   46.34634635   46.54654655   46.74674675   46.94694695\n",
            "   47.14714715   47.34734735   47.54754755   47.74774775   47.94794795\n",
            "   48.14814815   48.34834835   48.54854855   48.74874875   48.94894895\n",
            "   49.14914915   49.34934935   49.54954955   49.74974975   49.94994995\n",
            "   50.15015015   50.35035035   50.55055055   50.75075075   50.95095095\n",
            "   51.15115115   51.35135135   51.55155155   51.75175175   51.95195195\n",
            "   52.15215215   52.35235235   52.55255255   52.75275275   52.95295295\n",
            "   53.15315315   53.35335335   53.55355355   53.75375375   53.95395395\n",
            "   54.15415415   54.35435435   54.55455455   54.75475475   54.95495495\n",
            "   55.15515516   55.35535536   55.55555556   55.75575576   55.95595596\n",
            "   56.15615616   56.35635636   56.55655656   56.75675676   56.95695696\n",
            "   57.15715716   57.35735736   57.55755756   57.75775776   57.95795796\n",
            "   58.15815816   58.35835836   58.55855856   58.75875876   58.95895896\n",
            "   59.15915916   59.35935936   59.55955956   59.75975976   59.95995996\n",
            "   60.16016016   60.36036036   60.56056056   60.76076076   60.96096096\n",
            "   61.16116116   61.36136136   61.56156156   61.76176176   61.96196196\n",
            "   62.16216216   62.36236236   62.56256256   62.76276276   62.96296296\n",
            "   63.16316316   63.36336336   63.56356356   63.76376376   63.96396396\n",
            "   64.16416416   64.36436436   64.56456456   64.76476476   64.96496496\n",
            "   65.16516517   65.36536537   65.56556557   65.76576577   65.96596597\n",
            "   66.16616617   66.36636637   66.56656657   66.76676677   66.96696697\n",
            "   67.16716717   67.36736737   67.56756757   67.76776777   67.96796797\n",
            "   68.16816817   68.36836837   68.56856857   68.76876877   68.96896897\n",
            "   69.16916917   69.36936937   69.56956957   69.76976977   69.96996997\n",
            "   70.17017017   70.37037037   70.57057057   70.77077077   70.97097097\n",
            "   71.17117117   71.37137137   71.57157157   71.77177177   71.97197197\n",
            "   72.17217217   72.37237237   72.57257257   72.77277277   72.97297297\n",
            "   73.17317317   73.37337337   73.57357357   73.77377377   73.97397397\n",
            "   74.17417417   74.37437437   74.57457457   74.77477477   74.97497497\n",
            "   75.17517518   75.37537538   75.57557558   75.77577578   75.97597598\n",
            "   76.17617618   76.37637638   76.57657658   76.77677678   76.97697698\n",
            "   77.17717718   77.37737738   77.57757758   77.77777778   77.97797798\n",
            "   78.17817818   78.37837838   78.57857858   78.77877878   78.97897898\n",
            "   79.17917918   79.37937938   79.57957958   79.77977978   79.97997998\n",
            "   80.18018018   80.38038038   80.58058058   80.78078078   80.98098098\n",
            "   81.18118118   81.38138138   81.58158158   81.78178178   81.98198198\n",
            "   82.18218218   82.38238238   82.58258258   82.78278278   82.98298298\n",
            "   83.18318318   83.38338338   83.58358358   83.78378378   83.98398398\n",
            "   84.18418418   84.38438438   84.58458458   84.78478478   84.98498498\n",
            "   85.18518519   85.38538539   85.58558559   85.78578579   85.98598599\n",
            "   86.18618619   86.38638639   86.58658659   86.78678679   86.98698699\n",
            "   87.18718719   87.38738739   87.58758759   87.78778779   87.98798799\n",
            "   88.18818819   88.38838839   88.58858859   88.78878879   88.98898899\n",
            "   89.18918919   89.38938939   89.58958959   89.78978979   89.98998999\n",
            "   90.19019019   90.39039039   90.59059059   90.79079079   90.99099099\n",
            "   91.19119119   91.39139139   91.59159159   91.79179179   91.99199199\n",
            "   92.19219219   92.39239239   92.59259259   92.79279279   92.99299299\n",
            "   93.19319319   93.39339339   93.59359359   93.79379379   93.99399399\n",
            "   94.19419419   94.39439439   94.59459459   94.79479479   94.99499499\n",
            "   95.1951952    95.3953954    95.5955956    95.7957958    95.995996\n",
            "   96.1961962    96.3963964    96.5965966    96.7967968    96.996997\n",
            "   97.1971972    97.3973974    97.5975976    97.7977978    97.997998\n",
            "   98.1981982    98.3983984    98.5985986    98.7987988    98.998999\n",
            "   99.1991992    99.3993994    99.5995996    99.7997998   100.        ]\n",
            "y=  [-100.          -99.7997998   -99.5995996   -99.3993994   -99.1991992\n",
            "  -98.998999    -98.7987988   -98.5985986   -98.3983984   -98.1981982\n",
            "  -97.997998    -97.7977978   -97.5975976   -97.3973974   -97.1971972\n",
            "  -96.996997    -96.7967968   -96.5965966   -96.3963964   -96.1961962\n",
            "  -95.995996    -95.7957958   -95.5955956   -95.3953954   -95.1951952\n",
            "  -94.99499499  -94.79479479  -94.59459459  -94.39439439  -94.19419419\n",
            "  -93.99399399  -93.79379379  -93.59359359  -93.39339339  -93.19319319\n",
            "  -92.99299299  -92.79279279  -92.59259259  -92.39239239  -92.19219219\n",
            "  -91.99199199  -91.79179179  -91.59159159  -91.39139139  -91.19119119\n",
            "  -90.99099099  -90.79079079  -90.59059059  -90.39039039  -90.19019019\n",
            "  -89.98998999  -89.78978979  -89.58958959  -89.38938939  -89.18918919\n",
            "  -88.98898899  -88.78878879  -88.58858859  -88.38838839  -88.18818819\n",
            "  -87.98798799  -87.78778779  -87.58758759  -87.38738739  -87.18718719\n",
            "  -86.98698699  -86.78678679  -86.58658659  -86.38638639  -86.18618619\n",
            "  -85.98598599  -85.78578579  -85.58558559  -85.38538539  -85.18518519\n",
            "  -84.98498498  -84.78478478  -84.58458458  -84.38438438  -84.18418418\n",
            "  -83.98398398  -83.78378378  -83.58358358  -83.38338338  -83.18318318\n",
            "  -82.98298298  -82.78278278  -82.58258258  -82.38238238  -82.18218218\n",
            "  -81.98198198  -81.78178178  -81.58158158  -81.38138138  -81.18118118\n",
            "  -80.98098098  -80.78078078  -80.58058058  -80.38038038  -80.18018018\n",
            "  -79.97997998  -79.77977978  -79.57957958  -79.37937938  -79.17917918\n",
            "  -78.97897898  -78.77877878  -78.57857858  -78.37837838  -78.17817818\n",
            "  -77.97797798  -77.77777778  -77.57757758  -77.37737738  -77.17717718\n",
            "  -76.97697698  -76.77677678  -76.57657658  -76.37637638  -76.17617618\n",
            "  -75.97597598  -75.77577578  -75.57557558  -75.37537538  -75.17517518\n",
            "  -74.97497497  -74.77477477  -74.57457457  -74.37437437  -74.17417417\n",
            "  -73.97397397  -73.77377377  -73.57357357  -73.37337337  -73.17317317\n",
            "  -72.97297297  -72.77277277  -72.57257257  -72.37237237  -72.17217217\n",
            "  -71.97197197  -71.77177177  -71.57157157  -71.37137137  -71.17117117\n",
            "  -70.97097097  -70.77077077  -70.57057057  -70.37037037  -70.17017017\n",
            "  -69.96996997  -69.76976977  -69.56956957  -69.36936937  -69.16916917\n",
            "  -68.96896897  -68.76876877  -68.56856857  -68.36836837  -68.16816817\n",
            "  -67.96796797  -67.76776777  -67.56756757  -67.36736737  -67.16716717\n",
            "  -66.96696697  -66.76676677  -66.56656657  -66.36636637  -66.16616617\n",
            "  -65.96596597  -65.76576577  -65.56556557  -65.36536537  -65.16516517\n",
            "  -64.96496496  -64.76476476  -64.56456456  -64.36436436  -64.16416416\n",
            "  -63.96396396  -63.76376376  -63.56356356  -63.36336336  -63.16316316\n",
            "  -62.96296296  -62.76276276  -62.56256256  -62.36236236  -62.16216216\n",
            "  -61.96196196  -61.76176176  -61.56156156  -61.36136136  -61.16116116\n",
            "  -60.96096096  -60.76076076  -60.56056056  -60.36036036  -60.16016016\n",
            "  -59.95995996  -59.75975976  -59.55955956  -59.35935936  -59.15915916\n",
            "  -58.95895896  -58.75875876  -58.55855856  -58.35835836  -58.15815816\n",
            "  -57.95795796  -57.75775776  -57.55755756  -57.35735736  -57.15715716\n",
            "  -56.95695696  -56.75675676  -56.55655656  -56.35635636  -56.15615616\n",
            "  -55.95595596  -55.75575576  -55.55555556  -55.35535536  -55.15515516\n",
            "  -54.95495495  -54.75475475  -54.55455455  -54.35435435  -54.15415415\n",
            "  -53.95395395  -53.75375375  -53.55355355  -53.35335335  -53.15315315\n",
            "  -52.95295295  -52.75275275  -52.55255255  -52.35235235  -52.15215215\n",
            "  -51.95195195  -51.75175175  -51.55155155  -51.35135135  -51.15115115\n",
            "  -50.95095095  -50.75075075  -50.55055055  -50.35035035  -50.15015015\n",
            "  -49.94994995  -49.74974975  -49.54954955  -49.34934935  -49.14914915\n",
            "  -48.94894895  -48.74874875  -48.54854855  -48.34834835  -48.14814815\n",
            "  -47.94794795  -47.74774775  -47.54754755  -47.34734735  -47.14714715\n",
            "  -46.94694695  -46.74674675  -46.54654655  -46.34634635  -46.14614615\n",
            "  -45.94594595  -45.74574575  -45.54554555  -45.34534535  -45.14514515\n",
            "  -44.94494494  -44.74474474  -44.54454454  -44.34434434  -44.14414414\n",
            "  -43.94394394  -43.74374374  -43.54354354  -43.34334334  -43.14314314\n",
            "  -42.94294294  -42.74274274  -42.54254254  -42.34234234  -42.14214214\n",
            "  -41.94194194  -41.74174174  -41.54154154  -41.34134134  -41.14114114\n",
            "  -40.94094094  -40.74074074  -40.54054054  -40.34034034  -40.14014014\n",
            "  -39.93993994  -39.73973974  -39.53953954  -39.33933934  -39.13913914\n",
            "  -38.93893894  -38.73873874  -38.53853854  -38.33833834  -38.13813814\n",
            "  -37.93793794  -37.73773774  -37.53753754  -37.33733734  -37.13713714\n",
            "  -36.93693694  -36.73673674  -36.53653654  -36.33633634  -36.13613614\n",
            "  -35.93593594  -35.73573574  -35.53553554  -35.33533534  -35.13513514\n",
            "  -34.93493493  -34.73473473  -34.53453453  -34.33433433  -34.13413413\n",
            "  -33.93393393  -33.73373373  -33.53353353  -33.33333333  -33.13313313\n",
            "  -32.93293293  -32.73273273  -32.53253253  -32.33233233  -32.13213213\n",
            "  -31.93193193  -31.73173173  -31.53153153  -31.33133133  -31.13113113\n",
            "  -30.93093093  -30.73073073  -30.53053053  -30.33033033  -30.13013013\n",
            "  -29.92992993  -29.72972973  -29.52952953  -29.32932933  -29.12912913\n",
            "  -28.92892893  -28.72872873  -28.52852853  -28.32832833  -28.12812813\n",
            "  -27.92792793  -27.72772773  -27.52752753  -27.32732733  -27.12712713\n",
            "  -26.92692693  -26.72672673  -26.52652653  -26.32632633  -26.12612613\n",
            "  -25.92592593  -25.72572573  -25.52552553  -25.32532533  -25.12512513\n",
            "  -24.92492492  -24.72472472  -24.52452452  -24.32432432  -24.12412412\n",
            "  -23.92392392  -23.72372372  -23.52352352  -23.32332332  -23.12312312\n",
            "  -22.92292292  -22.72272272  -22.52252252  -22.32232232  -22.12212212\n",
            "  -21.92192192  -21.72172172  -21.52152152  -21.32132132  -21.12112112\n",
            "  -20.92092092  -20.72072072  -20.52052052  -20.32032032  -20.12012012\n",
            "  -19.91991992  -19.71971972  -19.51951952  -19.31931932  -19.11911912\n",
            "  -18.91891892  -18.71871872  -18.51851852  -18.31831832  -18.11811812\n",
            "  -17.91791792  -17.71771772  -17.51751752  -17.31731732  -17.11711712\n",
            "  -16.91691692  -16.71671672  -16.51651652  -16.31631632  -16.11611612\n",
            "  -15.91591592  -15.71571572  -15.51551552  -15.31531532  -15.11511512\n",
            "  -14.91491491  -14.71471471  -14.51451451  -14.31431431  -14.11411411\n",
            "  -13.91391391  -13.71371371  -13.51351351  -13.31331331  -13.11311311\n",
            "  -12.91291291  -12.71271271  -12.51251251  -12.31231231  -12.11211211\n",
            "  -11.91191191  -11.71171171  -11.51151151  -11.31131131  -11.11111111\n",
            "  -10.91091091  -10.71071071  -10.51051051  -10.31031031  -10.11011011\n",
            "   -9.90990991   -9.70970971   -9.50950951   -9.30930931   -9.10910911\n",
            "   -8.90890891   -8.70870871   -8.50850851   -8.30830831   -8.10810811\n",
            "   -7.90790791   -7.70770771   -7.50750751   -7.30730731   -7.10710711\n",
            "   -6.90690691   -6.70670671   -6.50650651   -6.30630631   -6.10610611\n",
            "   -5.90590591   -5.70570571   -5.50550551   -5.30530531   -5.10510511\n",
            "   -4.9049049    -4.7047047    -4.5045045    -4.3043043    -4.1041041\n",
            "   -3.9039039    -3.7037037    -3.5035035    -3.3033033    -3.1031031\n",
            "   -2.9029029    -2.7027027    -2.5025025    -2.3023023    -2.1021021\n",
            "   -1.9019019    -1.7017017    -1.5015015    -1.3013013    -1.1011011\n",
            "   -0.9009009    -0.7007007    -0.5005005    -0.3003003    -0.1001001\n",
            "    0.1001001     0.3003003     0.5005005     0.7007007     0.9009009\n",
            "    1.1011011     1.3013013     1.5015015     1.7017017     1.9019019\n",
            "    2.1021021     2.3023023     2.5025025     2.7027027     2.9029029\n",
            "    3.1031031     3.3033033     3.5035035     3.7037037     3.9039039\n",
            "    4.1041041     4.3043043     4.5045045     4.7047047     4.9049049\n",
            "    5.10510511    5.30530531    5.50550551    5.70570571    5.90590591\n",
            "    6.10610611    6.30630631    6.50650651    6.70670671    6.90690691\n",
            "    7.10710711    7.30730731    7.50750751    7.70770771    7.90790791\n",
            "    8.10810811    8.30830831    8.50850851    8.70870871    8.90890891\n",
            "    9.10910911    9.30930931    9.50950951    9.70970971    9.90990991\n",
            "   10.11011011   10.31031031   10.51051051   10.71071071   10.91091091\n",
            "   11.11111111   11.31131131   11.51151151   11.71171171   11.91191191\n",
            "   12.11211211   12.31231231   12.51251251   12.71271271   12.91291291\n",
            "   13.11311311   13.31331331   13.51351351   13.71371371   13.91391391\n",
            "   14.11411411   14.31431431   14.51451451   14.71471471   14.91491491\n",
            "   15.11511512   15.31531532   15.51551552   15.71571572   15.91591592\n",
            "   16.11611612   16.31631632   16.51651652   16.71671672   16.91691692\n",
            "   17.11711712   17.31731732   17.51751752   17.71771772   17.91791792\n",
            "   18.11811812   18.31831832   18.51851852   18.71871872   18.91891892\n",
            "   19.11911912   19.31931932   19.51951952   19.71971972   19.91991992\n",
            "   20.12012012   20.32032032   20.52052052   20.72072072   20.92092092\n",
            "   21.12112112   21.32132132   21.52152152   21.72172172   21.92192192\n",
            "   22.12212212   22.32232232   22.52252252   22.72272272   22.92292292\n",
            "   23.12312312   23.32332332   23.52352352   23.72372372   23.92392392\n",
            "   24.12412412   24.32432432   24.52452452   24.72472472   24.92492492\n",
            "   25.12512513   25.32532533   25.52552553   25.72572573   25.92592593\n",
            "   26.12612613   26.32632633   26.52652653   26.72672673   26.92692693\n",
            "   27.12712713   27.32732733   27.52752753   27.72772773   27.92792793\n",
            "   28.12812813   28.32832833   28.52852853   28.72872873   28.92892893\n",
            "   29.12912913   29.32932933   29.52952953   29.72972973   29.92992993\n",
            "   30.13013013   30.33033033   30.53053053   30.73073073   30.93093093\n",
            "   31.13113113   31.33133133   31.53153153   31.73173173   31.93193193\n",
            "   32.13213213   32.33233233   32.53253253   32.73273273   32.93293293\n",
            "   33.13313313   33.33333333   33.53353353   33.73373373   33.93393393\n",
            "   34.13413413   34.33433433   34.53453453   34.73473473   34.93493493\n",
            "   35.13513514   35.33533534   35.53553554   35.73573574   35.93593594\n",
            "   36.13613614   36.33633634   36.53653654   36.73673674   36.93693694\n",
            "   37.13713714   37.33733734   37.53753754   37.73773774   37.93793794\n",
            "   38.13813814   38.33833834   38.53853854   38.73873874   38.93893894\n",
            "   39.13913914   39.33933934   39.53953954   39.73973974   39.93993994\n",
            "   40.14014014   40.34034034   40.54054054   40.74074074   40.94094094\n",
            "   41.14114114   41.34134134   41.54154154   41.74174174   41.94194194\n",
            "   42.14214214   42.34234234   42.54254254   42.74274274   42.94294294\n",
            "   43.14314314   43.34334334   43.54354354   43.74374374   43.94394394\n",
            "   44.14414414   44.34434434   44.54454454   44.74474474   44.94494494\n",
            "   45.14514515   45.34534535   45.54554555   45.74574575   45.94594595\n",
            "   46.14614615   46.34634635   46.54654655   46.74674675   46.94694695\n",
            "   47.14714715   47.34734735   47.54754755   47.74774775   47.94794795\n",
            "   48.14814815   48.34834835   48.54854855   48.74874875   48.94894895\n",
            "   49.14914915   49.34934935   49.54954955   49.74974975   49.94994995\n",
            "   50.15015015   50.35035035   50.55055055   50.75075075   50.95095095\n",
            "   51.15115115   51.35135135   51.55155155   51.75175175   51.95195195\n",
            "   52.15215215   52.35235235   52.55255255   52.75275275   52.95295295\n",
            "   53.15315315   53.35335335   53.55355355   53.75375375   53.95395395\n",
            "   54.15415415   54.35435435   54.55455455   54.75475475   54.95495495\n",
            "   55.15515516   55.35535536   55.55555556   55.75575576   55.95595596\n",
            "   56.15615616   56.35635636   56.55655656   56.75675676   56.95695696\n",
            "   57.15715716   57.35735736   57.55755756   57.75775776   57.95795796\n",
            "   58.15815816   58.35835836   58.55855856   58.75875876   58.95895896\n",
            "   59.15915916   59.35935936   59.55955956   59.75975976   59.95995996\n",
            "   60.16016016   60.36036036   60.56056056   60.76076076   60.96096096\n",
            "   61.16116116   61.36136136   61.56156156   61.76176176   61.96196196\n",
            "   62.16216216   62.36236236   62.56256256   62.76276276   62.96296296\n",
            "   63.16316316   63.36336336   63.56356356   63.76376376   63.96396396\n",
            "   64.16416416   64.36436436   64.56456456   64.76476476   64.96496496\n",
            "   65.16516517   65.36536537   65.56556557   65.76576577   65.96596597\n",
            "   66.16616617   66.36636637   66.56656657   66.76676677   66.96696697\n",
            "   67.16716717   67.36736737   67.56756757   67.76776777   67.96796797\n",
            "   68.16816817   68.36836837   68.56856857   68.76876877   68.96896897\n",
            "   69.16916917   69.36936937   69.56956957   69.76976977   69.96996997\n",
            "   70.17017017   70.37037037   70.57057057   70.77077077   70.97097097\n",
            "   71.17117117   71.37137137   71.57157157   71.77177177   71.97197197\n",
            "   72.17217217   72.37237237   72.57257257   72.77277277   72.97297297\n",
            "   73.17317317   73.37337337   73.57357357   73.77377377   73.97397397\n",
            "   74.17417417   74.37437437   74.57457457   74.77477477   74.97497497\n",
            "   75.17517518   75.37537538   75.57557558   75.77577578   75.97597598\n",
            "   76.17617618   76.37637638   76.57657658   76.77677678   76.97697698\n",
            "   77.17717718   77.37737738   77.57757758   77.77777778   77.97797798\n",
            "   78.17817818   78.37837838   78.57857858   78.77877878   78.97897898\n",
            "   79.17917918   79.37937938   79.57957958   79.77977978   79.97997998\n",
            "   80.18018018   80.38038038   80.58058058   80.78078078   80.98098098\n",
            "   81.18118118   81.38138138   81.58158158   81.78178178   81.98198198\n",
            "   82.18218218   82.38238238   82.58258258   82.78278278   82.98298298\n",
            "   83.18318318   83.38338338   83.58358358   83.78378378   83.98398398\n",
            "   84.18418418   84.38438438   84.58458458   84.78478478   84.98498498\n",
            "   85.18518519   85.38538539   85.58558559   85.78578579   85.98598599\n",
            "   86.18618619   86.38638639   86.58658659   86.78678679   86.98698699\n",
            "   87.18718719   87.38738739   87.58758759   87.78778779   87.98798799\n",
            "   88.18818819   88.38838839   88.58858859   88.78878879   88.98898899\n",
            "   89.18918919   89.38938939   89.58958959   89.78978979   89.98998999\n",
            "   90.19019019   90.39039039   90.59059059   90.79079079   90.99099099\n",
            "   91.19119119   91.39139139   91.59159159   91.79179179   91.99199199\n",
            "   92.19219219   92.39239239   92.59259259   92.79279279   92.99299299\n",
            "   93.19319319   93.39339339   93.59359359   93.79379379   93.99399399\n",
            "   94.19419419   94.39439439   94.59459459   94.79479479   94.99499499\n",
            "   95.1951952    95.3953954    95.5955956    95.7957958    95.995996\n",
            "   96.1961962    96.3963964    96.5965966    96.7967968    96.996997\n",
            "   97.1971972    97.3973974    97.5975976    97.7977978    97.997998\n",
            "   98.1981982    98.3983984    98.5985986    98.7987988    98.998999\n",
            "   99.1991992    99.3993994    99.5995996    99.7997998   100.        ]\n"
          ]
        }
      ],
      "source": [
        "# Generamos vectores que barran todo el dominio\n",
        "x = np.linspace(-100, 100, 1000)\n",
        "y = np.linspace(-100, 100, 1000)\n",
        "print('x= ', x)\n",
        "print('y= ', y)"
      ]
    },
    {
      "cell_type": "markdown",
      "id": "91c6b59e-7c03-4a8c-8c75-aecaa2b3fe02",
      "metadata": {
        "id": "91c6b59e-7c03-4a8c-8c75-aecaa2b3fe02"
      },
      "source": [
        "[numpy.meshgrid](https://numpy.org/doc/stable/reference/generated/numpy.meshgrid.html)\n",
        "\n",
        "[numpy.ravel](https://numpy.org/doc/stable/reference/generated/numpy.ravel.html)\n",
        "\n",
        "[numpy.c_](https://numpy.org/doc/stable/reference/generated/numpy.c_.html)"
      ]
    },
    {
      "cell_type": "code",
      "execution_count": 12,
      "id": "1d60d267-bce7-40d4-b689-4826bd8a69b1",
      "metadata": {
        "id": "1d60d267-bce7-40d4-b689-4826bd8a69b1"
      },
      "outputs": [],
      "source": [
        "# Evaluamos todos los valores de las variables\n",
        "x_ax, y_ax = np.meshgrid(x, y)\n",
        "vals = np.c_[x_ax.ravel(), y_ax.ravel()]\n",
        "fx = np.reshape([funcion_prueba(val) for val in vals],(1000, 1000))"
      ]
    },
    {
      "cell_type": "markdown",
      "id": "c21c36a7-9eb8-4965-b9a7-418888faec93",
      "metadata": {
        "id": "c21c36a7-9eb8-4965-b9a7-418888faec93"
      },
      "source": [
        "[matplotlib.pyplot.gca](https://matplotlib.org/3.1.1/api/_as_gen/matplotlib.pyplot.gca.html)"
      ]
    },
    {
      "cell_type": "code",
      "execution_count": 14,
      "id": "1367e8c7-e4af-47f7-93a6-55bfe0cdae0d",
      "metadata": {
        "colab": {
          "base_uri": "https://localhost:8080/",
          "height": 653
        },
        "id": "1367e8c7-e4af-47f7-93a6-55bfe0cdae0d",
        "outputId": "050c06a8-26c3-4414-df70-90931085d0d7"
      },
      "outputs": [
        {
          "output_type": "execute_result",
          "data": {
            "text/plain": [
              "Text(0.5, 0, 'f(x,y)')"
            ]
          },
          "metadata": {},
          "execution_count": 14
        },
        {
          "output_type": "display_data",
          "data": {
            "text/plain": [
              "<Figure size 800x600 with 1 Axes>"
            ],
            "image/png": "[encoded data removed]"
          },
          "metadata": {}
        }
      ],
      "source": [
        "# Representamos los resultados obtenidos\n",
        "figure_3d = plt.figure(figsize=(8,6))\n",
        "# ax = figure_3d.gca(projection=\"3d\")\n",
        "ax = figure_3d.add_axes(Axes3D(figure_3d))\n",
        "ax.plot_surface(x_ax, y_ax, fx, cmap=cm.coolwarm)\n",
        "ax.set_xlabel(\"x\")\n",
        "ax.set_ylabel(\"y\")\n",
        "ax.set_zlabel(\"f(x,y)\")"
      ]
    },
    {
      "cell_type": "markdown",
      "id": "aa806895-1d2f-4bda-86b4-d9ba8597f974",
      "metadata": {
        "id": "aa806895-1d2f-4bda-86b4-d9ba8597f974"
      },
      "source": [
        "#### ------------------------------------------------------------------"
      ]
    },
    {
      "cell_type": "markdown",
      "id": "d5e912ba-6bd6-4a1c-9bc2-442628178da2",
      "metadata": {
        "id": "d5e912ba-6bd6-4a1c-9bc2-442628178da2"
      },
      "source": [
        "A partir de ahora veremos los siguientes pasos:\n",
        "1. Definición del problema y generación de la población inicial\n",
        "- 1.1 Creación del problema\n",
        "- 1.2 Creación de la plantilla del individuo\n",
        "- 1.3 Crear individuos aleatorios y población inicial\n",
        "2. Función objetivo y operadores genéticos\n",
        "- 2.1 Función objetivo\n",
        "3. Incorporación de los operadores genéticos\n",
        "4. Últimos pasos: Algortimo Genético como caja negra\n",
        "- 4.1 Configuración algoritmo genético\n",
        "- 4.2 Resultados del algoritmo genético\n",
        "5. ¿Cómo conseguir resultados consistentes?\n",
        "6. Convergencia del algoritmo\n",
        "7. Para seguir aprendiendo"
      ]
    },
    {
      "cell_type": "markdown",
      "id": "4c56cea9-ef48-4084-a79c-e25d45222fc6",
      "metadata": {
        "id": "4c56cea9-ef48-4084-a79c-e25d45222fc6"
      },
      "source": [
        "#### 1. Definición del problema y generación de la población inicial"
      ]
    },
    {
      "cell_type": "markdown",
      "id": "987a1efc-5216-411b-a826-242fd96be59e",
      "metadata": {
        "id": "987a1efc-5216-411b-a826-242fd96be59e"
      },
      "source": [
        "Se importan las librerías necesarias"
      ]
    },
    {
      "cell_type": "code",
      "execution_count": 15,
      "id": "bd25ac80-6bbd-401b-95dc-de908108df29",
      "metadata": {
        "id": "bd25ac80-6bbd-401b-95dc-de908108df29"
      },
      "outputs": [],
      "source": [
        "import random\n",
        "from deap import base\n",
        "from deap import creator\n",
        "from deap import tools"
      ]
    },
    {
      "cell_type": "markdown",
      "id": "65cf7f7d-95bd-4bfe-bdd0-8a21c8034295",
      "metadata": {
        "id": "65cf7f7d-95bd-4bfe-bdd0-8a21c8034295"
      },
      "source": [
        "##### 1.1 Creación del problema ---------------------------------------------"
      ]
    },
    {
      "cell_type": "markdown",
      "id": "8c02cb79-d0a6-4a00-8193-5b36a536ca86",
      "metadata": {
        "id": "8c02cb79-d0a6-4a00-8193-5b36a536ca86"
      },
      "source": [
        "Creamos los objetos para **definir el tipo de problema de optimización** (maximizar o minimizar), con el método `create` de la clase `creator`. Crea una nueva clase llamada `name=FitnessMax` (podría ser otro), que hereda de `base=base.Fitness` y que tiene un atributo llamado `attribute=weights` que se añadirá a la clase cuando esta se cree (opcional) y que determina el tipo de problema de optimización que estamos definiendo (contiene una tupla con tantas componentes como objetivos tenga el problema y con un valor que indica si es maximización o minimización). En nuestro caso, un solo objetivo y maximización (porque 1.0 es positivo). El objeto `base.Fitness` contiene los atributos encargados de almacenar el **fitness** o desempeño de un individuo y otros [atributos de base.Fitness](https://deap.readthedocs.io/en/master/api/base.html#deap.base.Fitness), que los heredará nuestra nueva clase `FitnessMax`:\n",
        "* `values`: Una tupla con los valores de **fitness** de cada uno de los objetivos de nuestro problema. Contiene, por tanto, la calidad de cada individuo en cada uno de los objetivos de nuestro problema\n",
        "* `dominates`: Devuelve `True` si una solución es estrictamente peor que otra (tiene sentido en AGs de varios objetivos)\n",
        "* `valid`: Indica si el **fitness** de un individuo es válido. Se usa para saber el número de individuos que se tienen que evaluar en cada iteración. Si un individuo tiene el atributo `values` vacío, el atributo `valid` será `False`."
      ]
    },
    {
      "cell_type": "code",
      "execution_count": 16,
      "id": "38ef88f9-3c39-43fe-b4d1-9d5c2577eb54",
      "metadata": {
        "id": "38ef88f9-3c39-43fe-b4d1-9d5c2577eb54"
      },
      "outputs": [],
      "source": [
        "creator.create(\"FitnessMax\", base.Fitness, weights=(1.0,))"
      ]
    },
    {
      "cell_type": "markdown",
      "id": "6fc96165-7ded-4064-ad61-119bd84aade3",
      "metadata": {
        "id": "6fc96165-7ded-4064-ad61-119bd84aade3"
      },
      "source": [
        "Lo que realmente hemos hecho es:\n",
        "```\n",
        "# Importamos las librerías necesarias\n",
        "from deap import base\n",
        "\n",
        "# Generamos la clase\n",
        "class FitnessMax(base.Fitness):\n",
        "  weights = (1.0,)\n",
        "```"
      ]
    },
    {
      "cell_type": "markdown",
      "id": "1909fa1a-2f5f-4b77-b0f3-a1b7961d0138",
      "metadata": {
        "id": "1909fa1a-2f5f-4b77-b0f3-a1b7961d0138"
      },
      "source": [
        "##### 1.2 Creación de la plantilla del individuo ---------------------------------------------"
      ]
    },
    {
      "cell_type": "markdown",
      "id": "3793b0c2-8558-4fe8-9e28-8c7e99c45f72",
      "metadata": {
        "id": "3793b0c2-8558-4fe8-9e28-8c7e99c45f72"
      },
      "source": [
        "Creamos el **tipo de individuo** (el tipo de objeto de Python o plantilla que va a contener el individuo (lista, vector, etc)\n",
        "y sus atributos. Creamos la clase `Individual` que hereda de la clase `list` [listas en Python](https://docs.python.org/3/tutorial/datastructures.html) y que contiene el atributo `fitness` inicializado con el objeto `FitnessMax`: Un individuo es una lista con un atributo que almacenará la calidad o desempeño de si mismo"
      ]
    },
    {
      "cell_type": "code",
      "execution_count": 17,
      "id": "7e882ca7-5af8-4553-8c6a-0bf672951b58",
      "metadata": {
        "id": "7e882ca7-5af8-4553-8c6a-0bf672951b58"
      },
      "outputs": [],
      "source": [
        "creator.create(\"Individual\", list, fitness=creator.FitnessMax)"
      ]
    },
    {
      "cell_type": "markdown",
      "id": "76b4225c-5f6b-4b4f-86b3-6f7c7d70bcbc",
      "metadata": {
        "id": "76b4225c-5f6b-4b4f-86b3-6f7c7d70bcbc"
      },
      "source": [
        "Lo que realmente hemos hecho hasta ahora:\n",
        "```\n",
        "# Importamos las librerías necesarias\n",
        "from deap import base\n",
        "\n",
        "# Generamos la clase\n",
        "class MaxFitness(base.Fitness):\n",
        "  weights = (1.0,)\n",
        "\n",
        "# Generamos la clase Individual\n",
        "class Individual(list)\n",
        "  fitness = MaxFitness\n",
        "```"
      ]
    },
    {
      "cell_type": "markdown",
      "id": "289228de-76d9-430d-b482-55c7aa774f97",
      "metadata": {
        "id": "289228de-76d9-430d-b482-55c7aa774f97"
      },
      "source": [
        "##### 1.3 Crear individuos aleatorios y población inicial ---------------------------------------------"
      ]
    },
    {
      "cell_type": "markdown",
      "id": "874ae073-c5d9-4d32-8505-9434d086d41b",
      "metadata": {
        "id": "874ae073-c5d9-4d32-8505-9434d086d41b"
      },
      "source": [
        "Definición del **objeto caja de herramientas** o `Toolbox` [Toolbox](https://deap.readthedocs.io/en/master/api/base.html#toolbox) que contendrá, mediante\n",
        "**registro**, un conjunto de funciones utilizadas por el algoritmo durante\n",
        "su ejecución, como suelen ser:\n",
        "* Función para **crear los individuos** de forma **aleatoria**\n",
        "* Función para **crear la población**\n",
        "* **Operadores genéticos** (selección, cruce y mutación)\n",
        "* Función **objetivo**"
      ]
    },
    {
      "cell_type": "code",
      "execution_count": 18,
      "id": "76782a39-c72a-4445-8336-411c1200fca5",
      "metadata": {
        "id": "76782a39-c72a-4445-8336-411c1200fca5"
      },
      "outputs": [],
      "source": [
        "toolbox = base.Toolbox()"
      ]
    },
    {
      "cell_type": "markdown",
      "id": "766597f4-1a91-4fc5-9db2-4e0bc1730aaf",
      "metadata": {
        "id": "766597f4-1a91-4fc5-9db2-4e0bc1730aaf"
      },
      "source": [
        "En el `Toolbox` registraremos funciones necesarias para ejecutar el AG, a través del método `register` de la clase `base.Toolbox` que tiene los atributos:\n",
        "* `alias`: El nombre con el que registramos la función en el `Toolbox`\n",
        "* `function`: La función que estamos registrando\n",
        "* `argument`: Los argumentos que se pasan a la función"
      ]
    },
    {
      "cell_type": "markdown",
      "id": "3ff0e013-fe58-4503-873c-7d49fbcf8196",
      "metadata": {
        "id": "3ff0e013-fe58-4503-873c-7d49fbcf8196"
      },
      "source": [
        "Registramos la función `attr_uniform` (Que será un método de la clase `toolbox`) que permite **crear individuos aleatorios** desarrollando una función (usaremos `random.uniform`) que nos permita generar un valor aleatorio para cada variable independiente (cada gen del comosoma), esto es, cada una de las posiciones de la lista con valores sujetos a las restricciones de nuestro problema (-100, 100)"
      ]
    },
    {
      "cell_type": "code",
      "execution_count": 19,
      "id": "abd798bf-ebba-4e4e-91d7-dde072730f05",
      "metadata": {
        "id": "abd798bf-ebba-4e4e-91d7-dde072730f05"
      },
      "outputs": [],
      "source": [
        "# Generación de genes\n",
        "toolbox.register(\"attr_uniform\", random.uniform, -100, 100)"
      ]
    },
    {
      "cell_type": "code",
      "execution_count": 20,
      "id": "67bf9c28-bf5f-4e4f-b5e7-9758a3b1b359",
      "metadata": {
        "colab": {
          "base_uri": "https://localhost:8080/"
        },
        "id": "67bf9c28-bf5f-4e4f-b5e7-9758a3b1b359",
        "outputId": "09085f4f-c056-4845-8663-ad64d540e797"
      },
      "outputs": [
        {
          "output_type": "execute_result",
          "data": {
            "text/plain": [
              "-37.970486136133474"
            ]
          },
          "metadata": {},
          "execution_count": 20
        }
      ],
      "source": [
        "# Probamos y vemos que generamos un número leatorio entre -100 y 100 distinto cada vez\n",
        "toolbox.attr_uniform()"
      ]
    },
    {
      "cell_type": "markdown",
      "id": "8330bf67-3bfe-4be1-af0e-f3a48e17db43",
      "metadata": {
        "id": "8330bf67-3bfe-4be1-af0e-f3a48e17db43"
      },
      "source": [
        "Si se quiere detalle de como hace esto Python, investigar el método `partial` del módulo nativo `functools`: [functools](https://docs.python.org/3/library/functools.html)"
      ]
    },
    {
      "cell_type": "markdown",
      "id": "aef27d6f-c86e-40be-af18-734134431527",
      "metadata": {
        "id": "aef27d6f-c86e-40be-af18-734134431527"
      },
      "source": [
        "Lo que realmente hemos hecho hasta ahora:\n",
        "```\n",
        "# Importamos las librerías necesarias\n",
        "import random\n",
        "\n",
        "# Definimos la función correspondiente\n",
        "def funcion(a=-100, b=100):\n",
        "  return random.uniform(a,b)\n",
        "\n",
        "# Definimos la clase\n",
        "class Toolbox(object)\n",
        "  attr_uniform = function\n",
        "```"
      ]
    },
    {
      "cell_type": "markdown",
      "id": "035176f8-5020-4c52-ad7e-665f22f442ba",
      "metadata": {
        "id": "035176f8-5020-4c52-ad7e-665f22f442ba"
      },
      "source": [
        "Creamos el individuo completo llamando a la función que genera cada uno de los individuos tantas veces como variables independientes tengamos. Eso lo hacemos registrando la función `individual` que, a su vez, llama a la función `tools.initRepeat` que tiene los siguientes parámetros:\n",
        "* `container`: Tipo de dato donde se almacenará el resultado del argumento `func` -> En nuestro caso, la clase `creator.individual` creada anteriormente\n",
        "* `func`: Función a la que se llamará `n` veces -> En nuestro caso `toolbox.attr_uniform` creada anteriormente para crear cada gen\n",
        "* `n`: Número de veces que se llamará a la función `func`-> En nuestro caso 2 cromosomas a crear\n"
      ]
    },
    {
      "cell_type": "code",
      "execution_count": 21,
      "id": "9962beb1-0764-4915-850d-835d7bf81de0",
      "metadata": {
        "id": "9962beb1-0764-4915-850d-835d7bf81de0"
      },
      "outputs": [],
      "source": [
        "# Generación de inviduos\n",
        "toolbox.register(\"individual\", tools.initRepeat, creator.Individual,\n",
        "                 toolbox.attr_uniform, 2)"
      ]
    },
    {
      "cell_type": "code",
      "execution_count": 22,
      "id": "9676786f-6d1b-4c54-bd3c-3a67089b881b",
      "metadata": {
        "colab": {
          "base_uri": "https://localhost:8080/"
        },
        "id": "9676786f-6d1b-4c54-bd3c-3a67089b881b",
        "outputId": "d502448f-fbd6-471a-968e-81934a14408f"
      },
      "outputs": [
        {
          "output_type": "execute_result",
          "data": {
            "text/plain": [
              "[45.96634965202574, 79.7676575935987]"
            ]
          },
          "metadata": {},
          "execution_count": 22
        }
      ],
      "source": [
        "# Ejemplo de la generación de un individuo aleatorio\n",
        "individuo = toolbox.individual()\n",
        "individuo"
      ]
    },
    {
      "cell_type": "code",
      "execution_count": 23,
      "id": "d7767615-a113-49ba-9875-f2033a2ba0e5",
      "metadata": {
        "colab": {
          "base_uri": "https://localhost:8080/"
        },
        "id": "d7767615-a113-49ba-9875-f2033a2ba0e5",
        "outputId": "5d96b1a8-5c7f-4ebe-f80e-82fcec9c9546"
      },
      "outputs": [
        {
          "output_type": "execute_result",
          "data": {
            "text/plain": [
              "()"
            ]
          },
          "metadata": {},
          "execution_count": 23
        }
      ],
      "source": [
        "# Recordar que individuo es una lista que tiene un atributo fitness\n",
        "# donde se almacena la calidad del mismo, que al principio será\n",
        "# vacío, porque aun no ha sido evaluado\n",
        "individuo.fitness.values"
      ]
    },
    {
      "cell_type": "markdown",
      "id": "5a8e93e0-c632-4e9e-a3ee-a9e6b466859d",
      "metadata": {
        "id": "5a8e93e0-c632-4e9e-a3ee-a9e6b466859d"
      },
      "source": [
        "El procedimiento para **crear una población** es análogo a la creación de un individuo:"
      ]
    },
    {
      "cell_type": "code",
      "execution_count": 24,
      "id": "c4b95bf0-6821-4f2d-9bbe-e1f969d6adab",
      "metadata": {
        "id": "c4b95bf0-6821-4f2d-9bbe-e1f969d6adab"
      },
      "outputs": [],
      "source": [
        "# Generación de población\n",
        "toolbox.register(\"population\", tools.initRepeat, list,\n",
        "                 toolbox.individual, 32)"
      ]
    },
    {
      "cell_type": "markdown",
      "id": "de989e72-9240-49f8-9566-22de3f44c7bc",
      "metadata": {
        "id": "de989e72-9240-49f8-9566-22de3f44c7bc"
      },
      "source": [
        " Como se puede ver, se registra la función `population` que utiliza `initRepeat` para llamar 32 veces a la función `Individual` (una vez por cad individuo que formará la población inicial). El resultado se guarda en una `list` que contiene la población inicial generada. Se recomienda elegir números **divisibles entre 4**, ya que algunas operaciones genéticas del módulo `deap` pueden dar problemas si no se cumple este requisito"
      ]
    },
    {
      "cell_type": "code",
      "execution_count": 25,
      "id": "0de3dcdc-e574-465e-bbf9-12cc9048e555",
      "metadata": {
        "colab": {
          "base_uri": "https://localhost:8080/"
        },
        "id": "0de3dcdc-e574-465e-bbf9-12cc9048e555",
        "outputId": "caeb1a39-ceb5-4900-d9af-98cb44da0938"
      },
      "outputs": [
        {
          "output_type": "stream",
          "name": "stdout",
          "text": [
            "[[36.79678638308826, -5.571456909457325], [-79.85975838632683, -13.165632909243257], [22.177394688760316, 82.60221064757965], [93.32127355415176, -4.5980446894566], [73.061985554328, -47.90153792160812], [61.005565402604475, 9.739860767117861], [-97.19165996719622, 43.94093728079082], [-20.235291555146247, 64.96899542964661], [33.63064024637018, -99.77143613711435], [-1.284426706935065, 73.52055509855617], [-51.2178246225736, -34.95912745052199], [74.09424642173093, -61.78658169952189], [13.50214812413438, -52.27681427695596], [93.50805005802866, 60.63589385597402], [-10.406085712885925, -83.91083628949292], [-35.98907906549084, 1.5881285041147777], [86.56676484538136, -78.18843081377926], [10.253449218110248, 41.312281973377935], [9.488182265684756, 62.8933726582672], [8.056721394064795, 92.76770919476019], [20.63712559227659, 17.52341283508727], [-11.00219474489677, 19.257372316621257], [-23.019770805467914, 15.130202832977702], [-41.934099519448395, -62.121734289128774], [-62.654094348888975, 22.554635973721332], [31.331877797925756, -4.693801598123855], [-82.03512776088127, 51.52078439328736], [75.35407416455496, 84.67620318925611], [68.4920446280365, 79.6346242715758], [84.61648796403537, 8.119984989610884], [-21.740789953075023, 41.05667997088125], [-44.87317573757457, 62.32574170157571]]\n"
          ]
        }
      ],
      "source": [
        "# Ejemplo de creación de una población. Se ve que es\n",
        "# una lista de 32 listas (una por cada individuo)\n",
        "poblacion = toolbox.population()\n",
        "print(poblacion)"
      ]
    },
    {
      "cell_type": "code",
      "execution_count": 26,
      "id": "fac45b51-d1ef-4c60-b4e7-926812999925",
      "metadata": {
        "colab": {
          "base_uri": "https://localhost:8080/"
        },
        "id": "fac45b51-d1ef-4c60-b4e7-926812999925",
        "outputId": "d8b922fe-77ad-47d8-8dd3-7a3cc6c29c40"
      },
      "outputs": [
        {
          "output_type": "execute_result",
          "data": {
            "text/plain": [
              "[36.79678638308826, -5.571456909457325]"
            ]
          },
          "metadata": {},
          "execution_count": 26
        }
      ],
      "source": [
        "# Cada individuo tiene 2 componentes\n",
        "poblacion[0]"
      ]
    },
    {
      "cell_type": "code",
      "execution_count": 27,
      "id": "8c89e0f0-ae16-4372-aa5e-4b69861a2362",
      "metadata": {
        "colab": {
          "base_uri": "https://localhost:8080/"
        },
        "id": "8c89e0f0-ae16-4372-aa5e-4b69861a2362",
        "outputId": "ccf858c4-328d-4846-e22b-5a4fb2f17758"
      },
      "outputs": [
        {
          "output_type": "execute_result",
          "data": {
            "text/plain": [
              "()"
            ]
          },
          "metadata": {},
          "execution_count": 27
        }
      ],
      "source": [
        "poblacion[0].fitness.values"
      ]
    },
    {
      "cell_type": "markdown",
      "id": "7d6f0c8b-5e45-4026-848a-fac81d279f59",
      "metadata": {
        "id": "7d6f0c8b-5e45-4026-848a-fac81d279f59"
      },
      "source": [
        "Respecto al **tamaño de la población**, en este caso, el criterio que seguiremos es que, como mínimo, sea de **un orden de magnitud** superior al **número de variables independientes** y como máximo 2 * ese orden de magnitud. En nuestro caso, hay dos variables independientes (población entre 20 y 40 individuos)"
      ]
    },
    {
      "cell_type": "markdown",
      "id": "a7aa302f-a7f1-413e-9d7e-d56947300264",
      "metadata": {
        "id": "a7aa302f-a7f1-413e-9d7e-d56947300264"
      },
      "source": [
        "#### 2. Función objetivo y operadores genéticos"
      ]
    },
    {
      "cell_type": "markdown",
      "id": "7678a949-a4d8-46c4-916b-3fc36876a626",
      "metadata": {
        "id": "7678a949-a4d8-46c4-916b-3fc36876a626"
      },
      "source": [
        "Ahora crearemos nuestra **función objetivo** y la **registraremos** en nuestro `Toolbox`"
      ]
    },
    {
      "cell_type": "markdown",
      "id": "3ca40492-84cb-4d6a-a231-c33da7eceff3",
      "metadata": {
        "id": "3ca40492-84cb-4d6a-a231-c33da7eceff3"
      },
      "source": [
        "##### 2.1 Función Objetivo ---------------------------------------------"
      ]
    },
    {
      "cell_type": "markdown",
      "id": "eed9e187-fda1-4c12-bc2b-d6f6d45138df",
      "metadata": {
        "id": "eed9e187-fda1-4c12-bc2b-d6f6d45138df"
      },
      "source": [
        "Dividimos funciones objetivo en:\n",
        "* F.O. codificadas en Python: [math](https://docs.python.org/3.6/library/math.html) o [scipy](https://docs.scipy.org/doc/scipy) (en nuestro ejemplo lo haremos así)\n",
        "* F.O. que llaman a un programa externo para obtener el desempeño del individuo, para modelo muy complejos: [módulo nativo os](https://docs.python.org/3/library/os.html) o [módulo subproccess](https://docs.python.org/3.6/library/subprocess.html) (no lo usaremos en nuestro ejemplo)\n"
      ]
    },
    {
      "cell_type": "code",
      "execution_count": 28,
      "id": "23c9f31f-3a4c-4831-aa36-ab80ee46a4e3",
      "metadata": {
        "id": "23c9f31f-3a4c-4831-aa36-ab80ee46a4e3"
      },
      "outputs": [],
      "source": [
        "def funcion_objetivo(x):\n",
        "    \"\"\"\n",
        "    Función objetivo de nuestro problema\n",
        "    \"\"\"\n",
        "    for i in range(len(x)):\n",
        "        if x[i] > 100 or x[i] < -100:\n",
        "            return -1,\n",
        "    res = math.sqrt(x[0]**2 + x[1]**2)\n",
        "    return res,"
      ]
    },
    {
      "cell_type": "markdown",
      "id": "8985c3a6-5566-4aa6-8a1a-fcb65311f7f3",
      "metadata": {
        "id": "8985c3a6-5566-4aa6-8a1a-fcb65311f7f3"
      },
      "source": [
        "Si una solución **no cumple las restricciones** (una de las dos variables independientestoma valores fuera del dominio de la función) debe ser **descartada** (devolvemos -1). A esto se le llama **aplicar la pena de muerte**.\n",
        "\n",
        "Al tratarse de una función de **maximización** las soluciones válidas solo aportarán valores de la función objetivo **positivas** y, por lo tanto, un -1 **penaliza totalmente el resultado**. La **pena de muerte** hace que **un individuo no participe en las operaciones de cruce y mutación** y, por lo tanto, **sus genes no se utilizarán para generar las siguientes generaciones**"
      ]
    },
    {
      "cell_type": "markdown",
      "id": "bd68d93e-9d0f-4b3c-9985-5d86794da64e",
      "metadata": {
        "id": "bd68d93e-9d0f-4b3c-9985-5d86794da64e"
      },
      "source": [
        "Ahora, **registramos la función de fitness**"
      ]
    },
    {
      "cell_type": "code",
      "execution_count": 29,
      "id": "552daa96-2941-4961-93a0-ddce4402643d",
      "metadata": {
        "id": "552daa96-2941-4961-93a0-ddce4402643d"
      },
      "outputs": [],
      "source": [
        "toolbox.register(\"evaluate\", funcion_objetivo)"
      ]
    },
    {
      "cell_type": "code",
      "execution_count": 30,
      "id": "c54ddcce-582d-4f08-8cf3-2d72ffb8091c",
      "metadata": {
        "colab": {
          "base_uri": "https://localhost:8080/"
        },
        "id": "c54ddcce-582d-4f08-8cf3-2d72ffb8091c",
        "outputId": "9054f406-8e9f-4cde-e911-8217c1dfb262"
      },
      "outputs": [
        {
          "output_type": "execute_result",
          "data": {
            "text/plain": [
              "(92.06402390891836,)"
            ]
          },
          "metadata": {},
          "execution_count": 30
        }
      ],
      "source": [
        "# Ejemplo de uso 1\n",
        "funcion_objetivo(individuo)"
      ]
    },
    {
      "cell_type": "code",
      "execution_count": 31,
      "id": "149a0416-d8cc-49ac-813c-a7bfa88ec283",
      "metadata": {
        "colab": {
          "base_uri": "https://localhost:8080/"
        },
        "id": "149a0416-d8cc-49ac-813c-a7bfa88ec283",
        "outputId": "1486ef35-2923-4af5-84e9-313f8ccc2922"
      },
      "outputs": [
        {
          "output_type": "execute_result",
          "data": {
            "text/plain": [
              "(92.06402390891836,)"
            ]
          },
          "metadata": {},
          "execution_count": 31
        }
      ],
      "source": [
        "# Ejemplo de uso 2\n",
        "toolbox.evaluate(individuo)"
      ]
    },
    {
      "cell_type": "markdown",
      "id": "d44e3a30-5fef-44a1-9708-390385454f5a",
      "metadata": {
        "id": "d44e3a30-5fef-44a1-9708-390385454f5a"
      },
      "source": [
        "No olvidar que la **función fitness devuelve una tupla** ya que la solución es generalista para un problema genérico **multiobjetivo**, aunque en nuestro caso solo sea uno"
      ]
    },
    {
      "cell_type": "markdown",
      "id": "81794642-cb29-43c4-87de-ba16e8d6d5f7",
      "metadata": {
        "id": "81794642-cb29-43c4-87de-ba16e8d6d5f7"
      },
      "source": [
        "**IMPORTANTE!!:** Sed conscientes de la relevancia de **codificar de manera eficiente la función objetivo**. Se ejecutará un gran número de veces y cualquier ahorro de tiempo cuenta. **Evitar bucles** o **condiciones que puedan dejar colgado el algoritmo** (siempre que se pueda)"
      ]
    },
    {
      "cell_type": "markdown",
      "id": "06fe488b-41de-4fdf-ab26-e68cc0357e25",
      "metadata": {
        "id": "06fe488b-41de-4fdf-ab26-e68cc0357e25"
      },
      "source": [
        "#### 3. Incorporar los operadores genéticos"
      ]
    },
    {
      "cell_type": "markdown",
      "id": "c3a2610b-dfbc-48a5-8a27-f03e098aa059",
      "metadata": {
        "id": "c3a2610b-dfbc-48a5-8a27-f03e098aa059"
      },
      "source": [
        "* **Selección**:`selection`. Procedimiento por el cual se seleccionan los individuos que participarán en las operaciones de cruce y mutación. Procedimiento siempre **elitista**: Un individuo tendrá mayor probabilidad de dejar descendencia si su `fitness` es más adecuado al problema de optimización (razonamiento en línea con la teoría evolutiva de Darwin) -> Las probabilidades de dejar descendencia en las futuras generaciones crecen cuando crece la adaptación del individuo al medio. **OJO CON LOS SUPERINDIVIDUOS**\n",
        "* **Cruce**: `mate`. Operación probabilística que permite que dos individuos seleccionados **crucen** o **intercambien** su información genética para crear dos nuevos individuos\n",
        "* **Mutación**: `mutation`. Operación probabilística que permite que un individuo seleccionado **modifique** su información genética para crear un nuevo individuo.\n",
        "\n",
        "Ni para la probabilidad de cruce ni para la de mutación existen valores óptimos que sirva para todos los problemas. Tendrán que ajustarse a cada problema.\n",
        "\n",
        "Destacar que tanto el **cruce** como la **mutación** son el **motor para explorar y explotar zonas del espacio de búsqueda**."
      ]
    },
    {
      "cell_type": "markdown",
      "id": "36b814fd-dcc5-42bb-8646-5b0eb230e207",
      "metadata": {
        "id": "36b814fd-dcc5-42bb-8646-5b0eb230e207"
      },
      "source": [
        "![AGs.png](attachment:45d31de3-d523-4ad0-9e71-d264fd22a4b7.png)"
      ]
    },
    {
      "cell_type": "markdown",
      "id": "b8918b37-1825-49b0-8292-520b000d218f",
      "metadata": {
        "id": "b8918b37-1825-49b0-8292-520b000d218f"
      },
      "source": [
        "La librería `deap` tiene **gran variedad de algoritmos** de **selección**, **mutación** y **cruce**, aunque también nosotros nos podemos crear nuestros propios algoritmos (no lo haremos). La aplicación de cada una de ellas dependerá del problema en cuestión. Para ver cual es la más adecuada para cada caso, consultar [Algoritmos de selección, mutación y cruce de deap](https://deap.readthedocs.io/en/master/api/tools.html?highlight=tools) (algunos sirven cuando se usan variables continuas, otras cuando se usan variables discretas, etc)"
      ]
    },
    {
      "cell_type": "markdown",
      "id": "d3162c7f-e3f7-4a29-b1e6-ebe00ad9602f",
      "metadata": {
        "id": "d3162c7f-e3f7-4a29-b1e6-ebe00ad9602f"
      },
      "source": [
        "![Algoritmos Deap.png](attachment:f85b133f-b0c1-4fff-bd9c-5c8f1b55ff6f.png)"
      ]
    },
    {
      "cell_type": "markdown",
      "id": "a8bf1725-9f72-4e3c-8c9c-58db1933493a",
      "metadata": {
        "id": "a8bf1725-9f72-4e3c-8c9c-58db1933493a"
      },
      "source": [
        "**CRUCE** ---------------------------------------------"
      ]
    },
    {
      "cell_type": "code",
      "execution_count": 32,
      "id": "7f156d3f-8248-4842-ab9a-0aea82a9585e",
      "metadata": {
        "id": "7f156d3f-8248-4842-ab9a-0aea82a9585e"
      },
      "outputs": [],
      "source": [
        "# Registro de operacion genética de cruce\n",
        "toolbox.register(\"mate\", tools.cxOnePoint)"
      ]
    },
    {
      "cell_type": "markdown",
      "id": "87309448-24f8-4ba7-be55-64560df9b8ef",
      "metadata": {
        "id": "87309448-24f8-4ba7-be55-64560df9b8ef"
      },
      "source": [
        "Utilizamos `cxOnePoint(ind1, ind2)` o cruce en un punto que ya conocéis [cxOnePoint](https://deap.readthedocs.io/en/master/api/tools.html#deap.tools.cxOnePoint), selecciona de manera aleatoria un punto (una posición) dentro de los individuos **ind1**, **ind2** para hacer un intercambio entre la información genética de dos individuos (padres) seleccionados"
      ]
    },
    {
      "cell_type": "markdown",
      "id": "65b45e7e-55fa-49b4-825c-3f4165fe4551",
      "metadata": {
        "id": "65b45e7e-55fa-49b4-825c-3f4165fe4551"
      },
      "source": [
        "![Cruce.png](attachment:5ef0b9e3-69c3-4286-b7d6-6b4d88ad6624.png)"
      ]
    },
    {
      "cell_type": "markdown",
      "id": "60e0045d-db6e-4ef0-ab29-955d2343b517",
      "metadata": {
        "id": "60e0045d-db6e-4ef0-ab29-955d2343b517"
      },
      "source": [
        "En este caso, al ser la longitud de los individuos 2, solo existe un posible punto de cruce (el cruce será simplemente intercambiar los valores de x e y)"
      ]
    },
    {
      "cell_type": "markdown",
      "id": "2c00b9e3-9a8d-44c6-90f8-f365b4530002",
      "metadata": {
        "id": "2c00b9e3-9a8d-44c6-90f8-f365b4530002"
      },
      "source": [
        "**MUTACIÓN** ---------------------------------------------\n",
        "\n",
        "Utilizamos el operador `mutGaussian` (mutación Gaussiana) con una media de 0 y una deviación típica de 5 (son solo de ejemplo y no garantizan ser los más adecuados. Posiblemente habrá que probar valores distintos)"
      ]
    },
    {
      "cell_type": "code",
      "execution_count": 33,
      "id": "52f3f096-a0f6-4d21-bcfb-debbfea4e65e",
      "metadata": {
        "id": "52f3f096-a0f6-4d21-bcfb-debbfea4e65e"
      },
      "outputs": [],
      "source": [
        "toolbox.register(\"mutate\", tools.mutGaussian, mu=0,\n",
        "                 sigma= 5, indpb=0.1)"
      ]
    },
    {
      "cell_type": "markdown",
      "id": "5e1aca47-8f4c-4bfc-8716-beda31ad7668",
      "metadata": {
        "id": "5e1aca47-8f4c-4bfc-8716-beda31ad7668"
      },
      "source": [
        "`MutGaussian(individual, mu, sigma, indpb)` [MutGaussian](https://deap.readthedocs.io/en/master/api/tools.html#deap.tools.mutGaussian) consiste en mutar, con una probabilidad `indpb` cada uno de los genes del individuo `individual`, sumando a cada uno de ellos una cierta cantidad aleatoria. Esta cantidad se genera según una función de probabilidad Gaussiana (o normal), de media `mu` y desviación típica `sigma`"
      ]
    },
    {
      "cell_type": "markdown",
      "id": "9f8aa07a-7b9e-4390-b0b9-61df385eaebb",
      "metadata": {
        "id": "9f8aa07a-7b9e-4390-b0b9-61df385eaebb"
      },
      "source": [
        "![Gauss.png](attachment:3285c96e-9f38-49c1-a707-c8e8da282c0a.png)"
      ]
    },
    {
      "cell_type": "markdown",
      "id": "ba69989b-8b40-44eb-9653-74dac682d687",
      "metadata": {
        "id": "ba69989b-8b40-44eb-9653-74dac682d687"
      },
      "source": [
        "En el caso de la mutación, se deben definir dos probabilidades:\n",
        "* La probabilidad de mutar un individuo (lo veremos más adelante)\n",
        "* La probabilidad  de mutar cada uno de los genes del individuo (`indpb`)\n",
        "Este último valor, en general, debe ser bajo para que la mutación no modifique en exceso al individuo. Valores muy altos de esta probabilidad pueden hacer que el algoritmo no converja correctamente, o que no se intensifiquen ciertas zonas del espacio de búsqueda."
      ]
    },
    {
      "cell_type": "markdown",
      "id": "fec8d27a-f2a3-4b4a-8539-5b369e46870c",
      "metadata": {
        "id": "fec8d27a-f2a3-4b4a-8539-5b369e46870c"
      },
      "source": [
        "**SELECCIÓN** ---------------------------------------------"
      ]
    },
    {
      "cell_type": "code",
      "execution_count": 34,
      "id": "6e71fdc0-26ae-4a0d-90df-c94620196272",
      "metadata": {
        "id": "6e71fdc0-26ae-4a0d-90df-c94620196272"
      },
      "outputs": [],
      "source": [
        "toolbox.register(\"select\", tools.selTournament, tournsize=3)"
      ]
    },
    {
      "cell_type": "markdown",
      "id": "afd02472-145b-428a-9b87-5641c02d812f",
      "metadata": {
        "id": "afd02472-145b-428a-9b87-5641c02d812f"
      },
      "source": [
        "Hemos usado el operador `selTournament(individuals, k, tournsize)` que nos permite realizar una **selección mediante torneo**. En este caso fijamos un tamaño igual a 3. Se ha demostrado que este tamaño funciona relativamente bien para la mayoría de los casos [Lones 2011](https://cs.gmu.edu/~sean/book/metaheuristics/Essentials.pdf)"
      ]
    },
    {
      "cell_type": "markdown",
      "id": "fa27f6c7-1ec0-42c6-a33f-2d666e90a7fc",
      "metadata": {
        "id": "fa27f6c7-1ec0-42c6-a33f-2d666e90a7fc"
      },
      "source": [
        "`selTournament` funciona de la siguiente forma [Detalle de SelTournament](https://deap.readthedocs.io/en/master/api/tools.html#deap.tools.selTournament):\n",
        "1. Se selecciona de manera aleatoria un número `tournsize` de individuos de la población `individuals`\n",
        "2.  En cada selección existen reemplazos por lo que un individuo puede ser seleccionado varias veces en un mismo torneo\n",
        "3. Los individuos seleccionados compiten entre ellos para ganar el torneo utilizando el desempeño obtenido por cada uno al evaluar la función de `fitness`\n",
        "4. El individuo con mejor desempeño es el que ganará el torneo, y será quien participe en las operaciones genéticas\n",
        "5. Este proceso se repite hasta seleccionar un total de `k` individuos"
      ]
    },
    {
      "cell_type": "markdown",
      "id": "f58405d1-4577-4522-9567-215b579350f4",
      "metadata": {
        "id": "f58405d1-4577-4522-9567-215b579350f4"
      },
      "source": [
        "![tournament.png](attachment:4b618212-6d43-411c-aabf-cb428cf3876d.png)"
      ]
    },
    {
      "cell_type": "markdown",
      "id": "6c339156-3036-4098-8848-59f040fec409",
      "metadata": {
        "id": "6c339156-3036-4098-8848-59f040fec409"
      },
      "source": [
        "El algoritmo realiza **tantos torneos como individuos tiene la población**. Aunque 3 es válido para la mayoría de los casos, cuando la población crece mucho, se deben utilizar **tamaños más altos** para **hacer más rápida la convergencia** del algoritmo. La **selección con torneo** es **muy elitista** y hace que el algoritmo converja más rapidamente que, por ejemplo, con el algoritmo de la ruleta. Las **funciones** se han registrado con `register` con los `alias`: `mate`, `mutate` y `select` que **no deben modificarse** ya que son usados por la función del módulo `algorithms` que implementa el Algortimo Genético. Pasa lo mismo con la función objetivo `evaluate`. **No debe cambiarse el alias**"
      ]
    },
    {
      "cell_type": "markdown",
      "id": "b979849f-fbc3-40dc-a40f-7d09fdeb1fc4",
      "metadata": {
        "id": "b979849f-fbc3-40dc-a40f-7d09fdeb1fc4"
      },
      "source": [
        "#### 4. Últimos pasos: Algoritmo genético como una caja negra"
      ]
    },
    {
      "cell_type": "markdown",
      "id": "6fe73e5c-e42a-4c2d-9871-7b5515a1298d",
      "metadata": {
        "id": "6fe73e5c-e42a-4c2d-9871-7b5515a1298d"
      },
      "source": [
        "Ahora veremos como **configurar el algoritmo genético** y la **representación de los resultados** del algoritmo."
      ]
    },
    {
      "cell_type": "markdown",
      "id": "376050df-c03d-4607-8a38-a11880ca7980",
      "metadata": {
        "id": "376050df-c03d-4607-8a38-a11880ca7980"
      },
      "source": [
        "##### 4.1 Configuración del Algoritmo Genético ---------------------------------------------"
      ]
    },
    {
      "cell_type": "markdown",
      "id": "ee971dcd-ab6a-4e6d-aa8d-e1026a963301",
      "metadata": {
        "id": "ee971dcd-ab6a-4e6d-aa8d-e1026a963301"
      },
      "source": [
        "Definimos la función `main()` que realizará toda la **configuración** del algoritmo"
      ]
    },
    {
      "cell_type": "code",
      "execution_count": 35,
      "id": "2ec41bae-097f-439a-a635-6786ae49933b",
      "metadata": {
        "id": "2ec41bae-097f-439a-a635-6786ae49933b"
      },
      "outputs": [],
      "source": [
        "# Definimos la semilla del generador de números aleatorios\n",
        "# Se hace así para tener resultados reproducibles\n",
        "random.seed(42)"
      ]
    },
    {
      "cell_type": "code",
      "execution_count": 36,
      "id": "0ecb69df-1053-4b17-b839-c460a363e9c0",
      "metadata": {
        "id": "0ecb69df-1053-4b17-b839-c460a363e9c0"
      },
      "outputs": [],
      "source": [
        "# Definimos:\n",
        "#  CXPB: Probabilidad de Cruce\n",
        "#  MUTPB: Probabilidad de Mutación\n",
        "#  NGEN: Número de Generaciones\n",
        "# Los valores son de prueba para obtener unos resultados preeliminares\n",
        "CXPB, MUTPB, NGEN = 0.5, 0.2, 20"
      ]
    },
    {
      "cell_type": "code",
      "execution_count": 37,
      "id": "3460399a-2356-40ce-9739-73f8ba30cb71",
      "metadata": {
        "colab": {
          "base_uri": "https://localhost:8080/"
        },
        "id": "3460399a-2356-40ce-9739-73f8ba30cb71",
        "outputId": "e8e53a7f-ec65-4760-c8ef-fd640b65d07e"
      },
      "outputs": [
        {
          "output_type": "execute_result",
          "data": {
            "text/plain": [
              "[[27.885359691576753, -94.99784895546661],\n",
              " [-44.99413632617615, -55.35785237023545],\n",
              " [47.29424283280247, 35.33989748458225],\n",
              " [78.43591354096907, -82.61223347411678],\n",
              " [-15.61563606294591, -94.04055611238593],\n",
              " [-56.27240503927933, 1.0710576206724767],\n",
              " [-94.69280606322728, -60.2324698626703],\n",
              " [29.976887555904653, 8.98829612064334],\n",
              " [-55.911875591860664, 17.85313677518174],\n",
              " [61.88609133556534, -98.7002480643878],\n",
              " [61.163850366561576, 39.62787899764538],\n",
              " [-31.949896696401623, -68.90410003764369],\n",
              " [91.44261444135623, -32.68109097747465],\n",
              " [-81.45083132397042, -80.65672463330719],\n",
              " [69.49887326949195, 20.745206273378216],\n",
              " [61.42565465487604, 45.94635733876359],\n",
              " [7.245618290940143, 94.62315279587412],\n",
              " [-24.29312455832931, 10.408126254645396],\n",
              " [65.88093285059898, 23.703950472849215],\n",
              " [72.34138006215545, 15.470429051352411],\n",
              " [40.914367242984696, -90.83512326886756],\n",
              " [-54.42034486969063, -42.12240727957857],\n",
              " [-84.04160461527451, -53.44182272779396],\n",
              " [-79.79971411805417, -44.40527937798158],\n",
              " [27.136888852880034, -27.033564205983154],\n",
              " [-25.96380657662347, -58.09859384570246],\n",
              " [-46.60443559017733, 87.33091754249881],\n",
              " [29.60707704931872, 21.826201133397632],\n",
              " [-65.7722703603806, 45.82535959006984],\n",
              " [-67.31950124761431, -24.10891164847044],\n",
              " [97.90467012731904, 27.99995197081857],\n",
              " [11.38994875492925, 36.922850197974924]]"
            ]
          },
          "metadata": {},
          "execution_count": 37
        }
      ],
      "source": [
        "#Generamos la Población Inicial\n",
        "pop = toolbox.population()\n",
        "pop"
      ]
    },
    {
      "cell_type": "code",
      "execution_count": 38,
      "id": "49fd0cba-05ee-42ca-84a5-e206a1eb1011",
      "metadata": {
        "colab": {
          "base_uri": "https://localhost:8080/"
        },
        "id": "49fd0cba-05ee-42ca-84a5-e206a1eb1011",
        "outputId": "3660e477-f794-4170-d63c-9410a061156a"
      },
      "outputs": [
        {
          "output_type": "execute_result",
          "data": {
            "text/plain": [
              "<deap.tools.support.HallOfFame at 0x7cf07dfc4e20>"
            ]
          },
          "metadata": {},
          "execution_count": 38
        }
      ],
      "source": [
        "# Definimos el objeto hof que almacenará el mejor individuo\n",
        "# encontrado a lo largo de las generaciones del Algoritmo G.\n",
        "hof = tools.HallOfFame(1)\n",
        "hof"
      ]
    },
    {
      "cell_type": "code",
      "execution_count": 39,
      "id": "9140d938-c470-4ee5-b3c7-960b97a174cf",
      "metadata": {
        "colab": {
          "base_uri": "https://localhost:8080/"
        },
        "id": "9140d938-c470-4ee5-b3c7-960b97a174cf",
        "outputId": "2b062485-d2ba-4819-beed-e8f6f526c97f"
      },
      "outputs": [
        {
          "output_type": "stream",
          "name": "stdout",
          "text": [
            "[]\n"
          ]
        }
      ],
      "source": [
        "print(hof)"
      ]
    },
    {
      "cell_type": "markdown",
      "id": "ad882a4e-8dbe-457f-b865-ae95c6d81518",
      "metadata": {
        "id": "ad882a4e-8dbe-457f-b865-ae95c6d81518"
      },
      "source": [
        "El método `HallOfFame` [Clase HallOfFame](https://deap.readthedocs.io/en/master/api/tools.html#hall-of-fame) recibe dos parámetros:\n",
        "* `maxsize`: Nº individuos a almacenar\n",
        "* `similar`: Función para comparar si dos individuos son iguales. Si no se pone nada, utilizará el método `operator.eq` del módulo `operator` [Módulo Operator](https://docs.python.org/3/library/operator.html#operator.eq)\n",
        "\n",
        "Este es el **mecanismo** que implementa `deap` **para no perder al mejor individuo** a lo largo de la evolución del algoritmo, ya que con el algoritmo`eaSimple` se podría perder al mejor individuo debido a los operadores genéticos.\n",
        "\n",
        "La clase `HallOfFame` está definida en el submódulo `tools` y **en cada generación** del algoritmo genético el objeto `hof` es **actualizado** mediante el método `update` (transparente a nosotros), que recibe como **entrada** la **población actual** y actualiza el contenido del objeto `hof`"
      ]
    },
    {
      "cell_type": "code",
      "execution_count": 40,
      "id": "71a5a9a6-d7e8-4263-8470-31a6937fef37",
      "metadata": {
        "colab": {
          "base_uri": "https://localhost:8080/"
        },
        "id": "71a5a9a6-d7e8-4263-8470-31a6937fef37",
        "outputId": "d6015978-c2a3-42b6-8ec4-5b0f97437753"
      },
      "outputs": [
        {
          "output_type": "stream",
          "name": "stdout",
          "text": [
            "<deap.tools.support.Statistics object at 0x7cf07dfc52d0>\n"
          ]
        }
      ],
      "source": [
        "# Definimos un objeto para generar las estadísticas de la\n",
        "# población a lo largo de las generaciones del algoritmo\n",
        "stats = tools.Statistics(lambda ind: ind.fitness.values)\n",
        "print(stats)"
      ]
    },
    {
      "cell_type": "markdown",
      "id": "e0388302-1fe9-4ecd-aa37-83404a45e6ad",
      "metadata": {
        "id": "e0388302-1fe9-4ecd-aa37-83404a45e6ad"
      },
      "source": [
        "La clase `Statistics` se encuentra definido en el submódulo `tools` [Clase Statistics](https://deap.readthedocs.io/en/master/api/tools.html#statistics)"
      ]
    },
    {
      "cell_type": "markdown",
      "id": "b9d3a993-b36e-4237-9f79-d50cb23a691f",
      "metadata": {
        "id": "b9d3a993-b36e-4237-9f79-d50cb23a691f"
      },
      "source": [
        "Ahora registramos en el objeto `stats` las funciones estadísticas a utilizar junto con su alias:"
      ]
    },
    {
      "cell_type": "code",
      "execution_count": 41,
      "id": "cd1f7271-054e-4bfb-ad59-9e90e1be6efb",
      "metadata": {
        "id": "cd1f7271-054e-4bfb-ad59-9e90e1be6efb"
      },
      "outputs": [],
      "source": [
        "stats.register(\"avg\", np.mean)\n",
        "stats.register(\"std\", np.std)\n",
        "stats.register(\"min\", np.min)\n",
        "stats.register(\"max\", np.max)"
      ]
    },
    {
      "cell_type": "markdown",
      "id": "efaad2b8-9930-4a01-9aaa-4148a57dee47",
      "metadata": {
        "id": "efaad2b8-9930-4a01-9aaa-4148a57dee47"
      },
      "source": [
        "[Función media](https://docs.scipy.org/doc/numpy/reference/generated/numpy.mean.html)\n",
        "\n",
        "[Función desviación estandar](https://docs.scipy.org/doc/numpy/reference/generated/numpy.std.html?highlight=numpy%20std#numpay.std)\n",
        "\n",
        "[Función mínimo](https://docs.scipy.org/doc/numpy/reference/generated/numpy.ndarray.min.html?highlight=numpy%20min#numpay.ndarray.min)\n",
        "\n",
        "[Función máximo](https://docs.scipy.org/doc/numpy/reference/generated/numpy.ndarray.max.html?)"
      ]
    },
    {
      "cell_type": "markdown",
      "id": "34e78e4c-feaf-453a-a6e0-70c589410f20",
      "metadata": {
        "id": "34e78e4c-feaf-453a-a6e0-70c589410f20"
      },
      "source": [
        "El objeto `stats` tiene un método `compile` [Método Compile](https://deap.readthedocs.io/en/master/tutorials/basic/part3.html), que recibe como entrada la población que permite generar las estadísticas. A este método se le llama internamente en cada generación del algoritmo."
      ]
    },
    {
      "cell_type": "markdown",
      "id": "9730a451-8129-48e8-a0e6-7aad9fab4557",
      "metadata": {
        "id": "9730a451-8129-48e8-a0e6-7aad9fab4557"
      },
      "source": [
        "**ESTAMOS EN DISPOSICIÓN DE PODER EJECUTAR EL ALGORITMO GENÉTICO** ---------------------------------------------\n",
        "\n",
        "En `deap` tenemos una ámplia gama de algoritmos en el submódulo `algorithms` [Submódulo Algorithms](https://deap.readthedocs.io/en/master/api/algo.html), en nuestro caso, usaremos `eaSimple` que es una de las versiones más simples y que realizará lo siguiente:\n",
        "\n",
        "1. Evaluará la población inicial\n",
        "2. Mientras no se alcance el límite de generaciones:\n",
        "    1. Selección de individuos para participar en las operaciones genéticas\n",
        "    2. Creación de la siguiente generación mediante cruce y/o mutación de los individuos seleccionados\n",
        "    3. Evaluación de la generación creada\n",
        "\n",
        "Además, el algoritmo `eaSimple`, devolverá la **población final** y el **registro de evolución** y tendrá como **parámetros de entrada**:\n",
        "* `population` : Población inicial\n",
        "* `toolbox` : La caja de herramientas con todas las funciones necesarias\n",
        "* `cxpb` : Probabilidad de cruce en tanto por uno\n",
        "* `mutpb` : Probabilidad de mutación en tanto por uno\n",
        "* `ngen` : Nº de generaciones del algoritmo\n",
        "* `stats` : Objeto estadístico con las funciones registradas (opcional)\n",
        "* `halloffame` : Objeto del tipo HallOfFame con los mejores individuos por generación, opcional\n",
        "* `verbose` : Si se deben mostrar o no las estadísticas de cada generación"
      ]
    },
    {
      "cell_type": "code",
      "execution_count": 42,
      "id": "021b8956-500e-478a-ba7f-88ed20e587c7",
      "metadata": {
        "id": "021b8956-500e-478a-ba7f-88ed20e587c7"
      },
      "outputs": [],
      "source": [
        "# loogbook contendrá todo el registro de evolución\n",
        "logbook = tools.Logbook()"
      ]
    },
    {
      "cell_type": "code",
      "execution_count": 43,
      "id": "795ee81d-b126-432e-bd15-f6588935368b",
      "metadata": {
        "colab": {
          "base_uri": "https://localhost:8080/"
        },
        "id": "795ee81d-b126-432e-bd15-f6588935368b",
        "outputId": "d83e4bb1-013e-4c11-8272-473ba6b75274"
      },
      "outputs": [
        {
          "output_type": "stream",
          "name": "stdout",
          "text": [
            "gen\tnevals\tavg    \tstd    \tmin    \tmax    \n",
            "0  \t32    \t77.4361\t25.1119\t26.4289\t116.497\n",
            "1  \t19    \t96.4883\t22.7128\t31.9797\t135.753\n",
            "2  \t27    \t112.689\t17.4287\t66.3743\t139.022\n",
            "3  \t17    \t126.311\t7.47741\t107.958\t139.022\n",
            "4  \t20    \t133.989\t3.86947\t123.191\t139.022\n",
            "5  \t19    \t136.773\t2.2418 \t131.216\t139.022\n",
            "6  \t18    \t138.523\t0.984614\t135.518\t139.022\n",
            "7  \t17    \t139.048\t0.143654\t139.022\t139.847\n",
            "8  \t20    \t138.835\t1.15547 \t132.457\t139.847\n",
            "9  \t13    \t134.645\t24.3715 \t-1     \t139.847\n",
            "10 \t20    \t139.228\t0.357508\t139.022\t139.847\n",
            "11 \t21    \t135.033\t24.4356 \t-1     \t139.847\n",
            "12 \t18    \t139.641\t0.357508\t139.022\t139.847\n",
            "13 \t23    \t139.598\t0.824322\t135.476\t139.847\n",
            "14 \t18    \t135.314\t24.4937 \t-1     \t139.847\n",
            "15 \t18    \t139.847\t0       \t139.847\t139.847\n",
            "16 \t19    \t135.446\t24.5064 \t-1     \t139.847\n",
            "17 \t17    \t139.847\t0       \t139.847\t139.847\n",
            "18 \t28    \t135.277\t24.4941 \t-1     \t139.847\n",
            "19 \t18    \t135.446\t24.5064 \t-1     \t139.847\n",
            "20 \t22    \t130.794\t34.0467 \t-1     \t139.847\n"
          ]
        }
      ],
      "source": [
        "pop, logbook = algorithms.eaSimple(pop, toolbox, cxpb=CXPB,\n",
        "                                       mutpb=MUTPB, ngen=NGEN, stats=stats,\n",
        "                                       halloffame=hof, verbose=True)"
      ]
    },
    {
      "cell_type": "code",
      "execution_count": 44,
      "id": "6a153cfc-2b17-4849-a202-894056da9689",
      "metadata": {
        "colab": {
          "base_uri": "https://localhost:8080/"
        },
        "id": "6a153cfc-2b17-4849-a202-894056da9689",
        "outputId": "5168dddb-f9cc-4da7-8c90-b0ece5a10d38"
      },
      "outputs": [
        {
          "output_type": "stream",
          "name": "stdout",
          "text": [
            "[[97.90467012731904, -99.85981097553889], [97.90467012731904, -99.85981097553889], [97.90467012731904, -99.85981097553889], [97.90467012731904, -99.85981097553889], [97.90467012731904, -99.85981097553889], [97.90467012731904, -99.85981097553889], [97.90467012731904, -99.85981097553889], [100.69014625521163, -99.85981097553889], [97.90467012731904, -99.85981097553889], [97.90467012731904, -99.85981097553889], [97.90467012731904, -99.85981097553889], [97.90467012731904, -99.85981097553889], [97.90467012731904, -99.85981097553889], [97.90467012731904, -102.127284776753], [97.90467012731904, -99.85981097553889], [97.90467012731904, -99.85981097553889], [97.90467012731904, -91.15745011240782], [97.90467012731904, -99.85981097553889], [97.90467012731904, -99.85981097553889], [97.90467012731904, -99.85981097553889], [97.90467012731904, -99.85981097553889], [97.90467012731904, -99.85981097553889], [97.90467012731904, -99.85981097553889], [97.90467012731904, -99.85981097553889], [97.90467012731904, -99.85981097553889], [97.90467012731904, -99.85981097553889], [97.90467012731904, -99.85981097553889], [97.90467012731904, -99.85981097553889], [97.90467012731904, -99.85981097553889], [97.90467012731904, -99.85981097553889], [97.90467012731904, -99.85981097553889], [97.90467012731904, -97.10376792589386]]\n"
          ]
        }
      ],
      "source": [
        "print(pop)"
      ]
    },
    {
      "cell_type": "code",
      "execution_count": 45,
      "id": "ec94ddad-2cf9-4c60-89c2-ed199725c83e",
      "metadata": {
        "colab": {
          "base_uri": "https://localhost:8080/"
        },
        "id": "ec94ddad-2cf9-4c60-89c2-ed199725c83e",
        "outputId": "e571679b-55ff-4be0-b5a3-8f140ddc74cd"
      },
      "outputs": [
        {
          "output_type": "stream",
          "name": "stdout",
          "text": [
            "gen\tnevals\tavg    \tstd     \tmin    \tmax    \n",
            "0  \t32    \t77.4361\t25.1119 \t26.4289\t116.497\n",
            "1  \t19    \t96.4883\t22.7128 \t31.9797\t135.753\n",
            "2  \t27    \t112.689\t17.4287 \t66.3743\t139.022\n",
            "3  \t17    \t126.311\t7.47741 \t107.958\t139.022\n",
            "4  \t20    \t133.989\t3.86947 \t123.191\t139.022\n",
            "5  \t19    \t136.773\t2.2418  \t131.216\t139.022\n",
            "6  \t18    \t138.523\t0.984614\t135.518\t139.022\n",
            "7  \t17    \t139.048\t0.143654\t139.022\t139.847\n",
            "8  \t20    \t138.835\t1.15547 \t132.457\t139.847\n",
            "9  \t13    \t134.645\t24.3715 \t-1     \t139.847\n",
            "10 \t20    \t139.228\t0.357508\t139.022\t139.847\n",
            "11 \t21    \t135.033\t24.4356 \t-1     \t139.847\n",
            "12 \t18    \t139.641\t0.357508\t139.022\t139.847\n",
            "13 \t23    \t139.598\t0.824322\t135.476\t139.847\n",
            "14 \t18    \t135.314\t24.4937 \t-1     \t139.847\n",
            "15 \t18    \t139.847\t0       \t139.847\t139.847\n",
            "16 \t19    \t135.446\t24.5064 \t-1     \t139.847\n",
            "17 \t17    \t139.847\t0       \t139.847\t139.847\n",
            "18 \t28    \t135.277\t24.4941 \t-1     \t139.847\n",
            "19 \t18    \t135.446\t24.5064 \t-1     \t139.847\n",
            "20 \t22    \t130.794\t34.0467 \t-1     \t139.847\n"
          ]
        }
      ],
      "source": [
        "print(logbook)"
      ]
    },
    {
      "cell_type": "markdown",
      "id": "3d42738b-38a2-4bf3-ae06-524c8c696e97",
      "metadata": {
        "id": "3d42738b-38a2-4bf3-ae06-524c8c696e97"
      },
      "source": [
        "Agrupamos todo lo anterior en la función `main()` que realizará toda la **configuración** del algoritmo"
      ]
    },
    {
      "cell_type": "code",
      "execution_count": 46,
      "id": "8dadb2a6-6214-437d-ae51-3a01b7ae77df",
      "metadata": {
        "id": "8dadb2a6-6214-437d-ae51-3a01b7ae77df"
      },
      "outputs": [],
      "source": [
        "def main():\n",
        "    # Definimos la semilla del generador de números aleatorios\n",
        "    # Se hace así para tener resultados reproducibles\n",
        "    random.seed(42)\n",
        "\n",
        "    # Definimos:\n",
        "    #  CXPB: Probabilidad de Cruce\n",
        "    #  MUTPB: Probabilidad de Mutación\n",
        "    #  NGEN: Número de Generaciones\n",
        "    # Los valores son de prueba para obtener unos resultados preeliminares\n",
        "    CXPB, MUTPB, NGEN = 0.5, 0.2, 20\n",
        "\n",
        "    #Generamos la Población Inicial\n",
        "    pop = toolbox.population()\n",
        "\n",
        "    # Definimos el objeto hof que almacenará el mejor individuo\n",
        "    # encontrado a lo largo de las generaciones del Algoritmo G.\n",
        "    hof = tools.HallOfFame(1)\n",
        "\n",
        "    # Definimos un objeto para generar las estadísticas de la\n",
        "    # población a lo largo de las generaciones del algoritmo\n",
        "    stats = tools.Statistics(lambda ind: ind.fitness.values)\n",
        "\n",
        "    # Registramos en el objeto stats\n",
        "    # las funciones estadísticas a usar\n",
        "    stats.register(\"avg\", np.mean)\n",
        "    stats.register(\"std\", np.std)\n",
        "    stats.register(\"min\", np.min)\n",
        "    stats.register(\"max\", np.max)\n",
        "\n",
        "    # loogbook contendrá todo el registro de evolución\n",
        "    logbook = tools.Logbook()\n",
        "\n",
        "    # Algoritmo eaSimple, devuelve la población final y el registro de evolución\n",
        "    # y tiene como entrada:\n",
        "    # population – población inicial\n",
        "    # toolbox – La caja de herramientas con todas las funciones necesarias\n",
        "    # cxpb – Probabilidad de cruce en tanto por uno\n",
        "    # mutpb – Probabilidad de mutación en tanto por uno\n",
        "    # ngen – Nº de generaciones del algoritmo\n",
        "    # stats – Objeto estadístico con las funciones registradas (opcional)\n",
        "    # halloffame – Objeto del tipo HallOfFame con los mejores individuos por generación, opcional\n",
        "    # verbose – Si se deben mostrar o no las estadísticas de cada generación\n",
        "    pop, logbook = algorithms.eaSimple(pop, toolbox, cxpb=CXPB,\n",
        "                                       mutpb=MUTPB, ngen=NGEN, stats=stats,\n",
        "                                       halloffame=hof, verbose=True)\n",
        "\n",
        "    # Devolvemos el HallOfFame y el registro de evolución\n",
        "    return hof, logbook"
      ]
    },
    {
      "cell_type": "markdown",
      "id": "2cb232bd-fc36-4cd7-b1bc-f84db42fe094",
      "metadata": {
        "id": "2cb232bd-fc36-4cd7-b1bc-f84db42fe094"
      },
      "source": [
        "##### 4.2 Resultados del Algoritmo Genético ---------------------------------------------"
      ]
    },
    {
      "cell_type": "code",
      "execution_count": 47,
      "id": "35ca1ba8-df59-400c-8839-eeb1cf2e80e0",
      "metadata": {
        "colab": {
          "base_uri": "https://localhost:8080/"
        },
        "id": "35ca1ba8-df59-400c-8839-eeb1cf2e80e0",
        "outputId": "7b24bf5a-e3fb-401d-b5ff-159c4735ff57"
      },
      "outputs": [
        {
          "output_type": "stream",
          "name": "stdout",
          "text": [
            "gen\tnevals\tavg    \tstd    \tmin    \tmax    \n",
            "0  \t32    \t77.4361\t25.1119\t26.4289\t116.497\n",
            "1  \t19    \t96.4883\t22.7128\t31.9797\t135.753\n",
            "2  \t27    \t112.689\t17.4287\t66.3743\t139.022\n",
            "3  \t17    \t126.311\t7.47741\t107.958\t139.022\n",
            "4  \t20    \t133.989\t3.86947\t123.191\t139.022\n",
            "5  \t19    \t136.773\t2.2418 \t131.216\t139.022\n",
            "6  \t18    \t138.523\t0.984614\t135.518\t139.022\n",
            "7  \t17    \t139.048\t0.143654\t139.022\t139.847\n",
            "8  \t20    \t138.835\t1.15547 \t132.457\t139.847\n",
            "9  \t13    \t134.645\t24.3715 \t-1     \t139.847\n",
            "10 \t20    \t139.228\t0.357508\t139.022\t139.847\n",
            "11 \t21    \t135.033\t24.4356 \t-1     \t139.847\n",
            "12 \t18    \t139.641\t0.357508\t139.022\t139.847\n",
            "13 \t23    \t139.598\t0.824322\t135.476\t139.847\n",
            "14 \t18    \t135.314\t24.4937 \t-1     \t139.847\n",
            "15 \t18    \t139.847\t0       \t139.847\t139.847\n",
            "16 \t19    \t135.446\t24.5064 \t-1     \t139.847\n",
            "17 \t17    \t139.847\t0       \t139.847\t139.847\n",
            "18 \t28    \t135.277\t24.4941 \t-1     \t139.847\n",
            "19 \t18    \t135.446\t24.5064 \t-1     \t139.847\n",
            "20 \t22    \t130.794\t34.0467 \t-1     \t139.847\n",
            "Mejor fitness: 139.847439\n",
            "Mejor individuo [97.90467012731904, -99.85981097553889]\n"
          ]
        }
      ],
      "source": [
        "best, log = main()\n",
        "print(\"Mejor fitness: %f\" %best[0].fitness.values)\n",
        "print(\"Mejor individuo %s\" %best[0])"
      ]
    },
    {
      "cell_type": "markdown",
      "id": "22dcc461-adab-410b-83b7-06567cb7fef5",
      "metadata": {
        "id": "22dcc461-adab-410b-83b7-06567cb7fef5"
      },
      "source": [
        "**CUESTIONES** ---------------------------------------------\n",
        "\n",
        "Datos que corresponden a las funciones registradas en el objeto `stats`\n",
        "* `gen`: Generación en la que me encuentro\n",
        "* `nevals`: Número de individuos que han sido evaluados respecto a su desempeño\n",
        "    * No es igual al número de individuos porque los operadores de cruce y mutación son probabilísticos (un individuo seleccionado puede no haberse modificado y no será, por tanto, evaluado, ahorrando operaciones redundantes). Cuando un individuo **es modificado** debido a un operación de genética (cruce o mutación), su `fitness` se invalida, poniendo el atributo `valid=False`. En cada generación, todos los individuos que tienen un `fitness` **inválido** serán evaluados.\n",
        "* `avg`: Desempeño medio de la población\n",
        "    * Se incrementa a lo largo de las generaciones. **Positivo** porque los **individuos** que forman la población son, en media, **mejores**\n",
        "* `std`: Desviación típica del desempeño medio de la población\n",
        "    * Disminuye, en general, a lo largo de las generaciones. **Positivo** porque los **individuos** que forman la población son, **cada vez más parecidos** y que el algoritmo es **elitista** por el proceso de selección\n",
        "* `min`: Mínimo desempeño de la población\n",
        "* `max`: Máximo desempeño de la población\n",
        "    * Aumenta a lo largo de las generaciones. **Muy positivo** porque indica que el algoritmo funciona correctamente\n",
        "    \n",
        "\n",
        "Aunque `hof` lo hemos definido para que almecene solo un individuo, el objeto es una secuencia (como una lista en Python) por lo que para obtener el individuo o el `fitness` debemos usar el índice cero.\n",
        "\n",
        "\n",
        "Al A.G. nos ha proporcionado en tan solo unos pasos una solución que es bastante buena - no es la mejor, pero está muy cerca.\n",
        "\n"
      ]
    },
    {
      "cell_type": "code",
      "execution_count": 48,
      "id": "1a0ff0f7-5dcf-4c0c-85d6-525e9a916925",
      "metadata": {
        "colab": {
          "base_uri": "https://localhost:8080/"
        },
        "id": "1a0ff0f7-5dcf-4c0c-85d6-525e9a916925",
        "outputId": "0179b2bb-b7da-4870-c06f-96789ee5591b"
      },
      "outputs": [
        {
          "output_type": "stream",
          "name": "stdout",
          "text": [
            "gen\tnevals\tavg    \tstd     \tmin    \tmax    \n",
            "0  \t32    \t77.4361\t25.1119 \t26.4289\t116.497\n",
            "1  \t19    \t96.4883\t22.7128 \t31.9797\t135.753\n",
            "2  \t27    \t112.689\t17.4287 \t66.3743\t139.022\n",
            "3  \t17    \t126.311\t7.47741 \t107.958\t139.022\n",
            "4  \t20    \t133.989\t3.86947 \t123.191\t139.022\n",
            "5  \t19    \t136.773\t2.2418  \t131.216\t139.022\n",
            "6  \t18    \t138.523\t0.984614\t135.518\t139.022\n",
            "7  \t17    \t139.048\t0.143654\t139.022\t139.847\n",
            "8  \t20    \t138.835\t1.15547 \t132.457\t139.847\n",
            "9  \t13    \t134.645\t24.3715 \t-1     \t139.847\n",
            "10 \t20    \t139.228\t0.357508\t139.022\t139.847\n",
            "11 \t21    \t135.033\t24.4356 \t-1     \t139.847\n",
            "12 \t18    \t139.641\t0.357508\t139.022\t139.847\n",
            "13 \t23    \t139.598\t0.824322\t135.476\t139.847\n",
            "14 \t18    \t135.314\t24.4937 \t-1     \t139.847\n",
            "15 \t18    \t139.847\t0       \t139.847\t139.847\n",
            "16 \t19    \t135.446\t24.5064 \t-1     \t139.847\n",
            "17 \t17    \t139.847\t0       \t139.847\t139.847\n",
            "18 \t28    \t135.277\t24.4941 \t-1     \t139.847\n",
            "19 \t18    \t135.446\t24.5064 \t-1     \t139.847\n",
            "20 \t22    \t130.794\t34.0467 \t-1     \t139.847\n"
          ]
        }
      ],
      "source": [
        "print(log)"
      ]
    },
    {
      "cell_type": "markdown",
      "id": "776c2097-8f93-4d5c-8739-00055d30a607",
      "metadata": {
        "id": "776c2097-8f93-4d5c-8739-00055d30a607"
      },
      "source": [
        "#### 5. ¿Cómo conseguir resultados consistentes?"
      ]
    },
    {
      "cell_type": "markdown",
      "id": "955beae5-7f78-4bd8-b202-94769b07a825",
      "metadata": {
        "id": "955beae5-7f78-4bd8-b202-94769b07a825"
      },
      "source": [
        "Buenas prácticas a llevar a cabo para mejorar el modelo:\n",
        "* Aumentar la población hasta que no veamos mejoras significativas probando con pocas generaciones e ir aumentando el número de individuos\n",
        "* Aumentar el número de generaciones y comprobar que el algoritmo converja mostrando una gráfica de convergencia del algoritmo\n",
        "* Hacer un barrido de valores de probabilidades de cruce y mutación, y mostrar algunas estadísticas para ver de qué manera afectan dichas probabilidades"
      ]
    },
    {
      "cell_type": "markdown",
      "id": "7431a729-2c95-400d-9a93-a977df52db41",
      "metadata": {
        "id": "7431a729-2c95-400d-9a93-a977df52db41"
      },
      "source": [
        "Ahora lanzamos el Algoritmo Genético 20 veces"
      ]
    },
    {
      "cell_type": "code",
      "execution_count": 49,
      "id": "5f20aa56-9a70-41c6-8724-798b20295c34",
      "metadata": {
        "id": "5f20aa56-9a70-41c6-8724-798b20295c34"
      },
      "outputs": [],
      "source": [
        "def main():\n",
        "    CXPB, MUTPB, NGEN = 0.5, 0.2, 20\n",
        "    pop = toolbox.population()\n",
        "    hof = tools.HallOfFame(1)\n",
        "    stats = tools.Statistics(lambda ind: ind.fitness.values)\n",
        "    stats.register(\"avg\", np.mean)\n",
        "    stats.register(\"std\", np.std)\n",
        "    stats.register(\"min\", np.min)\n",
        "    stats.register(\"max\", np.max)\n",
        "    logbook = tools.Logbook()\n",
        "    pop, logbook = algorithms.eaSimple(pop, toolbox, cxpb=CXPB,\n",
        "                                       mutpb=MUTPB, ngen=NGEN, stats=stats,\n",
        "                                       halloffame=hof, verbose=True)\n",
        "    return hof, logbook"
      ]
    },
    {
      "cell_type": "code",
      "execution_count": 50,
      "id": "eeab0a59-a372-4671-bfd3-32cde5ba0aa4",
      "metadata": {
        "colab": {
          "base_uri": "https://localhost:8080/"
        },
        "id": "eeab0a59-a372-4671-bfd3-32cde5ba0aa4",
        "outputId": "9f4cbfba-84a1-4b8b-fdb6-5b5cbb05456e"
      },
      "outputs": [
        {
          "output_type": "stream",
          "name": "stdout",
          "text": [
            "gen\tnevals\tavg    \tstd    \tmin    \tmax    \n",
            "0  \t32    \t74.4806\t26.1253\t17.3208\t126.645\n",
            "1  \t21    \t88.0266\t22.4865\t21.376 \t126.645\n",
            "2  \t17    \t106.006\t16.9455\t79.778 \t127.551\n",
            "3  \t26    \t114.558\t20.6497\t37.2162\t139.286\n",
            "4  \t21    \t127.228\t4.66593\t118.291\t139.286\n",
            "5  \t15    \t130.741\t5.02507\t124.196\t139.286\n",
            "6  \t16    \t131.424\t24.081 \t-1     \t139.286\n",
            "7  \t18    \t133.774\t24.3027\t-1     \t139.722\n",
            "8  \t26    \t139.326\t0.200697\t138.844\t139.722\n",
            "9  \t20    \t135.079\t24.4414 \t-1     \t139.722\n",
            "10 \t13    \t135.256\t24.4729 \t-1     \t139.722\n",
            "11 \t21    \t139.722\t0       \t139.722\t139.722\n",
            "12 \t16    \t135.324\t24.4846 \t-1     \t139.722\n",
            "13 \t15    \t139.722\t0       \t139.722\t139.722\n",
            "14 \t15    \t139.722\t0       \t139.722\t139.722\n",
            "15 \t21    \t135.324\t24.4846 \t-1     \t139.722\n",
            "16 \t23    \t139.722\t0       \t139.722\t139.722\n",
            "17 \t23    \t135.288\t24.4789 \t-1     \t139.722\n",
            "18 \t23    \t139.74 \t0.0983789\t139.722\t140.287\n",
            "19 \t13    \t139.729\t0.213297 \t138.817\t140.287\n",
            "20 \t19    \t139.863\t0.244834 \t139.722\t140.287\n",
            "gen\tnevals\tavg    \tstd    \tmin   \tmax    \n",
            "0  \t32    \t76.5531\t30.4214\t10.143\t124.484\n",
            "1  \t27    \t97.3145\t21.7656\t48.2925\t137.069\n",
            "2  \t15    \t117.45 \t12.8644\t88.6674\t137.069\n",
            "3  \t17    \t125.428\t8.68544\t105.457\t137.069\n",
            "4  \t23    \t132.137\t3.04594\t124.484\t137.069\n",
            "5  \t12    \t134.301\t1.88516\t129.896\t137.069\n",
            "6  \t22    \t135.515\t1.64499\t132.533\t138.404\n",
            "7  \t20    \t136.794\t1.0067 \t133.305\t138.404\n",
            "8  \t22    \t133.065\t24.0863\t-1     \t138.404\n",
            "9  \t22    \t137.772\t1.0326 \t133.32 \t138.404\n",
            "10 \t23    \t138.309\t0.531056\t135.352\t138.404\n",
            "11 \t19    \t138.321\t0.990611\t133.326\t140.82 \n",
            "12 \t19    \t138.631\t0.704262\t138.404\t140.82 \n",
            "13 \t24    \t134.903\t24.4411 \t-1     \t140.82 \n",
            "14 \t18    \t140.216\t1.04622 \t138.404\t140.82 \n",
            "15 \t23    \t136.313\t24.6657 \t-1     \t140.82 \n",
            "16 \t25    \t140.82 \t0       \t140.82 \t140.82 \n",
            "17 \t14    \t140.82 \t0       \t140.82 \t140.82 \n",
            "18 \t23    \t140.82 \t0       \t140.82 \t140.82 \n",
            "19 \t20    \t140.748\t0.40623 \t138.486\t140.82 \n",
            "20 \t15    \t140.82 \t0       \t140.82 \t140.82 \n",
            "gen\tnevals\tavg    \tstd    \tmin    \tmax    \n",
            "0  \t32    \t76.6477\t31.2833\t9.82021\t132.465\n",
            "1  \t22    \t104.714\t18.6455\t66.1966\t133.466\n",
            "2  \t18    \t121.213\t10.6687\t98.3793\t136.243\n",
            "3  \t28    \t125.32 \t23.3314\t-1     \t136.243\n",
            "4  \t19    \t132.741\t3.02477\t123.399\t137.066\n",
            "5  \t16    \t134.874\t1.85689\t130.132\t137.066\n",
            "6  \t17    \t136.259\t0.611463\t133.466\t137.625\n",
            "7  \t22    \t132.163\t23.9228 \t-1     \t137.647\n",
            "8  \t13    \t136.814\t0.644518\t135.678\t137.647\n",
            "9  \t18    \t137.356\t0.642989\t134.647\t137.647\n",
            "10 \t17    \t133.305\t24.122  \t-1     \t137.647\n",
            "11 \t20    \t137.646\t0.00380115\t137.625\t137.647\n",
            "12 \t13    \t137.697\t0.28045   \t137.647\t139.259\n",
            "13 \t23    \t133.516\t24.1656   \t-1     \t139.259\n",
            "14 \t19    \t133.717\t24.2059   \t-1     \t139.259\n",
            "15 \t21    \t134.277\t24.3085   \t-1     \t139.259\n",
            "16 \t12    \t134.711\t24.3798   \t-1     \t139.259\n",
            "17 \t27    \t139.048\t1.175     \t132.506\t139.259\n",
            "18 \t13    \t138.958\t1.6739    \t129.638\t139.259\n",
            "19 \t17    \t139.264\t0.0293559 \t139.259\t139.428\n",
            "20 \t24    \t139.275\t0.0491784 \t139.259\t139.428\n",
            "gen\tnevals\tavg    \tstd   \tmin    \tmax    \n",
            "0  \t32    \t78.3268\t24.499\t22.8727\t121.341\n",
            "1  \t28    \t96.0546\t22.8725\t28.1999\t131.538\n",
            "2  \t20    \t112.409\t23.587 \t-1     \t135.313\n",
            "3  \t17    \t118.073\t23.9541\t-1     \t139.533\n",
            "4  \t19    \t132.362\t6.80291\t121.341\t139.533\n",
            "5  \t22    \t127.957\t33.4296\t-1     \t139.533\n",
            "6  \t20    \t137.572\t2.00828\t131.97 \t139.533\n",
            "7  \t20    \t139.029\t0.57079\t138.286\t139.533\n",
            "8  \t22    \t139.455\t0.30176\t138.286\t139.533\n",
            "9  \t22    \t135.096\t24.4448\t-1     \t139.533\n",
            "10 \t21    \t130.749\t34.0176\t-1     \t139.533\n",
            "11 \t16    \t139.533\t0      \t139.533\t139.533\n",
            "12 \t21    \t135.141\t24.4517\t-1     \t139.541\n",
            "13 \t19    \t135.066\t24.4418\t-1     \t139.541\n",
            "14 \t22    \t139.496\t0.472517\t137.138\t140.738\n",
            "15 \t17    \t139.498\t0.47267 \t137.138\t140.738\n",
            "16 \t22    \t139.764\t0.469239\t139.533\t140.747\n",
            "17 \t17    \t140.217\t0.596407\t139.541\t140.747\n",
            "18 \t14    \t136.158\t24.644  \t-1     \t140.747\n",
            "19 \t21    \t140.746\t0.00143975\t140.738\t140.747\n",
            "20 \t24    \t131.887\t34.3114   \t-1     \t140.747\n",
            "gen\tnevals\tavg    \tstd   \tmin    \tmax    \n",
            "0  \t32    \t73.7405\t28.401\t17.2921\t116.612\n",
            "1  \t15    \t94.7733\t23.3984\t-1     \t118.306\n",
            "2  \t22    \t109.567\t11.9392\t65.5434\t128.984\n",
            "3  \t16    \t117.517\t7.0322 \t101.795\t131.152\n",
            "4  \t9     \t122.602\t6.17287\t112.802\t131.152\n",
            "5  \t15    \t128.331\t4.69856\t116.612\t135.043\n",
            "6  \t22    \t131.135\t3.53573\t121.918\t135.043\n",
            "7  \t17    \t133.964\t1.82011\t131.152\t137.142\n",
            "8  \t21    \t135.153\t1.02707\t131.152\t138.234\n",
            "9  \t20    \t126.933\t33.0596\t-1     \t138.38 \n",
            "10 \t23    \t136.155\t1.30149\t135.043\t138.38 \n",
            "11 \t25    \t137.144\t1.26676\t134.977\t138.38 \n",
            "12 \t26    \t137.979\t0.903212\t133.871\t138.38 \n",
            "13 \t16    \t138.352\t0.0566323\t138.234\t138.38 \n",
            "14 \t23    \t129.668\t33.7384  \t-1     \t138.38 \n",
            "15 \t20    \t138.38 \t0        \t138.38 \t138.38 \n",
            "16 \t25    \t134.024\t24.251   \t-1     \t138.38 \n",
            "17 \t16    \t138.259\t0.81598  \t134.21 \t140.008\n",
            "18 \t21    \t138.43 \t0.283404 \t138.38 \t140.008\n",
            "19 \t20    \t125.16 \t40.5944  \t-1     \t140.008\n",
            "20 \t15    \t133.886\t24.259   \t-1     \t140.008\n",
            "gen\tnevals\tavg    \tstd    \tmin    \tmax    \n",
            "0  \t32    \t86.4545\t28.2871\t17.1841\t134.667\n",
            "1  \t21    \t109.727\t17.6388\t54.2402\t135.704\n",
            "2  \t20    \t112.887\t32.9705\t-1     \t135.704\n",
            "3  \t22    \t129.197\t5.83418\t112.259\t137.737\n",
            "4  \t21    \t132.718\t2.61367\t125.478\t137.737\n",
            "5  \t20    \t135.179\t2.62536\t129.918\t137.737\n",
            "6  \t16    \t137.247\t1.47005\t130.921\t137.737\n",
            "7  \t19    \t133.401\t24.1392\t-1     \t137.737\n",
            "8  \t17    \t137.737\t0      \t137.737\t137.737\n",
            "9  \t24    \t137.502\t0.964177\t132.696\t137.737\n",
            "10 \t15    \t133.386\t24.1366 \t-1     \t137.737\n",
            "11 \t14    \t137.737\t0       \t137.737\t137.737\n",
            "12 \t26    \t137.748\t0.447402\t136.554\t139.887\n",
            "13 \t18    \t138.054\t1.00846 \t135.429\t140.304\n",
            "14 \t21    \t129.849\t33.8015 \t-1     \t140.304\n",
            "15 \t19    \t138.939\t1.23726 \t135.7  \t140.304\n",
            "16 \t23    \t139.75 \t0.744285\t137.737\t140.456\n",
            "17 \t21    \t135.679\t24.5493 \t-1     \t140.456\n",
            "18 \t20    \t140.264\t0.133112\t139.887\t140.456\n",
            "19 \t18    \t140.361\t0.0734918\t140.304\t140.456\n",
            "20 \t24    \t135.913\t24.5947  \t-1     \t140.456\n",
            "gen\tnevals\tavg    \tstd    \tmin    \tmax    \n",
            "0  \t32    \t76.5288\t20.8907\t37.2076\t113.184\n",
            "1  \t22    \t93.1236\t20.7605\t43.1403\t118.619\n",
            "2  \t19    \t110.088\t7.13609\t91.3674\t126.297\n",
            "3  \t16    \t114.592\t4.64653\t108.347\t126.297\n",
            "4  \t13    \t118.632\t4.18532\t108.347\t126.992\n",
            "5  \t18    \t121.942\t3.92425\t114.292\t126.992\n",
            "6  \t23    \t124.404\t3.42087\t118.619\t126.992\n",
            "7  \t20    \t126.729\t0.698536\t123.149\t126.992\n",
            "8  \t25    \t127.066\t0.505437\t126.297\t129.783\n",
            "9  \t18    \t127.31 \t1.08968 \t126.992\t132.736\n",
            "10 \t23    \t127.458\t1.37469 \t124.498\t132.736\n",
            "11 \t25    \t128.305\t1.81916 \t126.992\t132.999\n",
            "12 \t18    \t130.091\t2.20582 \t126.992\t132.999\n",
            "13 \t21    \t131.928\t1.41486 \t129.783\t132.999\n",
            "14 \t27    \t128.718\t23.3038 \t-1     \t133.452\n",
            "15 \t20    \t133.028\t0.109525\t132.999\t133.452\n",
            "16 \t23    \t124.387\t32.4103 \t-1     \t134.349\n",
            "17 \t21    \t133.226\t0.828416\t129.441\t134.349\n",
            "18 \t20    \t133.852\t0.88561 \t129.623\t134.379\n",
            "19 \t13    \t134.237\t0.622011\t130.774\t134.349\n",
            "20 \t17    \t134.349\t0       \t134.349\t134.349\n",
            "gen\tnevals\tavg    \tstd    \tmin    \tmax    \n",
            "0  \t32    \t74.2718\t27.2687\t25.7836\t131.515\n",
            "1  \t21    \t100.03 \t20.532 \t62.487 \t132.084\n",
            "2  \t19    \t119.318\t13.8552\t76.9814\t132.084\n",
            "3  \t22    \t126.911\t6.54942\t101.018\t134.558\n",
            "4  \t19    \t131.074\t2.70234\t119.7  \t134.558\n",
            "5  \t25    \t132.224\t1.43013\t129.017\t134.731\n",
            "6  \t22    \t124.976\t32.551 \t-1     \t134.731\n",
            "7  \t20    \t134.139\t1.0641 \t132.084\t134.842\n",
            "8  \t17    \t134.72 \t0.0417494\t134.558\t134.731\n",
            "9  \t22    \t130.527\t23.6276  \t-1     \t137.125\n",
            "10 \t24    \t130.431\t23.6418  \t-1     \t137.125\n",
            "11 \t23    \t135.034\t0.802899 \t134.731\t137.256\n",
            "12 \t17    \t135.424\t1.48081  \t130.195\t137.256\n",
            "13 \t20    \t136.456\t1.07092  \t134.731\t137.256\n",
            "14 \t10    \t137.1  \t0.541649 \t134.106\t137.256\n",
            "15 \t16    \t137.31 \t0.371747 \t137.125\t139.369\n",
            "16 \t22    \t137.454\t0.615739 \t137.256\t139.369\n",
            "17 \t20    \t133.379\t24.1515  \t-1     \t139.369\n",
            "18 \t12    \t138.228\t1.07639  \t136.663\t139.369\n",
            "19 \t15    \t130.134\t33.8696  \t-1     \t139.369\n",
            "20 \t26    \t134.806\t24.3978  \t-1     \t139.369\n",
            "gen\tnevals\tavg    \tstd    \tmin    \tmax    \n",
            "0  \t32    \t78.4685\t30.2003\t6.06864\t117.689\n",
            "1  \t12    \t96.7661\t18.9313\t40.2863\t140.115\n",
            "2  \t15    \t113.945\t15.1289\t71.8471\t140.115\n",
            "3  \t17    \t125.112\t13.5783\t96.3728\t140.115\n",
            "4  \t19    \t130.935\t24.6266\t-1     \t140.115\n",
            "5  \t28    \t139.248\t1.87959\t133.878\t140.115\n",
            "6  \t18    \t140.115\t0      \t140.115\t140.115\n",
            "7  \t19    \t140.115\t0      \t140.115\t140.115\n",
            "8  \t19    \t135.615\t24.5418\t-1     \t140.115\n",
            "9  \t23    \t139.896\t1.25247\t132.925\t140.306\n",
            "10 \t11    \t135.705\t24.5529\t-1     \t140.115\n",
            "11 \t20    \t135.686\t24.5497\t-1     \t140.115\n",
            "12 \t23    \t140.122\t0.0395301\t140.115\t140.342\n",
            "13 \t27    \t135.733\t24.5581  \t-1     \t140.342\n",
            "14 \t19    \t131.366\t34.1769  \t-1     \t140.342\n",
            "15 \t21    \t140.219\t0.222467 \t139.139\t140.342\n",
            "16 \t21    \t140.301\t0.0980424\t139.949\t140.342\n",
            "17 \t18    \t135.925\t24.5924  \t-1     \t140.342\n",
            "18 \t16    \t140.086\t1.42332  \t132.161\t140.342\n",
            "19 \t9     \t135.925\t24.5924  \t-1     \t140.342\n",
            "20 \t18    \t140.335\t0.175038 \t139.541\t140.926\n",
            "gen\tnevals\tavg    \tstd    \tmin    \tmax    \n",
            "0  \t32    \t79.7036\t27.7418\t24.2933\t127.311\n",
            "1  \t21    \t101.712\t16.066 \t75.8095\t129.51 \n",
            "2  \t17    \t112.427\t22.1965\t-1     \t132.939\n",
            "3  \t17    \t123.948\t6.54429\t112.226\t132.939\n",
            "4  \t16    \t129.65 \t4.74936\t119.474\t135.843\n",
            "5  \t19    \t128.413\t23.2821\t-1     \t135.843\n",
            "6  \t25    \t133.081\t0.571706\t132.939\t135.843\n",
            "7  \t18    \t133.223\t0.78325 \t132.939\t135.843\n",
            "8  \t18    \t133.653\t1.43235 \t131.64 \t135.843\n",
            "9  \t19    \t134.997\t1.33501 \t131.64 \t135.843\n",
            "10 \t12    \t135.843\t0       \t135.843\t135.843\n",
            "11 \t15    \t131.567\t23.8097 \t-1     \t135.843\n",
            "12 \t18    \t123.014\t39.8871 \t-1     \t135.843\n",
            "13 \t17    \t135.935\t0.531052\t135.727\t138.889\n",
            "14 \t23    \t136.129\t0.887899\t135.843\t138.889\n",
            "15 \t22    \t136.605\t1.31903 \t135.843\t138.889\n",
            "16 \t23    \t132.978\t24.1083 \t-1     \t138.889\n",
            "17 \t15    \t138.396\t1.09225 \t135.843\t138.889\n",
            "18 \t19    \t138.889\t0       \t138.889\t138.889\n",
            "19 \t25    \t134.545\t24.345  \t-1     \t139.751\n",
            "20 \t20    \t134.527\t24.3462 \t-1     \t139.751\n",
            "gen\tnevals\tavg    \tstd   \tmin    \tmax    \n",
            "0  \t32    \t75.5836\t29.672\t20.1545\t134.759\n",
            "1  \t16    \t100.956\t22.8981\t36.0423\t134.759\n",
            "2  \t26    \t114.475\t18.3167\t81.6869\t136.659\n",
            "3  \t20    \t130.363\t8.14645\t100.5  \t136.659\n",
            "4  \t14    \t135.187\t1.31589\t130.342\t136.659\n",
            "5  \t23    \t136.125\t0.854523\t134.759\t136.659\n",
            "6  \t23    \t132.347\t23.9526 \t-1     \t138.208\n",
            "7  \t21    \t132.364\t23.9615 \t-1     \t138.208\n",
            "8  \t20    \t136.758\t0.532114\t135.183\t138.208\n",
            "9  \t20    \t137.095\t0.696288\t136.659\t138.208\n",
            "10 \t18    \t137.413\t1.49798 \t130.717\t139.253\n",
            "11 \t26    \t138.242\t0.534043\t136.659\t139.253\n",
            "12 \t22    \t138.552\t0.482372\t138.208\t139.253\n",
            "13 \t24    \t138.777\t1.15222 \t132.868\t139.253\n",
            "14 \t18    \t139.177\t0.448798\t136.682\t139.398\n",
            "15 \t18    \t134.763\t24.3963 \t-1     \t139.398\n",
            "16 \t18    \t139.33 \t0.0715634\t139.253\t139.398\n",
            "17 \t20    \t139.338\t0.165262 \t138.722\t139.398\n",
            "18 \t22    \t139.41 \t0.0679585\t139.398\t139.788\n",
            "19 \t21    \t139.434\t0.226292 \t138.784\t140.397\n",
            "20 \t26    \t130.276\t33.9275  \t-1     \t140.397\n",
            "gen\tnevals\tavg    \tstd    \tmin    \tmax    \n",
            "0  \t32    \t79.5745\t30.9934\t15.2846\t140.481\n",
            "1  \t14    \t108.187\t17.0158\t79.7324\t140.736\n",
            "2  \t20    \t117.166\t27.077 \t-1     \t140.736\n",
            "3  \t15    \t136.821\t5.94325\t115.537\t140.736\n",
            "4  \t24    \t139.936\t1.85928\t133.942\t140.736\n",
            "5  \t22    \t136.204\t24.6492\t-1     \t140.736\n",
            "6  \t17    \t140.736\t0      \t140.736\t140.736\n",
            "7  \t16    \t140.736\t0      \t140.736\t140.736\n",
            "8  \t19    \t140.592\t0.799247\t136.142\t140.736\n",
            "9  \t14    \t140.606\t0.745134\t136.46 \t140.867\n",
            "10 \t20    \t140.74 \t0.022727\t140.736\t140.867\n",
            "11 \t16    \t136.331\t24.6655 \t-1     \t140.867\n",
            "12 \t18    \t140.774\t0.265332\t139.337\t140.867\n",
            "13 \t21    \t136.336\t24.6704 \t-1     \t140.867\n",
            "14 \t15    \t136.433\t24.6837 \t-1     \t140.867\n",
            "15 \t19    \t140.703\t0.756364\t136.598\t140.867\n",
            "16 \t14    \t136.128\t24.6804 \t-1     \t140.867\n",
            "17 \t17    \t136.43 \t24.6833 \t-1     \t140.867\n",
            "18 \t19    \t140.867\t0       \t140.867\t140.867\n",
            "19 \t25    \t140.767\t0.552513\t137.691\t140.867\n",
            "20 \t16    \t140.355\t2.07567 \t130.192\t140.867\n",
            "gen\tnevals\tavg    \tstd    \tmin    \tmax   \n",
            "0  \t32    \t75.2414\t32.7905\t14.4766\t132.19\n",
            "1  \t18    \t105.106\t21.0665\t29.9465\t136.973\n",
            "2  \t14    \t122.056\t12.4942\t81.4423\t136.973\n",
            "3  \t12    \t131.468\t3.81179\t120.857\t136.973\n",
            "4  \t21    \t134.6  \t2.26755\t132.19 \t137.259\n",
            "5  \t16    \t136.624\t1.02366\t132.485\t137.259\n",
            "6  \t24    \t137.009\t0.0944516\t136.973\t137.259\n",
            "7  \t20    \t137.018\t0.103697 \t136.973\t137.259\n",
            "8  \t17    \t136.91 \t0.584803 \t133.764\t137.259\n",
            "9  \t21    \t132.779\t24.0305  \t-1     \t137.69 \n",
            "10 \t23    \t137.25 \t0.185618 \t136.973\t137.974\n",
            "11 \t22    \t133.081\t24.0836  \t-1     \t137.974\n",
            "12 \t21    \t128.962\t33.5576  \t-1     \t137.974\n",
            "13 \t18    \t138.009\t0.25335  \t137.69 \t139.393\n",
            "14 \t21    \t138.107\t0.413603 \t137.974\t139.393\n",
            "15 \t17    \t129.464\t33.6946  \t-1     \t139.393\n",
            "16 \t14    \t134.441\t24.3467  \t-1     \t140.798\n",
            "17 \t20    \t139.479\t0.444868 \t137.974\t140.798\n",
            "18 \t18    \t126.405\t40.9798  \t-1     \t140.798\n",
            "19 \t18    \t135.371\t24.4979  \t-1     \t140.798\n",
            "20 \t18    \t131.209\t34.1395  \t-1     \t140.798\n",
            "gen\tnevals\tavg    \tstd    \tmin    \tmax    \n",
            "0  \t32    \t73.5291\t22.7604\t19.0505\t107.367\n",
            "1  \t20    \t92.7506\t14.0998\t55.7272\t119.705\n",
            "2  \t19    \t105.426\t10.3849\t75.2526\t124.798\n",
            "3  \t20    \t113.37 \t9.57379\t78.1935\t130.115\n",
            "4  \t22    \t120.775\t6.00293\t107.012\t130.115\n",
            "5  \t21    \t125.441\t4.36313\t114.689\t130.115\n",
            "6  \t16    \t128.986\t2.57269\t122.069\t130.115\n",
            "7  \t23    \t130.051\t0.355227\t128.073\t130.115\n",
            "8  \t18    \t130.174\t0.330792\t130.115\t132.016\n",
            "9  \t14    \t130.534\t0.930214\t130.115\t134.018\n",
            "10 \t19    \t126.616\t22.9577 \t-1     \t135.865\n",
            "11 \t25    \t131.943\t2.08003 \t125.502\t135.865\n",
            "12 \t25    \t133.277\t1.91034 \t130.115\t135.865\n",
            "13 \t20    \t134.807\t1.6131  \t130.115\t135.865\n",
            "14 \t25    \t135.691\t0.538241\t134.018\t135.865\n",
            "15 \t25    \t135.789\t0.422768\t133.435\t135.865\n",
            "16 \t18    \t131.685\t23.8371 \t-1     \t138.982\n",
            "17 \t26    \t136.25 \t1.27154 \t133.099\t138.982\n",
            "18 \t23    \t136.644\t1.3498  \t135.865\t138.982\n",
            "19 \t18    \t133.177\t24.1674 \t-1     \t138.982\n",
            "20 \t20    \t138.69 \t0.908612\t135.865\t138.982\n",
            "gen\tnevals\tavg    \tstd    \tmin   \tmax    \n",
            "0  \t32    \t73.7991\t24.9588\t11.357\t104.095\n",
            "1  \t21    \t90.4841\t20.7347\t24.7605\t123.183\n",
            "2  \t14    \t104.523\t17.665 \t62.1214\t127.227\n",
            "3  \t19    \t117.886\t9.14726\t90.2013\t129.984\n",
            "4  \t22    \t116.21 \t30.6701\t-1     \t136.134\n",
            "5  \t20    \t128.039\t4.50101\t119.178\t136.282\n",
            "6  \t15    \t131.99 \t4.41777\t122.894\t137.497\n",
            "7  \t19    \t135.875\t1.37782\t130.851\t137.497\n",
            "8  \t21    \t136.402\t0.568221\t134.833\t137.899\n",
            "9  \t20    \t136.939\t0.669153\t136.282\t137.899\n",
            "10 \t21    \t132.835\t24.0804 \t-1     \t137.899\n",
            "11 \t20    \t137.767\t0.338181\t136.097\t137.899\n",
            "12 \t22    \t137.899\t0       \t137.899\t137.899\n",
            "13 \t21    \t133.543\t24.1649 \t-1     \t137.899\n",
            "14 \t23    \t137.899\t0       \t137.899\t137.899\n",
            "15 \t19    \t137.899\t0       \t137.899\t137.899\n",
            "16 \t25    \t137.615\t1.02258 \t132.675\t137.899\n",
            "17 \t17    \t137.731\t0.653453\t134.869\t137.899\n",
            "18 \t16    \t137.857\t0.233097\t136.559\t137.899\n",
            "19 \t20    \t137.849\t0.275552\t136.315\t137.899\n",
            "20 \t29    \t137.899\t0       \t137.899\t137.899\n",
            "gen\tnevals\tavg    \tstd    \tmin    \tmax    \n",
            "0  \t32    \t82.9111\t29.2761\t22.5692\t137.103\n",
            "1  \t18    \t103.762\t23.3827\t45.3492\t138.812\n",
            "2  \t19    \t122.349\t24.8285\t-1     \t138.812\n",
            "3  \t17    \t134.476\t3.85782\t124.299\t138.812\n",
            "4  \t19    \t132.75 \t24.0736\t-1     \t139.476\n",
            "5  \t21    \t138.315\t1.209  \t135.335\t139.476\n",
            "6  \t15    \t139.096\t0.394909\t137.842\t139.476\n",
            "7  \t22    \t139.341\t0.53918 \t136.475\t139.476\n",
            "8  \t19    \t135.065\t24.4383 \t-1     \t139.476\n",
            "9  \t17    \t135.087\t24.4419 \t-1     \t139.476\n",
            "10 \t17    \t139.278\t1.105   \t133.126\t139.476\n",
            "11 \t22    \t139.476\t0       \t139.476\t139.476\n",
            "12 \t16    \t139.335\t0.788762\t134.943\t139.476\n",
            "13 \t19    \t139.476\t0       \t139.476\t139.476\n",
            "14 \t21    \t135.057\t24.438  \t-1     \t139.945\n",
            "15 \t13    \t139.55 \t0.169989\t139.476\t139.945\n",
            "16 \t25    \t135.248\t24.4718 \t-1     \t139.945\n",
            "17 \t18    \t130.951\t34.0713 \t-1     \t139.945\n",
            "18 \t17    \t135.357\t24.5015 \t-1     \t139.945\n",
            "19 \t20    \t139.945\t0       \t139.945\t139.945\n",
            "20 \t23    \t139.945\t0       \t139.945\t139.945\n",
            "gen\tnevals\tavg    \tstd    \tmin    \tmax    \n",
            "0  \t32    \t68.3121\t29.3137\t19.7296\t119.086\n",
            "1  \t19    \t94.6145\t18.7624\t55.8023\t133.88 \n",
            "2  \t16    \t112.918\t21.5052\t29.8815\t133.88 \n",
            "3  \t17    \t129.374\t5.97145\t115.788\t133.88 \n",
            "4  \t22    \t132.743\t2.89145\t121.119\t133.88 \n",
            "5  \t15    \t133.88 \t0      \t133.88 \t133.88 \n",
            "6  \t15    \t133.774\t0.593672\t130.468\t133.88 \n",
            "7  \t17    \t133.777\t0.576717\t130.566\t133.88 \n",
            "8  \t10    \t133.88 \t0       \t133.88 \t133.88 \n",
            "9  \t17    \t133.675\t0.922656\t129.958\t134.752\n",
            "10 \t24    \t133.527\t1.53377 \t125.551\t134.752\n",
            "11 \t23    \t134.117\t0.399717\t133.617\t134.752\n",
            "12 \t22    \t134.546\t0.986932\t133.88 \t139.51 \n",
            "13 \t22    \t135.144\t1.42007 \t133.88 \t139.51 \n",
            "14 \t21    \t135.793\t1.96698 \t134.752\t139.51 \n",
            "15 \t11    \t132.906\t24.1657 \t-1     \t140.065\n",
            "16 \t24    \t135.051\t24.448  \t-1     \t140.065\n",
            "17 \t14    \t139.447\t0.97245 \t134.168\t140.065\n",
            "18 \t26    \t139.591\t0.843062\t135.674\t140.065\n",
            "19 \t19    \t135.64 \t24.5414 \t-1     \t140.065\n",
            "20 \t20    \t140.065\t0       \t140.065\t140.065\n",
            "gen\tnevals\tavg    \tstd    \tmin    \tmax    \n",
            "0  \t32    \t81.9453\t25.7656\t15.4215\t121.366\n",
            "1  \t24    \t96.9791\t22.9094\t37.3241\t130.108\n",
            "2  \t22    \t111.546\t13.9815\t77.475 \t129.181\n",
            "3  \t22    \t121.249\t9.30188\t100.19 \t135.36 \n",
            "4  \t25    \t127.821\t4.78866\t115.01 \t137.439\n",
            "5  \t21    \t131.009\t3.5323 \t126.341\t137.439\n",
            "6  \t23    \t129.794\t23.732 \t-1     \t138.76 \n",
            "7  \t18    \t137.032\t1.0822 \t135.003\t139.112\n",
            "8  \t24    \t129.232\t33.6371\t-1     \t141.057\n",
            "9  \t22    \t138.238\t1.42135\t131.881\t141.057\n",
            "10 \t22    \t134.732\t24.3894\t-1     \t141.057\n",
            "11 \t21    \t126.369\t40.9739\t-1     \t141.057\n",
            "12 \t22    \t135.576\t24.5728\t-1     \t141.057\n",
            "13 \t19    \t136.284\t24.6672\t-1     \t141.057\n",
            "14 \t11    \t140.911\t0.80815\t136.412\t141.057\n",
            "15 \t16    \t140.921\t0.753169\t136.728\t141.057\n",
            "16 \t19    \t141.057\t0       \t141.057\t141.057\n",
            "17 \t18    \t141.057\t0       \t141.057\t141.057\n",
            "18 \t24    \t140.965\t0.509486\t138.128\t141.057\n",
            "19 \t15    \t136.617\t24.7168 \t-1     \t141.057\n",
            "20 \t24    \t141.028\t0.157974\t140.149\t141.057\n",
            "gen\tnevals\tavg    \tstd   \tmin    \tmax    \n",
            "0  \t32    \t66.6002\t32.624\t2.41258\t137.062\n",
            "1  \t16    \t85.6662\t20.6342\t32.7259\t137.062\n",
            "2  \t24    \t101.73 \t14.4469\t64.5642\t137.062\n",
            "3  \t12    \t112.095\t9.36356\t95.3884\t137.062\n",
            "4  \t24    \t118.214\t9.8756 \t92.6851\t137.062\n",
            "5  \t18    \t121.054\t22.8288\t-1     \t137.062\n",
            "6  \t16    \t122.34 \t32.2238\t-1     \t137.062\n",
            "7  \t12    \t134.492\t3.64749\t127.304\t137.062\n",
            "8  \t23    \t136.701\t1.46375\t129.731\t137.176\n",
            "9  \t17    \t136.853\t0.880029\t132.735\t137.176\n",
            "10 \t15    \t137.094\t0.0510747\t137.062\t137.176\n",
            "11 \t20    \t137.031\t0.368999 \t135.337\t137.176\n",
            "12 \t21    \t137.119\t0.258619 \t135.691\t137.176\n",
            "13 \t22    \t132.858\t24.0416  \t-1     \t137.176\n",
            "14 \t19    \t137.168\t0.0462256\t136.91 \t137.176\n",
            "15 \t16    \t137.176\t0        \t137.176\t137.176\n",
            "16 \t23    \t137.176\t0        \t137.176\t137.176\n",
            "17 \t18    \t132.858\t24.0416  \t-1     \t137.176\n",
            "18 \t21    \t137.134\t0.235962 \t135.82 \t137.176\n",
            "19 \t14    \t137.195\t0.103878 \t137.176\t137.773\n",
            "20 \t15    \t137.206\t0.232441 \t136.346\t137.773\n",
            "gen\tnevals\tavg    \tstd    \tmin    \tmax    \n",
            "0  \t32    \t71.1623\t27.3787\t4.69435\t107.941\n",
            "1  \t23    \t95.1199\t21.0426\t32.5942\t137.348\n",
            "2  \t20    \t112.032\t14.5003\t75.5335\t137.348\n",
            "3  \t24    \t124.824\t11.8149\t105.218\t137.348\n",
            "4  \t20    \t135.547\t4.3948 \t115.251\t137.348\n",
            "5  \t18    \t119.865\t45.6949\t-1     \t137.348\n",
            "6  \t13    \t137.348\t0      \t137.348\t137.348\n",
            "7  \t21    \t137.348\t0      \t137.348\t137.348\n",
            "8  \t23    \t137.348\t0      \t137.348\t137.348\n",
            "9  \t25    \t137.348\t0      \t137.348\t137.348\n",
            "10 \t23    \t137.326\t0.12331\t136.64 \t137.348\n",
            "11 \t20    \t132.945\t24.0614\t-1     \t137.348\n",
            "12 \t14    \t137.348\t0      \t137.348\t137.348\n",
            "13 \t18    \t132.909\t24.0594\t-1     \t137.348\n",
            "14 \t17    \t137.248\t0.560423\t134.127\t137.348\n",
            "15 \t18    \t137.371\t0.124161\t137.348\t138.062\n",
            "16 \t31    \t133.192\t24.1127 \t-1     \t140.441\n",
            "17 \t21    \t133.411\t24.1563 \t-1     \t140.441\n",
            "18 \t24    \t133.612\t24.1927 \t-1     \t140.441\n",
            "19 \t25    \t138.558\t1.04501 \t137.348\t140.441\n",
            "20 \t23    \t135.143\t24.4755 \t-1     \t140.441\n",
            "media: 139.719641\n",
            "mejor: 141.056541\n"
          ]
        }
      ],
      "source": [
        "# Inicializamos la lista de las soluciones. Almacenaremos el fitness\n",
        "# del mejor individuo de cada intento del algoritmo genético\n",
        "lista_mejores = list()\n",
        "\n",
        "# Lancamos el algoritmo 20 veces\n",
        "for i in range(20):\n",
        "    # Fijamos la semilla\n",
        "    random.seed(i)\n",
        "    best, log = main()\n",
        "    lista_mejores.append(best[0].fitness.values)\n",
        "\n",
        "# Mostramos los resultados. Al terminar el bucle, calculamos\n",
        "# la mediay el mejor resultado de todos los intentos\n",
        "media = np.mean(lista_mejores)\n",
        "mejor_total = max(lista_mejores)\n",
        "print(\"media: %f\" %media)\n",
        "print(\"mejor: %f\" %mejor_total)"
      ]
    },
    {
      "cell_type": "markdown",
      "id": "58544482-5ddf-43bb-a675-bd391f28cb26",
      "metadata": {
        "id": "58544482-5ddf-43bb-a675-bd391f28cb26"
      },
      "source": [
        "#### 6. Convergencia del algoritmo"
      ]
    },
    {
      "cell_type": "markdown",
      "id": "6a83e7b8-bb3e-447c-8459-97a963632f6c",
      "metadata": {
        "id": "6a83e7b8-bb3e-447c-8459-97a963632f6c"
      },
      "source": [
        "A partir del objeto `Logbook` [Objeto Logbook](https://deap.readthedocs.io/en/master/api/tools.html#logbook) que contiene todos los datos de evolución del algoritmo, desarrollamos la función `plot_evolution` para analizar la convergencia representando la evolución del Algoritmo Genético:"
      ]
    },
    {
      "cell_type": "code",
      "execution_count": 51,
      "id": "d0b9017e-7242-40d8-9561-e3bbc2af2dbb",
      "metadata": {
        "id": "d0b9017e-7242-40d8-9561-e3bbc2af2dbb"
      },
      "outputs": [],
      "source": [
        "def plot_evolucion(log):\n",
        "    \"\"\"\n",
        "    Representa la evolución del mejor individuo en cada generación\n",
        "    \"\"\"\n",
        "    gen = log.select(\"gen\")\n",
        "    fit_mins = log.select(\"min\")\n",
        "    fit_maxs = log.select(\"max\")\n",
        "    fit_ave = log.select(\"avg\")\n",
        "\n",
        "    fig, ax1 = plt.subplots()\n",
        "    ax1.plot(gen, fit_mins, \"b\")\n",
        "    ax1.plot(gen, fit_maxs, \"r\")\n",
        "    ax1.plot(gen, fit_ave, \"--k\")\n",
        "    # ax1.fill_between(gen, fit_mins, fit_maxs, where=fit_maxs >= fit_mins, facecolor='g', alpha = 0.2)\n",
        "    ax1.set_xlabel(\"Generation\")\n",
        "    ax1.set_ylabel(\"Fitness\")\n",
        "    ax1.set_ylim([-10, 160])\n",
        "    ax1.legend([\"Min\", \"Max\", \"Avg\"], loc=\"lower center\")\n",
        "    plt.grid(True)\n",
        "    plt.savefig(\"Convergencia.eps\", dpi = 300)"
      ]
    },
    {
      "cell_type": "markdown",
      "id": "587d8ead-61fd-49f1-8fcb-288953cf40c8",
      "metadata": {
        "id": "587d8ead-61fd-49f1-8fcb-288953cf40c8"
      },
      "source": [
        "Pintamos la Gráfica:"
      ]
    },
    {
      "cell_type": "code",
      "execution_count": 52,
      "id": "e4b0ef3a-d346-42c8-82c0-41ba68263f8b",
      "metadata": {
        "colab": {
          "base_uri": "https://localhost:8080/",
          "height": 909
        },
        "id": "e4b0ef3a-d346-42c8-82c0-41ba68263f8b",
        "outputId": "911fa60f-6e28-4038-94ab-5eaed448fbc5"
      },
      "outputs": [
        {
          "output_type": "stream",
          "name": "stdout",
          "text": [
            "gen\tnevals\tavg    \tstd    \tmin    \tmax    \n",
            "0  \t8     \t79.8039\t27.9145\t31.2954\t113.917\n",
            "1  \t2     \t106.772\t8.01216\t95.3282\t113.917\n",
            "2  \t4     \t113.296\t6.74022\t98.8946\t125.664\n",
            "3  \t4     \t118.271\t5.72858\t113.506\t125.664\n",
            "4  \t4     \t124.196\t3.8852 \t113.917\t125.664\n",
            "5  \t4     \t125.664\t0      \t125.664\t125.664\n",
            "6  \t6     \t126.382\t1.89989\t125.664\t131.409\n",
            "7  \t4     \t125.64 \t2.92056\t119.728\t131.409\n",
            "8  \t3     \t127.819\t2.78115\t125.664\t131.409\n",
            "9  \t3     \t130.691\t1.89989\t125.664\t131.409\n",
            "10 \t3     \t131.409\t0      \t131.409\t131.409\n",
            "11 \t6     \t131.409\t0      \t131.409\t131.409\n",
            "12 \t6     \t131.409\t0      \t131.409\t131.409\n",
            "13 \t5     \t131.409\t0      \t131.409\t131.409\n",
            "14 \t6     \t132.05 \t1.69633\t131.409\t136.538\n",
            "15 \t6     \t133.625\t3.0365 \t128.617\t136.538\n",
            "16 \t4     \t135.772\t1.6813 \t131.409\t136.538\n",
            "17 \t2     \t136.538\t0      \t136.538\t136.538\n",
            "18 \t6     \t136.538\t0      \t136.538\t136.538\n",
            "19 \t4     \t136.538\t0      \t136.538\t136.538\n",
            "20 \t4     \t136.538\t0      \t136.538\t136.538\n",
            "Mejor fitness: 136.538209\n",
            "Mejor individuo [-94.69280606322728, -98.36643159028789]\n"
          ]
        },
        {
          "output_type": "stream",
          "name": "stderr",
          "text": [
            "WARNING:matplotlib.backends.backend_ps:The PostScript backend does not support transparency; partially transparent artists will be rendered opaque.\n"
          ]
        },
        {
          "output_type": "display_data",
          "data": {
            "text/plain": [
              "<Figure size 640x480 with 1 Axes>"
            ],
            "image/png": "[encoded data removed]"
          },
          "metadata": {}
        }
      ],
      "source": [
        "# Generación de población\n",
        "toolbox.register(\"population\", tools.initRepeat, list,\n",
        "                 toolbox.individual, 8)\n",
        "random.seed(42)\n",
        "best, log = main()\n",
        "print(\"Mejor fitness: %f\" %best[0].fitness.values)\n",
        "print(\"Mejor individuo %s\" %best[0])\n",
        "plot_evolucion(log)"
      ]
    },
    {
      "cell_type": "markdown",
      "id": "9d0f535b-91ba-4510-9ee4-34bd4d63761f",
      "metadata": {
        "id": "9d0f535b-91ba-4510-9ee4-34bd4d63761f"
      },
      "source": [
        "Dilema de la **exploración** vs la **explotación**: ¿Qué mecanismo u operadores genéticos favorecen la exploración cuales la explotación?. La respuesta a esta cuestión no está clara y es un **tema en discusión** en la literatura especializada. **La mezcla de selección, cruce y mutación generan exploración y explotación**"
      ]
    },
    {
      "cell_type": "markdown",
      "id": "71bfb789-6d4c-4838-b447-5e6155a44f91",
      "metadata": {
        "id": "71bfb789-6d4c-4838-b447-5e6155a44f91"
      },
      "source": [
        "**CÓDIGO COMPLETO** ----------------------------------------------------------------------------"
      ]
    },
    {
      "cell_type": "code",
      "execution_count": 53,
      "id": "40c28bfa-094b-4c2a-a68c-3692350f719d",
      "metadata": {
        "colab": {
          "base_uri": "https://localhost:8080/",
          "height": 978
        },
        "id": "40c28bfa-094b-4c2a-a68c-3692350f719d",
        "outputId": "5e97feba-79f2-428b-cd35-fb5bd744005c"
      },
      "outputs": [
        {
          "output_type": "stream",
          "name": "stderr",
          "text": [
            "/usr/local/lib/python3.10/dist-packages/deap/creator.py:185: RuntimeWarning: A class named 'FitnessMax' has already been created and it will be overwritten. Consider deleting previous creation of that class or rename it.\n",
            "  warnings.warn(\"A class named '{0}' has already been created and it \"\n",
            "/usr/local/lib/python3.10/dist-packages/deap/creator.py:185: RuntimeWarning: A class named 'Individual' has already been created and it will be overwritten. Consider deleting previous creation of that class or rename it.\n",
            "  warnings.warn(\"A class named '{0}' has already been created and it \"\n",
            "WARNING:matplotlib.backends.backend_ps:The PostScript backend does not support transparency; partially transparent artists will be rendered opaque.\n"
          ]
        },
        {
          "output_type": "stream",
          "name": "stdout",
          "text": [
            "gen\tnevals\tavg    \tstd   \tmin    \tmax    \n",
            "0  \t30    \t77.9162\t24.544\t26.4289\t116.497\n",
            "1  \t15    \t98.1576\t15.6516\t58.7221\t123.194\n",
            "2  \t18    \t108.641\t17.0172\t47.071 \t131.857\n",
            "3  \t24    \t122.041\t7.64215\t99.9797\t134.549\n",
            "4  \t19    \t128.584\t3.92487\t122.005\t134.549\n",
            "5  \t11    \t132.005\t2.13284\t125.135\t134.549\n",
            "6  \t22    \t133.419\t1.60997\t131.169\t136.779\n",
            "7  \t20    \t130.449\t24.4622\t-1     \t136.779\n",
            "8  \t17    \t136.143\t1.12918\t133.455\t137.464\n",
            "9  \t16    \t136.686\t0.662231\t134.132\t137.486\n",
            "10 \t14    \t137.114\t0.611792\t136.779\t139.908\n",
            "11 \t15    \t137.235\t1.30432 \t131.674\t139.908\n",
            "12 \t23    \t137.979\t0.981347\t137.464\t140.041\n",
            "13 \t21    \t133.762\t25.0534 \t-1     \t140.101\n",
            "14 \t17    \t138.776\t1.53284 \t133.594\t140.101\n",
            "15 \t15    \t130.265\t35.0922 \t-1     \t140.101\n",
            "16 \t15    \t140.042\t0.0666659\t139.908\t140.101\n",
            "17 \t15    \t140.024\t0.334088 \t138.242\t140.101\n",
            "18 \t18    \t140.101\t5.68434e-14\t140.101\t140.101\n",
            "19 \t20    \t140.021\t0.347706   \t138.217\t140.101\n",
            "20 \t20    \t140.067\t0.183959   \t139.076\t140.101\n",
            "Mejor fitness: 140.100794\n",
            "Mejor individuo [-99.34638537370458, -98.78526358100852]\n"
          ]
        },
        {
          "output_type": "display_data",
          "data": {
            "text/plain": [
              "<Figure size 640x480 with 1 Axes>"
            ],
            "image/png": "[encoded data removed]"
          },
          "metadata": {}
        }
      ],
      "source": [
        "import random\n",
        "import math\n",
        "import numpy as np\n",
        "from deap import base\n",
        "from deap import creator\n",
        "from deap import tools\n",
        "from deap import algorithms\n",
        "import matplotlib.pyplot as plt\n",
        "\n",
        "# Creamos los objetos para definir el problema y el tipo de individuo\n",
        "creator.create(\"FitnessMax\", base.Fitness, weights=(1.0,))\n",
        "creator.create(\"Individual\", list, fitness=creator.FitnessMax)\n",
        "\n",
        "def funcion_objetivo(x):\n",
        "    \"\"\"\n",
        "    Función objetivo de nuestro problema\n",
        "    \"\"\"\n",
        "    for i in range(len(x)):\n",
        "        if x[i] > 100 or x[i] < -100:\n",
        "            return -1,\n",
        "    res = math.sqrt(x[0]**2 + x[1]**2)\n",
        "    return res,\n",
        "\n",
        "toolbox = base.Toolbox()\n",
        "\n",
        "# Generación de genes\n",
        "toolbox.register(\"attr_uniform\", random.uniform, -100, 100)\n",
        "\n",
        "# Generación de inviduos y población\n",
        "toolbox.register(\"individual\", tools.initRepeat, creator.Individual,\n",
        "                 toolbox.attr_uniform, 2)\n",
        "toolbox.register(\"population\", tools.initRepeat, list,\n",
        "                 toolbox.individual, 30)\n",
        "\n",
        "# Registro de operaciones genéticas\n",
        "toolbox.register(\"evaluate\", funcion_objetivo)\n",
        "toolbox.register(\"mate\", tools.cxOnePoint)\n",
        "toolbox.register(\"mutate\", tools.mutGaussian, mu=0,\n",
        "                 sigma= 5, indpb=0.1)\n",
        "toolbox.register(\"select\", tools.selTournament, tournsize=3)\n",
        "\n",
        "def plot_evolucion(log):\n",
        "    \"\"\"\n",
        "    Representa la evolución del mejor individuo en cada generación\n",
        "    \"\"\"\n",
        "    gen = log.select(\"gen\")\n",
        "    fit_mins = log.select(\"min\")\n",
        "    fit_maxs = log.select(\"max\")\n",
        "    fit_ave = log.select(\"avg\")\n",
        "\n",
        "    fig, ax1 = plt.subplots()\n",
        "    ax1.plot(gen, fit_mins, \"b\")\n",
        "    ax1.plot(gen, fit_maxs, \"r\")\n",
        "    ax1.plot(gen, fit_ave, \"--k\")\n",
        "    #ax1.fill_between(gen, fit_mins, fit_maxs, where=fit_maxs >= fit_mins, facecolor='g', alpha = 0.2)\n",
        "    ax1.set_xlabel(\"Generation\")\n",
        "    ax1.set_ylabel(\"Fitness\")\n",
        "    ax1.set_ylim([-10, 160])\n",
        "    ax1.legend([\"Min\", \"Max\", \"Avg\"], loc=\"lower center\")\n",
        "    plt.grid(True)\n",
        "    plt.savefig(\"Convergencia.eps\", dpi = 300)\n",
        "\n",
        "def main():\n",
        "    random.seed(42)\n",
        "    CXPB, MUTPB, NGEN = 0.5, 0.2, 20\n",
        "    pop = toolbox.population()\n",
        "    hof = tools.HallOfFame(1)\n",
        "    stats = tools.Statistics(lambda ind: ind.fitness.values)\n",
        "    stats.register(\"avg\", np.mean)\n",
        "    stats.register(\"std\", np.std)\n",
        "    stats.register(\"min\", np.min)\n",
        "    stats.register(\"max\", np.max)\n",
        "    logbook = tools.Logbook()\n",
        "    pop, logbook = algorithms.eaSimple(pop, toolbox, cxpb=CXPB,\n",
        "                                       mutpb=MUTPB, ngen=NGEN, stats=stats,\n",
        "                                       halloffame=hof, verbose=True)\n",
        "    return hof, logbook\n",
        "\n",
        "\n",
        "best, log = main()\n",
        "print(\"Mejor fitness: %f\" %best[0].fitness.values)\n",
        "print(\"Mejor individuo %s\" %best[0])\n",
        "plot_evolucion(log)"
      ]
    },
    {
      "cell_type": "markdown",
      "id": "56189680-d960-4905-ba52-71da33dc2e2d",
      "metadata": {
        "id": "56189680-d960-4905-ba52-71da33dc2e2d"
      },
      "source": [
        "Si definimos `N` como el número de generaciones, `P` como el número de individuos de la población y `T` como el tiempo que tarda en ejecutarse la función objetivo, el tiempo total para obtener la solución al problema es `Ttotal = N x P x T` (calcula 100 individuos con 100 generaciones y 1 segundo en procesar la función objetivo) -> Existen mecanismos para evaluar los individuos de la población en paralelo."
      ]
    },
    {
      "cell_type": "markdown",
      "id": "533c50b2-f4e2-410e-b0c8-f9e93aa98a74",
      "metadata": {
        "id": "533c50b2-f4e2-410e-b0c8-f9e93aa98a74"
      },
      "source": [
        "#### 7. Para seguir aprendiendo"
      ]
    },
    {
      "cell_type": "markdown",
      "id": "829cbe85-79b4-412e-b529-f1d843b2eaf6",
      "metadata": {
        "id": "829cbe85-79b4-412e-b529-f1d843b2eaf6"
      },
      "source": [
        "[Holland 1992](https://github.com/yyccR/papers/blob/master/genetic%20algorithm/%E3%80%8AAdaptation%20in%20Natural%20and%20Artificial%20Systems%E3%80%8BJohn%20Holland%201992.pdf)"
      ]
    },
    {
      "cell_type": "markdown",
      "id": "f658bedc-59ad-4b57-8b7c-7b305d9e250b",
      "metadata": {
        "id": "f658bedc-59ad-4b57-8b7c-7b305d9e250b"
      },
      "source": [
        "[Goldberg 2006](http://www2.fiit.stuba.sk/~kvasnicka/Free%20books/Goldberg_Genetic_Algorithms_in_Search.pdf)"
      ]
    },
    {
      "cell_type": "markdown",
      "id": "9921b1a3-334c-4222-a99a-72a7d66794d8",
      "metadata": {
        "id": "9921b1a3-334c-4222-a99a-72a7d66794d8"
      },
      "source": [
        "[Ser, J.D. et al. 2019](https://www.sciencedirect.com/science/article/pii/S2210650218310277)"
      ]
    },
    {
      "cell_type": "markdown",
      "id": "eff06e92-58ad-4283-91d6-b778927af9f0",
      "metadata": {
        "id": "eff06e92-58ad-4283-91d6-b778927af9f0"
      },
      "source": [
        "1.- Encontrar los máximos de la función \"picos\"\n",
        "\n",
        "$$z = f(x,y) = 3(1-x)^2e^{-(x^2)-(y+1)^2}-10(x/5-x^3-y^5)e^{-x^2-y^2}-1/3e^{-(x+1)^2-y^2}$$"
      ]
    },
    {
      "cell_type": "markdown",
      "id": "d9386ded-6ef8-45e2-9ced-0f4932497ba5",
      "metadata": {
        "id": "d9386ded-6ef8-45e2-9ced-0f4932497ba5"
      },
      "source": [
        "En el dominio $$\\{x,y\\} \\in [-100,100]$$"
      ]
    },
    {
      "cell_type": "markdown",
      "id": "56526327-714a-4d16-ae23-90306b07ffca",
      "metadata": {
        "id": "56526327-714a-4d16-ae23-90306b07ffca"
      },
      "source": [
        "2.- Dada la [Función de Rastringin](https://en.wikipedia.org/wiki/Rastrigin_function#:~:text=In%20mathematical%20optimization%2C%20the%20Rastrigin,has%20been%20generalized%20by%20Rudolph.), con A = 10 y  $$\\{xi\\} \\in [-5.12,5.12]$$\n",
        "\n",
        "Implementa dicha función en Python y minimízala para n=10\n",
        "\n",
        "Compara el funcionamiento del Algoritmo Genético para cruce con un punto con cruce con dos puntos"
      ]
    },
    {
      "cell_type": "code",
      "execution_count": null,
      "id": "b08d616f-069a-4780-9a20-3403b1e3b66f",
      "metadata": {
        "id": "b08d616f-069a-4780-9a20-3403b1e3b66f"
      },
      "outputs": [],
      "source": []
    }
  ],
  "metadata": {
    "kernelspec": {
      "display_name": "Python 3 (ipykernel)",
      "language": "python",
      "name": "python3"
    },
    "language_info": {
      "codemirror_mode": {
        "name": "ipython",
        "version": 3
      },
      "file_extension": ".py",
      "mimetype": "text/x-python",
      "name": "python",
      "nbconvert_exporter": "python",
      "pygments_lexer": "ipython3",
      "version": "3.9.7"
    },
    "colab": {
      "provenance": [],
      "include_colab_link": true
    }
  },
  "nbformat": 4,
  "nbformat_minor": 5
}