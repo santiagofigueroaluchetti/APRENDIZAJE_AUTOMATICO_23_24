{
  "cells": [
    {
      "cell_type": "markdown",
      "metadata": {
        "id": "view-in-github",
        "colab_type": "text"
      },
      "source": [
        "<a href=\"https://colab.research.google.com/github/santiagofigueroaluchetti/APRENDIZAJE_AUTOMATICO_23_24/blob/main/PRACTICA_TERMINADA_3.ipynb\" target=\"_parent\"><img src=\"https://colab.research.google.com/assets/colab-badge.svg\" alt=\"Open In Colab\"/></a>"
      ]
    },
    {
      "cell_type": "markdown",
      "source": [
        "#*Práctica 3*\n",
        "\n",
        "##*Redes de Neuronas Convolucionales*."
      ],
      "metadata": {
        "id": "AfUms8Il_ImT"
      }
    },
    {
      "cell_type": "markdown",
      "source": [
        "Participantes:\n",
        "- Santiago Figueroa\n",
        "- Diego Hermana\n",
        "- Daniel Vidal"
      ],
      "metadata": {
        "id": "2K9vk1EmBnqU"
      }
    },
    {
      "cell_type": "markdown",
      "source": [
        "El propósito de la presente práctica es la creación, configuración y entrenamiento de un modelo de Redes Neuronales Convolucionales (CNN, por sus siglas en inglés). Este proceso se llevará a cabo en grupos previamente establecidos, y el resultado final se plasmará en un fichero Jupyter Notebook alojado en Google Colab. Este documento contendrá tanto el código implementado como explicaciones detalladas en formato Markdown embebido.\n",
        "\n",
        "La tarea principal consiste en desarrollar un modelo de Red de Neuronas Convolucionales capaz de reconocer y clasificar imágenes en 100 categorías. Este modelo se definirá, configurará, entrenará, evaluará y mejorará utilizando el conjunto de datos CIFAR-100, descargado desde https://www.cs.toronto.edu/~kriz/cifar.html. El conjunto CIFAR-100 consta de 100 clases, cada una con 600 imágenes, divididas en 500 imágenes de entrenamiento y 100 imágenes de prueba por clase. Estas clases se agrupan en 20 superclases, y cada imagen está etiquetada tanto con la clase \"fina\" como con la clase \"gruesa\".\n",
        "\n",
        "Las cuestiones clave a abordar en la implementación incluyen la decisión de la estructura de la red neuronal convolucional, la optimización de los hiperparámetros para lograr la mayor precisión en los datos de prueba, y la explicación detallada de la salida generada por el método model.summary() para el modelo final.\n",
        "\n",
        "\n",
        "Comenzamos con la creación de la red neuronal."
      ],
      "metadata": {
        "id": "Ektx8d1u_eiN"
      }
    },
    {
      "cell_type": "markdown",
      "metadata": {
        "id": "PZQ-pvl-6DCv"
      },
      "source": [
        "Importación librerias necesarias"
      ]
    },
    {
      "cell_type": "code",
      "execution_count": null,
      "metadata": {
        "id": "MA0E8e9K6Ftd"
      },
      "outputs": [],
      "source": [
        "import tensorflow as tf\n",
        "from tensorflow.keras import layers, models\n",
        "from tensorflow.keras.datasets import cifar100\n",
        "from tensorflow.keras.utils import to_categorical\n",
        "from tensorflow.keras.preprocessing import image\n",
        "import numpy as np"
      ]
    },
    {
      "cell_type": "markdown",
      "metadata": {
        "id": "VfqliL2H6KCG"
      },
      "source": [
        "Cargar el conjunto de datos CIFAR-100"
      ]
    },
    {
      "cell_type": "code",
      "execution_count": null,
      "metadata": {
        "id": "VldWgjZ-6Qq-",
        "colab": {
          "base_uri": "https://localhost:8080/"
        },
        "outputId": "f55af7a2-7725-4e38-9cda-0d2a332d184a"
      },
      "outputs": [
        {
          "output_type": "stream",
          "name": "stdout",
          "text": [
            "Downloading data from https://www.cs.toronto.edu/~kriz/cifar-100-python.tar.gz\n",
            "169001437/169001437 [==============================] - 6s 0us/step\n"
          ]
        }
      ],
      "source": [
        "(train_images, train_labels), (test_images, test_labels) = cifar100.load_data()"
      ]
    },
    {
      "cell_type": "markdown",
      "metadata": {
        "id": "ChAbWLEYoDHM"
      },
      "source": [
        "Normalizar los valores de píxeles entre 0 y 1\n"
      ]
    },
    {
      "cell_type": "code",
      "execution_count": null,
      "metadata": {
        "id": "olIfeKuPoB0M"
      },
      "outputs": [],
      "source": [
        "train_images, test_images = train_images / 255.0, test_images / 255.0"
      ]
    },
    {
      "cell_type": "markdown",
      "metadata": {
        "id": "OI1f22mxoJks"
      },
      "source": [
        "Convertir las etiquetas a codificación one-hot categórica\n"
      ]
    },
    {
      "cell_type": "code",
      "execution_count": null,
      "metadata": {
        "id": "eqLqYSyHoIbV"
      },
      "outputs": [],
      "source": [
        "train_labels = to_categorical(train_labels, 100)\n",
        "test_labels = to_categorical(test_labels, 100)"
      ]
    },
    {
      "cell_type": "markdown",
      "metadata": {
        "id": "IRJYq6wWmq44"
      },
      "source": [
        "Configuración de la red Neuronal"
      ]
    },
    {
      "cell_type": "code",
      "execution_count": null,
      "metadata": {
        "id": "1aREXhxudGFS"
      },
      "outputs": [],
      "source": [
        "# Construir el modelo\n",
        "model = models.Sequential()\n",
        "\n",
        "# Capa 1: Conv2D + BatchNormalization + MaxPooling + Dropout\n",
        "model.add(layers.Conv2D(32, (3, 3), activation='relu', input_shape=(32, 32, 3)))\n",
        "model.add(layers.BatchNormalization())\n",
        "model.add(layers.MaxPooling2D((2, 2)))\n",
        "model.add(layers.Dropout(0.25))\n",
        "\n",
        "# Capa 2: Conv2D + BatchNormalization + MaxPooling + Dropout\n",
        "model.add(layers.Conv2D(64, (3, 3), activation='relu', padding='same'))\n",
        "model.add(layers.BatchNormalization())\n",
        "model.add(layers.MaxPooling2D((2, 2), padding='same'))\n",
        "model.add(layers.Dropout(0.25))\n",
        "\n",
        "# Capa 3: Conv2D + BatchNormalization + MaxPooling + Dropout\n",
        "model.add(layers.Conv2D(128, (3, 3), activation='relu', padding='same'))\n",
        "model.add(layers.BatchNormalization())\n",
        "model.add(layers.MaxPooling2D((2, 2), padding='same'))\n",
        "model.add(layers.Dropout(0.25))\n",
        "\n",
        "# Capa 4: Conv2D + BatchNormalization + MaxPooling + Dropout\n",
        "model.add(layers.Conv2D(256, (3, 3), activation='relu', padding='same'))\n",
        "model.add(layers.BatchNormalization())\n",
        "model.add(layers.MaxPooling2D((2, 2), padding='same'))\n",
        "model.add(layers.Dropout(0.25))\n",
        "\n",
        "# Capa 5: Conv2D + BatchNormalization + MaxPooling + Dropout\n",
        "model.add(layers.Conv2D(512, (3, 3), activation='relu', padding='same'))\n",
        "model.add(layers.BatchNormalization())\n",
        "model.add(layers.MaxPooling2D((2, 2), padding='same'))\n",
        "model.add(layers.Dropout(0.25))\n",
        "\n",
        "# Capa 6: Conv2D + BatchNormalization + MaxPooling + Dropout\n",
        "model.add(layers.Conv2D(1024, (3, 3), activation='relu', padding='same'))\n",
        "model.add(layers.BatchNormalization())\n",
        "model.add(layers.MaxPooling2D((2, 2), padding='same'))\n",
        "model.add(layers.Dropout(0.25))\n",
        "\n",
        "# Aplanar y conectar a capas totalmente conectadas\n",
        "model.add(layers.Flatten())\n",
        "model.add(layers.Dense(512, activation='relu'))\n",
        "model.add(layers.BatchNormalization())\n",
        "model.add(layers.Dropout(0.5))\n",
        "model.add(layers.Dense(100, activation='softmax'))\n"
      ]
    },
    {
      "cell_type": "markdown",
      "metadata": {
        "id": "Lzzvm284oRHk"
      },
      "source": [
        "Compilar el modelo\n"
      ]
    },
    {
      "cell_type": "code",
      "execution_count": null,
      "metadata": {
        "id": "kJDmPBmaoP2d"
      },
      "outputs": [],
      "source": [
        "model.compile(optimizer='adam', loss='categorical_crossentropy', metrics=['accuracy'])\n"
      ]
    },
    {
      "cell_type": "markdown",
      "metadata": {
        "id": "UW7fQYrB6-dJ"
      },
      "source": [
        " Resumen del modelo"
      ]
    },
    {
      "cell_type": "code",
      "execution_count": null,
      "metadata": {
        "id": "sFiloTJc6b9N",
        "colab": {
          "base_uri": "https://localhost:8080/"
        },
        "outputId": "9b839fa8-0789-4420-da52-360833eb6967"
      },
      "outputs": [
        {
          "output_type": "stream",
          "name": "stdout",
          "text": [
            "Model: \"sequential\"\n",
            "_________________________________________________________________\n",
            " Layer (type)                Output Shape              Param #   \n",
            "=================================================================\n",
            " conv2d (Conv2D)             (None, 30, 30, 32)        896       \n",
            "                                                                 \n",
            " batch_normalization (Batch  (None, 30, 30, 32)        128       \n",
            " Normalization)                                                  \n",
            "                                                                 \n",
            " max_pooling2d (MaxPooling2  (None, 15, 15, 32)        0         \n",
            " D)                                                              \n",
            "                                                                 \n",
            " dropout (Dropout)           (None, 15, 15, 32)        0         \n",
            "                                                                 \n",
            " conv2d_1 (Conv2D)           (None, 15, 15, 64)        18496     \n",
            "                                                                 \n",
            " batch_normalization_1 (Bat  (None, 15, 15, 64)        256       \n",
            " chNormalization)                                                \n",
            "                                                                 \n",
            " max_pooling2d_1 (MaxPoolin  (None, 8, 8, 64)          0         \n",
            " g2D)                                                            \n",
            "                                                                 \n",
            " dropout_1 (Dropout)         (None, 8, 8, 64)          0         \n",
            "                                                                 \n",
            " conv2d_2 (Conv2D)           (None, 8, 8, 128)         73856     \n",
            "                                                                 \n",
            " batch_normalization_2 (Bat  (None, 8, 8, 128)         512       \n",
            " chNormalization)                                                \n",
            "                                                                 \n",
            " max_pooling2d_2 (MaxPoolin  (None, 4, 4, 128)         0         \n",
            " g2D)                                                            \n",
            "                                                                 \n",
            " dropout_2 (Dropout)         (None, 4, 4, 128)         0         \n",
            "                                                                 \n",
            " conv2d_3 (Conv2D)           (None, 4, 4, 256)         295168    \n",
            "                                                                 \n",
            " batch_normalization_3 (Bat  (None, 4, 4, 256)         1024      \n",
            " chNormalization)                                                \n",
            "                                                                 \n",
            " max_pooling2d_3 (MaxPoolin  (None, 2, 2, 256)         0         \n",
            " g2D)                                                            \n",
            "                                                                 \n",
            " dropout_3 (Dropout)         (None, 2, 2, 256)         0         \n",
            "                                                                 \n",
            " conv2d_4 (Conv2D)           (None, 2, 2, 512)         1180160   \n",
            "                                                                 \n",
            " batch_normalization_4 (Bat  (None, 2, 2, 512)         2048      \n",
            " chNormalization)                                                \n",
            "                                                                 \n",
            " max_pooling2d_4 (MaxPoolin  (None, 1, 1, 512)         0         \n",
            " g2D)                                                            \n",
            "                                                                 \n",
            " dropout_4 (Dropout)         (None, 1, 1, 512)         0         \n",
            "                                                                 \n",
            " conv2d_5 (Conv2D)           (None, 1, 1, 1024)        4719616   \n",
            "                                                                 \n",
            " batch_normalization_5 (Bat  (None, 1, 1, 1024)        4096      \n",
            " chNormalization)                                                \n",
            "                                                                 \n",
            " max_pooling2d_5 (MaxPoolin  (None, 1, 1, 1024)        0         \n",
            " g2D)                                                            \n",
            "                                                                 \n",
            " dropout_5 (Dropout)         (None, 1, 1, 1024)        0         \n",
            "                                                                 \n",
            " flatten (Flatten)           (None, 1024)              0         \n",
            "                                                                 \n",
            " dense (Dense)               (None, 512)               524800    \n",
            "                                                                 \n",
            " batch_normalization_6 (Bat  (None, 512)               2048      \n",
            " chNormalization)                                                \n",
            "                                                                 \n",
            " dropout_6 (Dropout)         (None, 512)               0         \n",
            "                                                                 \n",
            " dense_1 (Dense)             (None, 100)               51300     \n",
            "                                                                 \n",
            "=================================================================\n",
            "Total params: 6874404 (26.22 MB)\n",
            "Trainable params: 6869348 (26.20 MB)\n",
            "Non-trainable params: 5056 (19.75 KB)\n",
            "_________________________________________________________________\n"
          ]
        }
      ],
      "source": [
        "model.summary()"
      ]
    },
    {
      "cell_type": "markdown",
      "source": [
        "# Capas Convolucionales y Operaciones:\n",
        "\n",
        "**conv2d (Conv2D):** Capa convolucional con 32 filtros de tamaño 3x3. Genera una salida de forma (30, 30, 32) debido a la convolución.\n",
        "\n",
        "**batch_normalization** (**BatchNormalization**): Capa de normalización que ajusta y normaliza las activaciones de la capa anterior.\n",
        "\n",
        "**max_pooling2d** (**MaxPooling2D**): Capa de pooling que reduce a la mitad la dimensión espacial de la entrada (15, 15, 32).\n",
        "\n",
        "**dropout (Dropout):** Capa de dropout que apaga aleatoriamente un porcentaje de unidades para prevenir el sobreajuste.\n",
        "\n",
        "### Capas Subsiguientes:\n",
        "\n",
        "El patrón se repite con capas convolucionales, normalización, pooling y dropout. Cada capa convolucional aumenta el número de filtros, reduciendo la dimensión espacial a la mitad.\n",
        "Capa Flatten (Aplanar):\n",
        "\n",
        "**flatten (Flatten):** Convierte la salida de las capas convolucionales (1, 1, 1024) en un vector plano de tamaño 1024.\n",
        "Capas Densas (Totalmente Conectadas):\n",
        "\n",
        "**dense (Dense):** Capa densa con 512 neuronas y activación ReLU.\n",
        "batch_normalization_6 (BatchNormalization): Capa de normalización para las activaciones de la capa densa.\n",
        "dropout_6 (Dropout): Capa de dropout para prevenir el sobreajuste.\n",
        "dense_1 (Dense): Capa densa final con 100 neuronas y activación softmax, correspondiente a las 100 clases de CIFAR-100.\n",
        "Resumen de Parámetros:\n",
        "\n",
        "**Total params:** Muestra el número total de parámetros en el modelo, incluyendo entrenables y no entrenables.\n",
        "\n",
        "**Trainable params**: Indica el número de parámetros que se ajustarán durante el entrenamiento.\n",
        "\n",
        "**Non-trainable params:** Representa la cantidad de parámetros que no se modificarán durante el entrenamiento.\n",
        "\n",
        "En resumen, el modelo consta de capas convolucionales, normalización, pooling y dropout, seguidas por capas densas. La última capa densa tiene 100 neuronas, que es el número de clases en CIFAR-100. La estructura general del modelo busca extraer características a través de capas convolucionales y luego clasificarlas utilizando capas densas."
      ],
      "metadata": {
        "id": "G5jZumDwpJXk"
      }
    },
    {
      "cell_type": "markdown",
      "metadata": {
        "id": "ilrmKHmN7Crh"
      },
      "source": [
        "Utilizamos la función de Callbacks de Keras, como EarlyStopping, para monitorear automáticamente el rendimiento y detener el entrenamiento cuando no se observa mejora.\n",
        "\n",
        "Ponemos 100 epocas pero no va a llegar a esas 100 epocas ya que  gracias al EarlyStopping va a para cuando la red comience a sobreentrenarse."
      ]
    },
    {
      "cell_type": "code",
      "execution_count": null,
      "metadata": {
        "colab": {
          "base_uri": "https://localhost:8080/"
        },
        "id": "QtA1ncxg7DrK",
        "outputId": "cb79ec9f-a10a-4b33-b7d6-f12e7bf417a2"
      },
      "outputs": [
        {
          "output_type": "stream",
          "name": "stdout",
          "text": [
            "Epoch 1/100\n",
            "1563/1563 [==============================] - 40s 15ms/step - loss: 4.3341 - accuracy: 0.0792 - val_loss: 3.5235 - val_accuracy: 0.1512\n",
            "Epoch 2/100\n",
            "1563/1563 [==============================] - 22s 14ms/step - loss: 3.5089 - accuracy: 0.1601 - val_loss: 3.0562 - val_accuracy: 0.2332\n",
            "Epoch 3/100\n",
            "1563/1563 [==============================] - 22s 14ms/step - loss: 3.1036 - accuracy: 0.2254 - val_loss: 2.7832 - val_accuracy: 0.2879\n",
            "Epoch 4/100\n",
            "1563/1563 [==============================] - 23s 15ms/step - loss: 2.8530 - accuracy: 0.2750 - val_loss: 2.6282 - val_accuracy: 0.3241\n",
            "Epoch 5/100\n",
            "1563/1563 [==============================] - 22s 14ms/step - loss: 2.6885 - accuracy: 0.3092 - val_loss: 3.0573 - val_accuracy: 0.2600\n",
            "Epoch 6/100\n",
            "1563/1563 [==============================] - 23s 14ms/step - loss: 2.5435 - accuracy: 0.3399 - val_loss: 2.9961 - val_accuracy: 0.2705\n",
            "Epoch 7/100\n",
            "1563/1563 [==============================] - 24s 15ms/step - loss: 2.4240 - accuracy: 0.3647 - val_loss: 2.1716 - val_accuracy: 0.4149\n",
            "Epoch 8/100\n",
            "1563/1563 [==============================] - 23s 14ms/step - loss: 2.3199 - accuracy: 0.3867 - val_loss: 2.1054 - val_accuracy: 0.4303\n",
            "Epoch 9/100\n",
            "1563/1563 [==============================] - 23s 15ms/step - loss: 2.2321 - accuracy: 0.4049 - val_loss: 2.0683 - val_accuracy: 0.4473\n",
            "Epoch 10/100\n",
            "1563/1563 [==============================] - 24s 15ms/step - loss: 2.1504 - accuracy: 0.4244 - val_loss: 2.0850 - val_accuracy: 0.4446\n",
            "Epoch 11/100\n",
            "1563/1563 [==============================] - 22s 14ms/step - loss: 2.0829 - accuracy: 0.4392 - val_loss: 1.9923 - val_accuracy: 0.4643\n",
            "Epoch 12/100\n",
            "1563/1563 [==============================] - 23s 15ms/step - loss: 2.0117 - accuracy: 0.4554 - val_loss: 2.3857 - val_accuracy: 0.3943\n",
            "Epoch 13/100\n",
            "1563/1563 [==============================] - 23s 14ms/step - loss: 1.9534 - accuracy: 0.4662 - val_loss: 2.0425 - val_accuracy: 0.4580\n",
            "Epoch 14/100\n",
            "1563/1563 [==============================] - 22s 14ms/step - loss: 1.8998 - accuracy: 0.4825 - val_loss: 2.1119 - val_accuracy: 0.4502\n",
            "Epoch 15/100\n",
            "1563/1563 [==============================] - 23s 15ms/step - loss: 1.8551 - accuracy: 0.4902 - val_loss: 2.0072 - val_accuracy: 0.4731\n",
            "Epoch 16/100\n",
            "1563/1563 [==============================] - 22s 14ms/step - loss: 1.8164 - accuracy: 0.5002 - val_loss: 1.9508 - val_accuracy: 0.4781\n",
            "Epoch 17/100\n",
            "1563/1563 [==============================] - 23s 14ms/step - loss: 1.7710 - accuracy: 0.5090 - val_loss: 1.9462 - val_accuracy: 0.4814\n",
            "Epoch 18/100\n",
            "1563/1563 [==============================] - 24s 15ms/step - loss: 1.7224 - accuracy: 0.5217 - val_loss: 2.0657 - val_accuracy: 0.4595\n",
            "Epoch 19/100\n",
            "1563/1563 [==============================] - 22s 14ms/step - loss: 1.6876 - accuracy: 0.5287 - val_loss: 1.9186 - val_accuracy: 0.4919\n",
            "Epoch 20/100\n",
            "1563/1563 [==============================] - 23s 15ms/step - loss: 1.6521 - accuracy: 0.5389 - val_loss: 1.8876 - val_accuracy: 0.5008\n",
            "Epoch 21/100\n",
            "1563/1563 [==============================] - 24s 15ms/step - loss: 1.6159 - accuracy: 0.5468 - val_loss: 1.9596 - val_accuracy: 0.4894\n",
            "Epoch 22/100\n",
            "1563/1563 [==============================] - 22s 14ms/step - loss: 1.5869 - accuracy: 0.5538 - val_loss: 1.8394 - val_accuracy: 0.5146\n",
            "Epoch 23/100\n",
            "1563/1563 [==============================] - 23s 15ms/step - loss: 1.5558 - accuracy: 0.5598 - val_loss: 1.8027 - val_accuracy: 0.5260\n",
            "Epoch 24/100\n",
            "1563/1563 [==============================] - 23s 15ms/step - loss: 1.5236 - accuracy: 0.5687 - val_loss: 1.8548 - val_accuracy: 0.5135\n",
            "Epoch 25/100\n",
            "1563/1563 [==============================] - 22s 14ms/step - loss: 1.5028 - accuracy: 0.5720 - val_loss: 1.8906 - val_accuracy: 0.5105\n",
            "Epoch 26/100\n",
            "1563/1563 [==============================] - 23s 15ms/step - loss: 1.4689 - accuracy: 0.5807 - val_loss: 1.7671 - val_accuracy: 0.5369\n",
            "Epoch 27/100\n",
            "1563/1563 [==============================] - 24s 15ms/step - loss: 1.4486 - accuracy: 0.5848 - val_loss: 1.8223 - val_accuracy: 0.5262\n",
            "Epoch 28/100\n",
            "1563/1563 [==============================] - 22s 14ms/step - loss: 1.4176 - accuracy: 0.5945 - val_loss: 1.8022 - val_accuracy: 0.5279\n",
            "Epoch 29/100\n",
            "1563/1563 [==============================] - 23s 15ms/step - loss: 1.4008 - accuracy: 0.5984 - val_loss: 1.7675 - val_accuracy: 0.5363\n",
            "Epoch 30/100\n",
            "1563/1563 [==============================] - 24s 15ms/step - loss: 1.3925 - accuracy: 0.5985 - val_loss: 1.8146 - val_accuracy: 0.5308\n",
            "Epoch 31/100\n",
            "1563/1563 [==============================] - 23s 15ms/step - loss: 1.3563 - accuracy: 0.6079 - val_loss: 1.7684 - val_accuracy: 0.5363\n"
          ]
        }
      ],
      "source": [
        "\n",
        "from tensorflow.keras.callbacks import EarlyStopping\n",
        "\n",
        "# Definir EarlyStopping\n",
        "early_stopping = EarlyStopping(monitor='val_loss', patience=5, restore_best_weights=True)\n",
        "\n",
        "# Entrenar el modelo con EarlyStopping\n",
        "history = model.fit(train_images, train_labels, epochs=100, validation_data=(test_images,test_labels), callbacks=[early_stopping])\n"
      ]
    },
    {
      "cell_type": "markdown",
      "source": [
        "Evaluación en conjunto de testeo"
      ],
      "metadata": {
        "id": "LfvFIme47K6T"
      }
    },
    {
      "cell_type": "code",
      "source": [
        "test_loss,test_acc=model.evaluate(test_images,test_labels)\n",
        "print('La precisión del test es de',test_acc)"
      ],
      "metadata": {
        "id": "yh56la-g7NoE",
        "colab": {
          "base_uri": "https://localhost:8080/"
        },
        "outputId": "1fb8977a-d990-4221-9472-b72e06648f91"
      },
      "execution_count": null,
      "outputs": [
        {
          "output_type": "stream",
          "name": "stdout",
          "text": [
            "313/313 [==============================] - 2s 5ms/step - loss: 1.7671 - accuracy: 0.5369\n",
            "Test acurracy 0.536899983882904\n"
          ]
        }
      ]
    },
    {
      "cell_type": "markdown",
      "metadata": {
        "id": "mSAW-ISKrmEy"
      },
      "source": [
        "Ahora vamos a probar con un ejemplo de las test images como nos reconoce.\n",
        "Podemos selecciona rla imagen que queramos solo tendremos que modificar el numero de las imágenes de test. Si quisiesemos comprobar la imagen 5,\n",
        "test_image[5]\n",
        "\n",
        "Hemos creado una herramienta para que una vez nos muestre la imagen nos diga la clase y la superclase que pertenece a dicha imagen."
      ]
    },
    {
      "cell_type": "code",
      "source": [
        "import matplotlib.pyplot as plt\n",
        "# Suponiendo que test_images[89] es una imagen en formato de píxeles (array NumPy)\n",
        "image_to_visualize = test_images[89]\n",
        "\n",
        "# Muestra la imagen\n",
        "plt.imshow(image_to_visualize)\n",
        "plt.show()\n",
        "# Probamos con la imagen 89\n",
        "input_data = np.expand_dims(test_images[89], axis=0)\n",
        "predictions = model.predict(input_data)\n",
        "etiqueta_predicha = np.argmax(predictions)\n",
        "print(etiqueta_predicha)\n",
        "\n",
        "# Definir un diccionario que mapea números a etiquetas\n",
        "etiquetas = {\n",
        "    0: \"manzana\", 1: \"pez_de_acuario\", 2: \"bebé\", 3: \"oso\", 4: \"castor\", 5: \"cama\",\n",
        "    6: \"abeja\", 7: \"escarabajo\", 8: \"bicicleta\", 9: \"botella\", 10: \"tazón\", 11: \"niño\",\n",
        "    12: \"puente\", 13: \"autobús\", 14: \"mariposa\", 15: \"camello\", 16: \"lata\", 17: \"castillo\",\n",
        "    18: \"oruga\", 19: \"ganado\", 20: \"silla\", 21: \"chimpancé\", 22: \"reloj\",\n",
        "    23: \"nube\", 24: \"cucaracha\", 25: \"sofá\", 26: \"cangrejo\", 27: \"cocodrilo\",\n",
        "    28: \"taza\", 29: \"dinosaurio\", 30: \"delfín\", 31: \"elefante\", 32: \"lenguado\",\n",
        "    33: \"bosque\", 34: \"zorro\", 35: \"niña\", 36: \"hámster\", 37: \"casa\",\n",
        "    38: \"canguro\", 39: \"teclado de computadora\", 40: \"lámpara\", 41: \"cortacésped\",\n",
        "    42: \"leopardo\", 43: \"león\", 44: \"lagarto\", 45: \"langosta\", 46: \"hombre\",\n",
        "    47: \"arce\", 48: \"motocicleta\", 49: \"montaña\", 50: \"ratón\",\n",
        "    51: \"seta\", 52: \"roble\", 53: \"naranja\", 54: \"orquídea\", 55: \"nutria\",\n",
        "    56: \"palmera\", 57: \"pera\", 58: \"camioneta\", 59: \"pino\",\n",
        "    60: \"llanura\", 61: \"platos\", 62: \"amapola\", 63: \"puercoespín\", 64: \"zarigüeya\",\n",
        "    65: \"conejo\", 66: \"mapache\", 67: \"raya\", 68: \"carretera\", 69: \"cohete\",\n",
        "    70: \"rosa\", 71: \"mar\", 72: \"foca\", 73: \"tiburón\", 74: \"musaraña\",\n",
        "    75: \"mofeta\", 76: \"rascacielos\", 77: \"caracol\", 78: \"serpiente\", 79: \"araña\",\n",
        "    80: \"ardilla\", 81: \"tranvía\", 82: \"girasol\", 83: \"pimiento\",\n",
        "    84: \"mesa\", 85: \"tanque\", 86: \"teléfono\", 87: \"televisión\", 88: \"tigre\",\n",
        "    89: \"tractor\", 90: \"tren\", 91: \"trucha\", 92: \"tulipán\", 93: \"tortuga\",\n",
        "    94: \"armario\", 95: \"ballena\", 96: \"árbol de sauce\", 97: \"lobo\",\n",
        "    98: \"mujer\", 99: \"gusano\"\n",
        "\n",
        "\n",
        "}\n",
        "# Definir la relación entre las clases y las superclases\n",
        "relacion_clases_superclases = {\n",
        "\"castor\": \"mamíferos acuáticos\",\n",
        "\"delfín\": \"mamíferos acuáticos\",\n",
        "\"nutria\": \"mamíferos acuáticos\",\n",
        "\"foca\": \"mamíferos acuáticos\",\n",
        "\"ballena\": \"mamíferos acuáticos\",\n",
        "\"pez_de_acuario\": \"peces\",\n",
        "\"lenguado\": \"peces\",\n",
        "\"raya\": \"peces\",\n",
        "\"tiburón\": \"peces\",\n",
        "\"trucha\": \"peces\",\n",
        "\"orquídea\": \"flores\",\n",
        "\"amapola\": \"flores\",\n",
        "\"rosa\": \"flores\",\n",
        "\"girasol\": \"flores\",\n",
        "\"tulipán\": \"flores\",\n",
        "\"botella\": \"recipientes de comida\",\n",
        "\"tazón\": \"recipientes de comida\",\n",
        "\"lata\": \"recipientes de comida\",\n",
        "\"taza\": \"recipientes de comida\",\n",
        "\"platos\": \"recipientes de comida\",\n",
        "\"manzana\": \"frutas y verduras\",\n",
        "\"seta\": \"frutas y verduras\",\n",
        "\"naranja\": \"frutas y verduras\",\n",
        "\"pera\": \"frutas y verduras\",\n",
        "\"pimiento\": \"frutas y verduras\",\n",
        "\"reloj\": \"dispositivos eléctricos para el hogar\",\n",
        "\"teclado de computadora\": \"dispositivos eléctricos para el hogar\",\n",
        "\"lámpara\": \"dispositivos eléctricos para el hogar\",\n",
        "\"teléfono\": \"dispositivos eléctricos para el hogar\",\n",
        "\"televisión\": \"dispositivos eléctricos para el hogar\",\n",
        "\"cama\": \"muebles para el hogar\",\n",
        "\"silla\": \"muebles para el hogar\",\n",
        "\"sofá\": \"muebles para el hogar\",\n",
        "\"mesa\": \"muebles para el hogar\",\n",
        "\"armario\": \"muebles para el hogar\",\n",
        "\"abeja\": \"insectos\",\n",
        "\"escarabajo\": \"insectos\",\n",
        "\"mariposa\": \"insectos\",\n",
        "\"oruga\": \"insectos\",\n",
        "\"cucaracha\": \"insectos\",\n",
        "\"oso\": \"grandes carnívoros\",\n",
        "\"leopardo\": \"grandes carnívoros\",\n",
        "\"león\": \"grandes carnívoros\",\n",
        "\"tigre\": \"grandes carnívoros\",\n",
        "\"lobo\": \"grandes carnívoros\",\n",
        "\"puente\": \"grandes estructuras artificiales al aire libre\",\n",
        "\"castillo\": \"grandes estructuras artificiales al aire libre\",\n",
        "\"casa\": \"grandes estructuras artificiales al aire libre\",\n",
        "\"carretera\": \"grandes estructuras artificiales al aire libre\",\n",
        "\"rascacielos\": \"grandes estructuras artificiales al aire libre\",\n",
        "\"nube\": \"grandes escenas naturales al aire libre\",\n",
        "\"bosque\": \"grandes escenas naturales al aire libre\",\n",
        "\"montaña\": \"grandes escenas naturales al aire libre\",\n",
        "\"llanura\": \"grandes escenas naturales al aire libre\",\n",
        "\"mar\": \"grandes escenas naturales al aire libre\",\n",
        "\"camello\": \"grandes omnívoros y herbívoros\",\n",
        "\"ganado\": \"grandes omnívoros y herbívoros\",\n",
        "\"chimpancé\": \"grandes omnívoros y herbívoros\",\n",
        "\"elefante\": \"grandes omnívoros y herbívoros\",\n",
        "\"canguro\": \"grandes omnívoros y herbívoros\",\n",
        "\"zorro\": \"mamíferos de tamaño mediano\",\n",
        "\"puercoespín\": \"mamíferos de tamaño mediano\",\n",
        "\"zarigüeya\": \"mamíferos de tamaño mediano\",\n",
        "\"mapache\": \"mamíferos de tamaño mediano\",\n",
        "\"mofeta\": \"mamíferos de tamaño mediano\",\n",
        "\"cangrejo\": \"invertebrados no insectos\",\n",
        "\"langosta\": \"invertebrados no insectos\",\n",
        "\"caracol\": \"invertebrados no insectos\",\n",
        "\"araña\": \"invertebrados no insectos\",\n",
        "\"gusano\": \"invertebrados no insectos\",\n",
        "\"bebé\": \"personas\",\n",
        "\"niño\": \"personas\",\n",
        "\"niña\": \"personas\",\n",
        "\"hombre\": \"personas\",\n",
        "\"mujer\": \"personas\",\n",
        "\"cocodrilo\": \"reptiles\",\n",
        "\"dinosaurio\": \"reptiles\",\n",
        "\"lagarto\": \"reptiles\",\n",
        "\"serpiente\":\"reptiles\",\n",
        " \"tortuga\": \"reptiles\",\n",
        "\"hámster\": \"pequeños mamíferos\",\n",
        "\"ratón\": \"pequeños mamíferos\",\n",
        "\"conejo\": \"pequeños mamíferos\",\n",
        "\"musaraña\": \"pequeños mamíferos\",\n",
        "\"ardilla\": \"pequeños mamíferos\",\n",
        "\"arce\": \"árboles\",\n",
        "\"roble\": \"árboles\",\n",
        "\"palmera\": \"árboles\",\n",
        "\"pino\": \"árboles\",\n",
        "\"arbol de sauce\": \"árboles\",\n",
        "\"bicicleta\": \"vehículos 1\",\n",
        "\"autobús\": \"vehículos 1\",\n",
        "\"motocicleta\": \"vehículos 1\",\n",
        "\"camioneta\": \"vehículos 1\",\n",
        "\"tren\": \"vehículos 1\",\n",
        "\"cortacésped\": \"vehículos 2\",\n",
        "\"cohete\": \"vehículos 2\",\n",
        "\"tranvía\": \"vehículos 2\",\n",
        "\"tanque\": \"vehículos 2\",\n",
        "\"tractor\": \"vehículos 2\"\n",
        "}\n",
        "\n",
        "# Verificar si el número predicho está en el diccionario\n",
        "if etiqueta_predicha in etiquetas:\n",
        "    # Obtener la etiqueta correspondiente al número\n",
        "    etiqueta_predicha = etiquetas[etiqueta_predicha]\n",
        "    print(\"La clase de la imagen es:\", etiqueta_predicha)\n",
        "else:\n",
        "    print(\"Número no reconocido\")\n",
        "# Verificar si la clase está en la relación y obtener la superclase\n",
        "if etiqueta_predicha in relacion_clases_superclases:\n",
        "    superclase = relacion_clases_superclases[etiqueta_predicha]\n",
        "    print(f\"La superclase de la imagen es: {superclase}\")\n",
        "else:\n",
        "    print(f\"No se encontró información para la clase: {etiqueta_predicha}\")\n"
      ],
      "metadata": {
        "colab": {
          "base_uri": "https://localhost:8080/",
          "height": 499
        },
        "id": "dI40YNSXFf_5",
        "outputId": "5079744f-2b99-4e90-e6a5-622f6fb09800"
      },
      "execution_count": null,
      "outputs": [
        {
          "output_type": "display_data",
          "data": {
            "text/plain": [
              "<Figure size 640x480 with 1 Axes>"
            ],
            "image/png": "[encoded data removed]"
          },
          "metadata": {}
        },
        {
          "output_type": "stream",
          "name": "stdout",
          "text": [
            "1/1 [==============================] - 0s 365ms/step\n",
            "30\n",
            "La clase de la imagen es: delfín\n",
            "La superclase de la imagen es: mamíferos acuáticos\n"
          ]
        }
      ]
    },
    {
      "cell_type": "markdown",
      "source": [
        "Gráficas que nos muestran de forma mas intuitiva como ha ido el entrenamiento y de que forma ha ido variando la precisión y la pérdida."
      ],
      "metadata": {
        "id": "UVC-RlogP28t"
      }
    },
    {
      "cell_type": "code",
      "source": [
        "# Gráfica de precisión (accuracy)\n",
        "plt.figure(figsize=(12, 6))\n",
        "\n",
        "plt.subplot(1, 2, 1)\n",
        "plt.plot(history.history['accuracy'], label='Training Accuracy')\n",
        "plt.plot(history.history['val_accuracy'], label='Validation Accuracy')\n",
        "plt.xlabel('Epochs')\n",
        "plt.ylabel('Accuracy')\n",
        "plt.title('Training and Validation Accuracy')\n",
        "plt.legend()\n",
        "\n",
        "# Gráfica de pérdida (loss)\n",
        "plt.subplot(1, 2, 2)\n",
        "plt.plot(history.history['loss'], label='Training Loss')\n",
        "plt.plot(history.history['val_loss'], label='Validation Loss')\n",
        "plt.xlabel('Epochs')\n",
        "plt.ylabel('Loss')\n",
        "plt.title('Training and Validation Loss')\n",
        "plt.legend()\n",
        "\n",
        "plt.tight_layout()\n",
        "plt.show()\n"
      ],
      "metadata": {
        "colab": {
          "base_uri": "https://localhost:8080/",
          "height": 607
        },
        "id": "uiOv1iNBPd8U",
        "outputId": "bad092b4-9458-42ed-812a-a1c0df18708a"
      },
      "execution_count": null,
      "outputs": [
        {
          "output_type": "display_data",
          "data": {
            "text/plain": [
              "<Figure size 1200x600 with 2 Axes>"
            ],
            "image/png": "[encoded data removed]"
          },
          "metadata": {}
        }
      ]
    },
    {
      "cell_type": "markdown",
      "source": [
        "**MEMORIA**\n",
        "\n",
        "Nos encontramos ante un modelo de red neuronal que se compone de seis capas, que incluyen una capa de entrada, cuatro capas ocultas y una capa de salida con función de activación relu para clasificación.\n",
        "\n",
        "El modelo se entrenó durante 100 épocas con un tamaño de lote ajustado experimentalmente. Se implementó un mecanismo de parada temprana para prevenir el sobreajuste. La detención del entrenamiento se activó al observar un aumento en la tendencia de sobreajuste, asegurando que el modelo mantenga su capacidad de generalización.\n",
        "\n",
        "El modelo logró una precisión general del 55%, evaluada sobre un conjunto diverso de clases. Este rendimiento indica la capacidad del modelo para reconocer y clasificar imágenes, aunque se observó que en imagenes específicas se complica la distinción entre ciertas clases, como la diferenciación en alguna imagen de una manzana y con una pera.\n",
        "\n",
        "Este paso ha sido el más problematico ya que intenar subir la precisión ajustando el número de capas, las funciones de activación, el número de neuronas de cada capa y el número de épocas es algo muy complicado teniendo en cuenta lo que tarda en compilar cada vez. Por esta razón. implementar la función de sobreajuste nos ayudó mucho para conseguir lo que buscabamos.\n",
        "\n",
        "De la misma manera ha sido un dolor de muelas el crear los arrays con todos los nombres de cada una de las clases y superclases, todos escritos de la manera exacta para que no nos salte ningun error.\n",
        "\n",
        "**Conclusión:**\n",
        "\n",
        "El modelo ha demostrado su capacidad para reconocer y clasificar imágenes en un conjunto diverso de clases. Sin embargo, se requiere una evaluación y ajustes continuos para mejorar la precisión y la capacidad del modelo para distinguir entre clases cercanas y complejas. La implementación de estrategias adicionales de optimización y la exploración de técnicas avanzadas son pasos clave para alcanzar un rendimiento óptimo.\n",
        "\n",
        "En cuanto al trabajo personal del grupo nos ha resultado costoso elevar la precision del entrenamiento, hemos probado ocn muchos metodos, muchas modificaciones de capas y sus derivados y hemos llegado a máximo de precision de 0.55\n",
        "\n",
        "Tambien conseguimos con facilidad el etiquetar con nombre a el numero asociado a cada imagen con su clase y su superclase.\n"
      ],
      "metadata": {
        "id": "P9XTmhFMae7y"
      }
    }
  ],
  "metadata": {
    "colab": {
      "provenance": [],
      "gpuType": "T4",
      "include_colab_link": true
    },
    "kernelspec": {
      "display_name": "Python 3",
      "name": "python3"
    },
    "language_info": {
      "name": "python"
    },
    "accelerator": "GPU"
  },
  "nbformat": 4,
  "nbformat_minor": 0
}